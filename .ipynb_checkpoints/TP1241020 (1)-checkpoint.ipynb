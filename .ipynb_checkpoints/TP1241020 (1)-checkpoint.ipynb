{
 "cells": [
  {
   "cell_type": "markdown",
   "metadata": {},
   "source": [
    "DATASET Properati 142Mb\n",
    "\n",
    "Primero lo importamos"
   ]
  },
  {
   "cell_type": "code",
   "execution_count": 1,
   "metadata": {},
   "outputs": [],
   "source": [
    "import pandas as pd\n",
    "import numpy as np\n",
    "import seaborn as sns\n",
    "import matplotlib.pyplot as plt\n",
    "from geopy.geocoders import Nominatim\n",
    "import re\n",
    "\n",
    "data_location = \"Properati.csv\"\n",
    "data = pd.read_csv(data_location)\n",
    "data_original = pd.read_csv(data_location)\n",
    "data.head()\n",
    "data['description'] = data['description'].astype(str)"
   ]
  },
  {
   "cell_type": "raw",
   "metadata": {},
   "source": [
    "Averiguamos el tamaño"
   ]
  },
  {
   "cell_type": "code",
   "execution_count": 2,
   "metadata": {},
   "outputs": [],
   "source": [
    "#Definimos los patrones Regex\n",
    "patron_m2 = '(\\d{2,3})\\,?\\.?\\d?\\d?\\s?([Mm]\\.?\\s?[2²]|metros)'\n",
    "patron_amenities = r'([áa]reas? com[uú]ne?s?|amenities|[sz]um|gimnasio|solarium|sauna|g[iy]m|solarium)'\n",
    "patron_portero = r'(porter[oa]s?|encargad[oa]s?|seren[oa]s?)'\n",
    "patron_seguridad = r'(Seg\\.?u?r?i?d?a?d? 24\\s?ho?r?a?s|Prosegur|adt)'\n",
    "patron_aptoprof = r'(Apto Prof\\.?e?s?i?o?n?a?l?)'\n",
    "patron_terraza = r'(terrazas?)'\n",
    "patron_balcon = r'(balc[oó]ne?s?)'\n",
    "patron_patio = r'(patios?|jard[ií]ne?s?|zonas? verdes?)'\n",
    "patron_amb = r'((\\d{1,2})\\s?AMB)'\n",
    "patron_dorm = r'((\\d{1,2})\\s?(hab|dorm|cuart))'\n",
    "patron_disp = r'(frente|contrafrente|fondo|interno)'\n",
    "patron_vista = r'(vista)'\n",
    "patron_piso = r'((piso|planta)\\:?\\s? (\\d{1,2})(\\°|er|do|to|mo|vo|no|ro|ra|da|ta|ma|va|na|) |((\\d{1,2})(\\°|er|do|to|mo|vo|no|ro|ra|da|ta|ma|va|na|)\\s?(piso|planta)|planta baja|primer piso|primera planta|segundo piso|segunda planta|tercer piso|tercera planta|cuarto piso|cuarta planta|quinto piso|quinta planta|sexto piso|sexta planta|s[ée]ptimo piso|s[ée]ptima planta|[úu]ltim[oa] (piso|planta)))'\n",
    "patron_pozo = r'(pozo|construcci[oó]n|en obra)'\n",
    "patron_baulera = r'(baulera|guardamuebles)'\n",
    "patron_lavadero = r'(lavadero)'\n",
    "patron_garage = r'(gara[jg]es?|cocheras?|estacionamientos?)'\n",
    "patron_PH = r'(P\\.?\\s?H|Propi?e?d?a?d? hor)'\n",
    "patron_precio = r'(U[S$][DS]?)\\:?\\s?((\\d{5,8})\\,?\\d?\\d?|(\\d{2,3}\\.\\d{3})\\,?\\d?\\d?|(\\d{1,2}\\.\\d{3}\\.\\d{3})\\,?\\d?\\d?)|((\\d{5,8})\\,?\\d?\\d?|(\\d{2,3}\\.\\d{3})\\,?\\d?\\d?|(\\d{1,2}\\.\\d{3}\\.\\d{3})\\,?\\d?\\d?)\\s?(U[S$][DS]?|D[OÓ]LARES)'\n"
   ]
  },
  {
   "cell_type": "markdown",
   "metadata": {},
   "source": [
    "121220 propiedades separadas en 26 campos. Averiguamos el tipo de campo"
   ]
  },
  {
   "cell_type": "markdown",
   "metadata": {},
   "source": [
    "##columna de m2\n",
    "m2_regex = re.compile(patron_m2)\n",
    "data[\"m2_new\"] = data[\"m2_new\"].apply(lambda x: m2_regex.sub(cadena_reemplazo, x))"
   ]
  },
  {
   "cell_type": "code",
   "execution_count": 3,
   "metadata": {},
   "outputs": [
    {
     "name": "stdout",
     "output_type": "stream",
     "text": [
      "100.0    1126\n",
      "50.0     1045\n",
      "200.0     771\n",
      "40.0      752\n",
      "300.0     668\n",
      "         ... \n",
      "757.0       1\n",
      "657.0       1\n",
      "732.0       1\n",
      "773.0       1\n",
      "526.0       1\n",
      "Name: m2_new, Length: 723, dtype: int64\n"
     ]
    },
    {
     "data": {
      "image/png": "[encoded data removed]",
      "text/plain": [
       "<Figure size 432x288 with 1 Axes>"
      ]
     },
     "metadata": {
      "needs_background": "light"
     },
     "output_type": "display_data"
    }
   ],
   "source": [
    "##columna de m2 entre 22 y 800m2\n",
    "m2_regex = re.compile(patron_m2)\n",
    "resultado_m2 = data['description'].apply(lambda x: m2_regex.search(x))\n",
    "segresult_m2 = resultado_m2.apply(lambda x: np.NaN if x is None else x[1]).astype(float)\n",
    "segresult_m2[segresult_m2 > 800] = np.NaN\n",
    "segresult_m2[segresult_m2 < 22] = np.NaN\n",
    "data['m2_new'] = segresult_m2\n",
    "print(data['m2_new'].value_counts())\n",
    "p=sns.distplot(data['m2_new'])\n",
    "\n"
   ]
  },
  {
   "cell_type": "code",
   "execution_count": 4,
   "metadata": {},
   "outputs": [
    {
     "name": "stdout",
     "output_type": "stream",
     "text": [
      "0    94561\n",
      "1    26659\n",
      "Name: amenities, dtype: int64\n"
     ]
    }
   ],
   "source": [
    "##columna de amenities\n",
    "amenities_regex = re.compile(patron_amenities, re.IGNORECASE)\n",
    "resultado_amenities = data['description'].apply(lambda x: amenities_regex.search(x))\n",
    "data['amenities'] = resultado_amenities.apply(lambda x: 0 if x is None else 1)\n",
    "print(data['amenities'].value_counts())"
   ]
  },
  {
   "cell_type": "code",
   "execution_count": 5,
   "metadata": {},
   "outputs": [
    {
     "name": "stdout",
     "output_type": "stream",
     "text": [
      "0    117352\n",
      "1      3868\n",
      "Name: portero, dtype: int64\n"
     ]
    }
   ],
   "source": [
    "##columna de portero\n",
    "portero_regex = re.compile(patron_portero, re.IGNORECASE)\n",
    "resultado_portero = data['description'].apply(lambda x: portero_regex.search(x))\n",
    "data['portero'] = resultado_portero.apply(lambda x: 0 if x is None else 1)\n",
    "print(data['portero'].value_counts())"
   ]
  },
  {
   "cell_type": "code",
   "execution_count": 6,
   "metadata": {},
   "outputs": [
    {
     "name": "stdout",
     "output_type": "stream",
     "text": [
      "0    118389\n",
      "1      2831\n",
      "Name: seguridad, dtype: int64\n"
     ]
    }
   ],
   "source": [
    "##columna de seguridad\n",
    "seguridad_regex = re.compile(patron_seguridad, re.IGNORECASE)\n",
    "resultado_seguridad = data['description'].apply(lambda x: seguridad_regex.search(x))\n",
    "data['seguridad'] = resultado_seguridad.apply(lambda x: 0 if x is None else 1)\n",
    "print(data['seguridad'].value_counts())"
   ]
  },
  {
   "cell_type": "code",
   "execution_count": 7,
   "metadata": {},
   "outputs": [
    {
     "name": "stdout",
     "output_type": "stream",
     "text": [
      "0    116283\n",
      "1      4937\n",
      "Name: aptoprof, dtype: int64\n"
     ]
    }
   ],
   "source": [
    "##columna de Apto Profesional\n",
    "aptoprof_regex = re.compile(patron_aptoprof, re.IGNORECASE)\n",
    "resultado_aptoprof = data['description'].apply(lambda x: aptoprof_regex.search(x))\n",
    "data['aptoprof'] = resultado_aptoprof.apply(lambda x: 0 if x is None else 1)\n",
    "print(data['aptoprof'].value_counts())"
   ]
  },
  {
   "cell_type": "code",
   "execution_count": 8,
   "metadata": {},
   "outputs": [
    {
     "name": "stdout",
     "output_type": "stream",
     "text": [
      "0    93711\n",
      "1    27509\n",
      "Name: terraza, dtype: int64\n"
     ]
    }
   ],
   "source": [
    "##columna de terraza\n",
    "terraza_regex = re.compile(patron_terraza, re.IGNORECASE)\n",
    "resultado_terraza = data['description'].apply(lambda x: terraza_regex.search(x))\n",
    "data['terraza'] = resultado_terraza.apply(lambda x: 0 if x is None else 1)\n",
    "print(data['terraza'].value_counts())"
   ]
  },
  {
   "cell_type": "code",
   "execution_count": 9,
   "metadata": {},
   "outputs": [
    {
     "name": "stdout",
     "output_type": "stream",
     "text": [
      "0    78081\n",
      "1    43139\n",
      "Name: balcon, dtype: int64\n"
     ]
    }
   ],
   "source": [
    "##columna de balcon\n",
    "balcon_regex = re.compile(patron_balcon, re.IGNORECASE)\n",
    "resultado_balcon = data['description'].apply(lambda x: balcon_regex.search(x))\n",
    "data['balcon'] = resultado_balcon.apply(lambda x: 0 if x is None else 1)\n",
    "print(data['balcon'].value_counts())"
   ]
  },
  {
   "cell_type": "code",
   "execution_count": 10,
   "metadata": {},
   "outputs": [
    {
     "name": "stdout",
     "output_type": "stream",
     "text": [
      "0    86037\n",
      "1    35183\n",
      "Name: patio, dtype: int64\n"
     ]
    }
   ],
   "source": [
    "##columna de patio\n",
    "patio_regex = re.compile(patron_patio, re.IGNORECASE)\n",
    "resultado_patio = data['description'].apply(lambda x: patio_regex.search(x))\n",
    "data['patio'] = resultado_patio.apply(lambda x: 0 if x is None else 1)\n",
    "print(data['patio'].value_counts())"
   ]
  },
  {
   "cell_type": "code",
   "execution_count": 11,
   "metadata": {},
   "outputs": [
    {
     "name": "stdout",
     "output_type": "stream",
     "text": [
      "2.0     13020\n",
      "3.0     12354\n",
      "4.0      6816\n",
      "1.0      2753\n",
      "5.0      1896\n",
      "6.0       556\n",
      "7.0       226\n",
      "8.0        39\n",
      "9.0        21\n",
      "0.0        19\n",
      "10.0       14\n",
      "11.0       13\n",
      "12.0        5\n",
      "Name: amb, dtype: int64\n"
     ]
    },
    {
     "data": {
      "image/png": "[encoded data removed]",
      "text/plain": [
       "<Figure size 432x288 with 1 Axes>"
      ]
     },
     "metadata": {
      "needs_background": "light"
     },
     "output_type": "display_data"
    }
   ],
   "source": [
    "##columna de amb\n",
    "amb_regex = re.compile(patron_amb, re.IGNORECASE)\n",
    "resultado_amb = data['description'].apply(lambda x: amb_regex.search(x))\n",
    "segresult_amb = resultado_amb.apply(lambda x: np.NaN if x is None else x[2]).astype(float)\n",
    "segresult_amb[segresult_amb > 12] = np.NaN\n",
    "data['amb'] = segresult_amb\n",
    "print(data['amb'].value_counts())\n",
    "p=sns.distplot(data['amb'])"
   ]
  },
  {
   "cell_type": "code",
   "execution_count": 12,
   "metadata": {},
   "outputs": [
    {
     "name": "stdout",
     "output_type": "stream",
     "text": [
      "2.0     17451\n",
      "3.0     13637\n",
      "1.0      7945\n",
      "4.0      3610\n",
      "5.0       624\n",
      "6.0       112\n",
      "0.0        37\n",
      "7.0        36\n",
      "8.0        30\n",
      "10.0       27\n",
      "9.0        23\n",
      "11.0       11\n",
      "12.0        9\n",
      "Name: dorm, dtype: int64\n"
     ]
    },
    {
     "data": {
      "image/png": "[encoded data removed]",
      "text/plain": [
       "<Figure size 432x288 with 1 Axes>"
      ]
     },
     "metadata": {
      "needs_background": "light"
     },
     "output_type": "display_data"
    }
   ],
   "source": [
    "##columna de dorm\n",
    "dorm_regex = re.compile(patron_dorm, re.IGNORECASE)\n",
    "resultado_dorm = data['description'].apply(lambda x: dorm_regex.search(x))\n",
    "segresult_dorm = resultado_dorm.apply(lambda x: np.NaN if x is None else x[2]).astype(float)\n",
    "segresult_dorm[segresult_dorm > 12] = np.NaN\n",
    "data['dorm'] = segresult_dorm\n",
    "print(data['dorm'].value_counts())\n",
    "p=sns.distplot(data['dorm'])"
   ]
  },
  {
   "cell_type": "code",
   "execution_count": 13,
   "metadata": {},
   "outputs": [
    {
     "name": "stdout",
     "output_type": "stream",
     "text": [
      "1.0    32982\n",
      "0.0    13743\n",
      "Name: disp, dtype: int64\n"
     ]
    }
   ],
   "source": [
    "##columna de disp\n",
    "disp_regex = re.compile(patron_disp, re.IGNORECASE)\n",
    "resultado_disp = data['description'].apply(lambda x: disp_regex.search(x))\n",
    "segresult_disp = resultado_disp.apply(lambda x: x if x is None else x[1])\n",
    "segresult_disp.astype(str)\n",
    "segresult_disp[segresult_disp.str.lower() == \"frente\"] = \"1\"\n",
    "segresult_disp[segresult_disp.str.lower() == \"fondo\"] = \"0\"\n",
    "segresult_disp[segresult_disp.str.lower() == \"contrafrente\"] = \"0\"\n",
    "segresult_disp[segresult_disp.str.lower() == \"interno\"] = \"0\"\n",
    "segresult_disp = segresult_disp.apply(lambda x: np.nan if x is None else x).astype(float)\n",
    "data['disp'] = segresult_disp\n",
    "print(data['disp'].value_counts())"
   ]
  },
  {
   "cell_type": "code",
   "execution_count": 14,
   "metadata": {},
   "outputs": [
    {
     "name": "stdout",
     "output_type": "stream",
     "text": [
      "0    96828\n",
      "1    24392\n",
      "Name: vista, dtype: int64\n"
     ]
    }
   ],
   "source": [
    "##columna de vista\n",
    "vista_regex = re.compile(patron_vista, re.IGNORECASE)\n",
    "resultado_vista = data['description'].apply(lambda x: vista_regex.search(x))\n",
    "data['vista'] = resultado_vista.apply(lambda x: 0 if x is None else 1)\n",
    "print(data['vista'].value_counts())"
   ]
  },
  {
   "cell_type": "code",
   "execution_count": 15,
   "metadata": {},
   "outputs": [
    {
     "name": "stdout",
     "output_type": "stream",
     "text": [
      "planta baja    8229\n",
      "Planta Baja    3400\n",
      "PLANTA BAJA    2802\n",
      "2 planta       2464\n",
      "Planta baja    1910\n",
      "               ... \n",
      "55 piso           1\n",
      "68 Piso           1\n",
      "36 PISO           1\n",
      "piso 90           1\n",
      "PLANTA 1          1\n",
      "Name: piso, Length: 810, dtype: int64\n"
     ]
    }
   ],
   "source": [
    "##columna de piso\n",
    "piso_regex = re.compile(patron_piso, re.IGNORECASE)\n",
    "resultado_piso = data['description'].apply(lambda x: piso_regex.search(x))\n",
    "data['piso'] = resultado_piso.apply(lambda x: x if x is None else x[0])\n",
    "print(data['piso'].value_counts())"
   ]
  },
  {
   "cell_type": "code",
   "execution_count": 16,
   "metadata": {},
   "outputs": [
    {
     "name": "stdout",
     "output_type": "stream",
     "text": [
      "41786     PLANTA 0\n",
      "51146      2o piso\n",
      "61930         None\n",
      "1262          None\n",
      "119064    planta 0\n",
      "76635       1 PISO\n",
      "15956         None\n",
      "46159       6 piso\n",
      "91602      10 piso\n",
      "73412     Planta 0\n",
      "106798        None\n",
      "62101         None\n",
      "37642         None\n",
      "2644          None\n",
      "111629        None\n",
      "116205    Planta 0\n",
      "86123      13 piso\n",
      "67126     planta 0\n",
      "6734          None\n",
      "77123         None\n",
      "Name: piso2, dtype: object\n"
     ]
    }
   ],
   "source": [
    "## COlumna de piso, limpieza con diccionario\n",
    "repl_dict = {re.compile('1°|01|1er|primer', re.IGNORECASE): '1',\n",
    "             re.compile('baja', re.IGNORECASE): '0',\n",
    "             re.compile('2°|2do|segund', re.IGNORECASE): '2',\n",
    "             re.compile('3°|3er|tercer', re.IGNORECASE): '3',\n",
    "             re.compile('4°|4to|cuart', re.IGNORECASE): '4',\n",
    "             re.compile('5°|5to|quint', re.IGNORECASE): '5',\n",
    "             re.compile('6°|6to|sext', re.IGNORECASE): '6',\n",
    "             re.compile('7°|7mo|s[eé]ptim', re.IGNORECASE): '7',\n",
    "             re.compile('8°|8vo|octav', re.IGNORECASE): '8',\n",
    "             re.compile('9°|9no|noven', re.IGNORECASE): '9',\n",
    "             re.compile('10°|10mo|diez', re.IGNORECASE): '10',\n",
    "             re.compile('11°|11ro|once', re.IGNORECASE): '11',\n",
    "             re.compile('12°|12do|doce', re.IGNORECASE): '12',\n",
    "             re.compile('13°|13ro|trece', re.IGNORECASE): '13',\n",
    "             re.compile('14°|14to|catorce', re.IGNORECASE): '14',\n",
    "             re.compile('15°|15to|quince', re.IGNORECASE): '15',\n",
    "             re.compile('16°|16to|dieciseis', re.IGNORECASE): '16',\n",
    "             re.compile('17°|17mo|diecisiete', re.IGNORECASE): '17',\n",
    "             re.compile('18°|18mo|dieciocho', re.IGNORECASE): '18',\n",
    "             re.compile('19°|19no|diecinueve', re.IGNORECASE): '19',\n",
    "             re.compile('20°|20[mv]o|veinte', re.IGNORECASE): '20'}\n",
    "data['piso2'] = data['piso'].replace(repl_dict, regex=True)\n",
    "print(data['piso2'].sample(n=20))"
   ]
  },
  {
   "cell_type": "code",
   "execution_count": 17,
   "metadata": {},
   "outputs": [
    {
     "name": "stdout",
     "output_type": "stream",
     "text": [
      "0            0\n",
      "1         None\n",
      "2            3\n",
      "3         None\n",
      "4         None\n",
      "          ... \n",
      "121215    None\n",
      "121216    None\n",
      "121217    None\n",
      "121218    None\n",
      "121219    None\n",
      "Name: piso3, Length: 121220, dtype: object\n"
     ]
    }
   ],
   "source": [
    "## COlumna de piso, limpieza con diccionario\n",
    "repl_dict2 = {re.compile('\\D', re.IGNORECASE): ''}\n",
    "data['piso3'] = data['piso2'].replace(repl_dict2, regex=True)\n",
    "print(data['piso3'])"
   ]
  },
  {
   "cell_type": "code",
   "execution_count": 18,
   "metadata": {},
   "outputs": [
    {
     "name": "stdout",
     "output_type": "stream",
     "text": [
      "0         0.0\n",
      "1         NaN\n",
      "2         3.0\n",
      "3         NaN\n",
      "4         NaN\n",
      "         ... \n",
      "121215    NaN\n",
      "121216    NaN\n",
      "121217    NaN\n",
      "121218    NaN\n",
      "121219    NaN\n",
      "Name: piso3, Length: 121220, dtype: float64\n"
     ]
    },
    {
     "data": {
      "image/png": "[encoded data removed]",
      "text/plain": [
       "<Figure size 432x288 with 1 Axes>"
      ]
     },
     "metadata": {
      "needs_background": "light"
     },
     "output_type": "display_data"
    }
   ],
   "source": [
    "data['piso3'] = pd.to_numeric(data['piso3'], downcast='float')\n",
    "data['piso3'] = data['piso3'].apply(lambda x: x if x < 20 else np.NaN)\n",
    "print(data['piso3'])\n",
    "p=sns.distplot(data['piso3'], kde=True)\n",
    "#finalmente nos quedamos solo con la columna piso3, las otras fueron de trabajo"
   ]
  },
  {
   "cell_type": "code",
   "execution_count": 19,
   "metadata": {},
   "outputs": [
    {
     "name": "stdout",
     "output_type": "stream",
     "text": [
      "0    108193\n",
      "1     13027\n",
      "Name: pozo, dtype: int64\n"
     ]
    }
   ],
   "source": [
    "##columna de pozo\n",
    "pozo_regex = re.compile(patron_pozo, re.IGNORECASE)\n",
    "resultado_pozo = data['description'].apply(lambda x: pozo_regex.search(x))\n",
    "data['pozo'] = resultado_pozo.apply(lambda x: 0 if x is None else 1)\n",
    "print(data['pozo'].value_counts())"
   ]
  },
  {
   "cell_type": "code",
   "execution_count": 20,
   "metadata": {},
   "outputs": [
    {
     "name": "stdout",
     "output_type": "stream",
     "text": [
      "0    110425\n",
      "1     10795\n",
      "Name: baulera, dtype: int64\n"
     ]
    }
   ],
   "source": [
    "##columna de baulera\n",
    "baulera_regex = re.compile(patron_baulera, re.IGNORECASE)\n",
    "resultado_baulera = data['description'].apply(lambda x: baulera_regex.search(x))\n",
    "data['baulera'] = resultado_baulera.apply(lambda x: 0 if x is None else 1)\n",
    "print(data['baulera'].value_counts())"
   ]
  },
  {
   "cell_type": "code",
   "execution_count": 21,
   "metadata": {},
   "outputs": [
    {
     "name": "stdout",
     "output_type": "stream",
     "text": [
      "0    82891\n",
      "1    38329\n",
      "Name: lavadero, dtype: int64\n"
     ]
    }
   ],
   "source": [
    "##columna de lavadero\n",
    "lavadero_regex = re.compile(patron_lavadero, re.IGNORECASE)\n",
    "resultado_lavadero = data['description'].apply(lambda x: lavadero_regex.search(x))\n",
    "data['lavadero'] = resultado_lavadero.apply(lambda x: 0 if x is None else 1)\n",
    "print(data['lavadero'].value_counts())"
   ]
  },
  {
   "cell_type": "code",
   "execution_count": 22,
   "metadata": {},
   "outputs": [
    {
     "name": "stdout",
     "output_type": "stream",
     "text": [
      "0    67343\n",
      "1    53877\n",
      "Name: garage, dtype: int64\n"
     ]
    }
   ],
   "source": [
    "##columna de garage\n",
    "garage_regex = re.compile(patron_garage, re.IGNORECASE)\n",
    "resultado_garage = data['description'].apply(lambda x: garage_regex.search(x))\n",
    "data['garage'] = resultado_garage.apply(lambda x: 0 if x is None else 1)\n",
    "print(data['garage'].value_counts())"
   ]
  },
  {
   "cell_type": "code",
   "execution_count": 23,
   "metadata": {},
   "outputs": [
    {
     "name": "stdout",
     "output_type": "stream",
     "text": [
      "0    115207\n",
      "1      6013\n",
      "Name: PH, dtype: int64\n"
     ]
    }
   ],
   "source": [
    "##columna de PH\n",
    "PH_regex = re.compile(patron_PH, re.IGNORECASE)\n",
    "resultado_PH = data['description'].apply(lambda x: PH_regex.search(x))\n",
    "data['PH'] = resultado_PH.apply(lambda x: 0 if x is None else 1)\n",
    "print(data['PH'].value_counts())"
   ]
  },
  {
   "cell_type": "code",
   "execution_count": 24,
   "metadata": {},
   "outputs": [
    {
     "name": "stdout",
     "output_type": "stream",
     "text": [
      "U$S 20.000     138\n",
      "U$S 25.000     137\n",
      "USD 120000     135\n",
      "USD 130000     133\n",
      "u$s20.000      114\n",
      "              ... \n",
      "USD 330.000      1\n",
      "u$s48.000        1\n",
      "u$s 96.000       1\n",
      "usd280.000       1\n",
      "U$S 111.700      1\n",
      "Name: precio, Length: 2972, dtype: int64\n"
     ]
    }
   ],
   "source": [
    "##columna de precio\n",
    "precio_regex = re.compile(patron_precio, re.IGNORECASE)\n",
    "resultado_precio = data['description'].apply(lambda x: precio_regex.search(x))\n",
    "data['precio'] = resultado_precio.apply(lambda x: x if x is None else x[0])\n",
    "print(data['precio'].value_counts())"
   ]
  },
  {
   "cell_type": "code",
   "execution_count": 25,
   "metadata": {},
   "outputs": [
    {
     "name": "stdout",
     "output_type": "stream",
     "text": [
      "120000.0    255\n",
      "130000.0    223\n",
      "75000.0     212\n",
      "110000.0    205\n",
      "85000.0     202\n",
      "           ... \n",
      "123552.0      1\n",
      "123500.0      1\n",
      "493910.0      1\n",
      "297137.0      1\n",
      "327779.0      1\n",
      "Name: precio3, Length: 1017, dtype: int64\n"
     ]
    },
    {
     "data": {
      "image/png": "[encoded data removed]",
      "text/plain": [
       "<Figure size 432x288 with 1 Axes>"
      ]
     },
     "metadata": {
      "needs_background": "light"
     },
     "output_type": "display_data"
    }
   ],
   "source": [
    "repl_dict3 = {re.compile('\\,\\d\\d$|\\.|\\s', re.IGNORECASE): ''}\n",
    "data['precio2'] = data['precio'].replace(repl_dict3, regex=True)\n",
    "repl_dict4 = {re.compile('\\D', re.IGNORECASE): ''}\n",
    "data['precio3'] = data['precio2'].replace(repl_dict4, regex=True)\n",
    "data['precio3'] = data['precio3'].astype(float)\n",
    "data['precio3'] = data['precio3'].apply(lambda x: np.NaN if x > 2000000 else x)\n",
    "data['precio3'] = data['precio3'].apply(lambda x: np.NaN if x < 40000 else x)\n",
    "print(data['precio3'].value_counts())\n",
    "p=sns.distplot(data['precio3'])\n",
    "#Eliminadas las props de mas de 2 millones USD y menos de 40k USD"
   ]
  },
  {
   "cell_type": "code",
   "execution_count": 26,
   "metadata": {},
   "outputs": [
    {
     "data": {
      "text/plain": [
       "Index(['Unnamed: 0', 'operation', 'property_type', 'place_name',\n",
       "       'place_with_parent_names', 'country_name', 'state_name', 'geonames_id',\n",
       "       'lat-lon', 'lat', 'lon', 'price', 'currency',\n",
       "       'price_aprox_local_currency', 'price_aprox_usd', 'surface_total_in_m2',\n",
       "       'surface_covered_in_m2', 'price_usd_per_m2', 'price_per_m2', 'floor',\n",
       "       'rooms', 'expenses', 'properati_url', 'description', 'title',\n",
       "       'image_thumbnail', 'm2_new', 'amenities', 'portero', 'seguridad',\n",
       "       'aptoprof', 'terraza', 'balcon', 'patio', 'amb', 'dorm', 'disp',\n",
       "       'vista', 'piso', 'piso2', 'piso3', 'pozo', 'baulera', 'lavadero',\n",
       "       'garage', 'PH', 'precio', 'precio2', 'precio3'],\n",
       "      dtype='object')"
      ]
     },
     "execution_count": 26,
     "metadata": {},
     "output_type": "execute_result"
    }
   ],
   "source": [
    "data.sample()\n",
    "data.columns"
   ]
  },
  {
   "cell_type": "code",
   "execution_count": 27,
   "metadata": {},
   "outputs": [],
   "source": [
    "#data.drop([\"piso\",\"piso2\",\"precio\",\"precio2\"], axis=1).to_csv(r'Archivo_Ivan.csv')"
   ]
  },
  {
   "cell_type": "code",
   "execution_count": 28,
   "metadata": {},
   "outputs": [
    {
     "name": "stdout",
     "output_type": "stream",
     "text": [
      "False    81892\n",
      "True     39328\n",
      "Name: surface_total_in_m2, dtype: int64\n"
     ]
    },
    {
     "data": {
      "text/plain": [
       "True     30783\n",
       "False     8545\n",
       "Name: m2_new, dtype: int64"
      ]
     },
     "execution_count": 28,
     "metadata": {},
     "output_type": "execute_result"
    }
   ],
   "source": [
    "mask_data_m2_null = data['surface_total_in_m2'].isnull()\n",
    "print(mask_data_m2_null.value_counts())\n",
    "mask_data_m2_null = data['surface_total_in_m2'].isnull()\n",
    "data.loc[mask_data_m2_null,'m2_new'].isnull().value_counts()"
   ]
  },
  {
   "cell_type": "code",
   "execution_count": 29,
   "metadata": {},
   "outputs": [
    {
     "name": "stderr",
     "output_type": "stream",
     "text": [
      "C:\\Users\\User\\anaconda3\\envs\\dhdsblend\\lib\\site-packages\\ipykernel_launcher.py:5: SettingWithCopyWarning: \n",
      "A value is trying to be set on a copy of a slice from a DataFrame\n",
      "\n",
      "See the caveats in the documentation: https://pandas.pydata.org/pandas-docs/stable/user_guide/indexing.html#returning-a-view-versus-a-copy\n",
      "  \"\"\"\n"
     ]
    },
    {
     "data": {
      "text/plain": [
       "count    87176.000000\n",
       "mean       143.958337\n",
       "std        148.359105\n",
       "min          0.000000\n",
       "25%         50.000000\n",
       "50%         81.000000\n",
       "75%        185.000000\n",
       "max        800.000000\n",
       "Name: m2_final, dtype: float64"
      ]
     },
     "execution_count": 29,
     "metadata": {},
     "output_type": "execute_result"
    }
   ],
   "source": [
    "#creo nueva columna de m2 totales\n",
    "data['m2_final'] = data['surface_total_in_m2']\n",
    "mask_null_m2_final = data['surface_total_in_m2'].isnull()\n",
    "data.loc[mask_null_m2_final, 'm2_final'] = data.loc[mask_null_m2_final,'m2_new']\n",
    "data[\"m2_final\"][data[\"m2_final\"] > 800] = np.NaN\n",
    "data['m2_final'].isnull().value_counts()\n",
    "data[['surface_total_in_m2','m2_final','m2_new']].sample(20)\n",
    "data['m2_final'].describe()\n",
    "\n"
   ]
  },
  {
   "cell_type": "code",
   "execution_count": 30,
   "metadata": {},
   "outputs": [
    {
     "name": "stdout",
     "output_type": "stream",
     "text": [
      "False    100810\n",
      "True      20410\n",
      "Name: price_aprox_usd, dtype: int64\n"
     ]
    },
    {
     "data": {
      "text/plain": [
       "True     19991\n",
       "False      419\n",
       "Name: precio3, dtype: int64"
      ]
     },
     "execution_count": 30,
     "metadata": {},
     "output_type": "execute_result"
    }
   ],
   "source": [
    "#me fijo donde estan los nulls en la columna orifinal 'price_aprox_usd'\n",
    "mask_null_precio_final = data['price_aprox_usd'].isnull()\n",
    "data.loc[mask_null_precio_final,'precio3'].isnull().value_counts()\n",
    "print(mask_null_precio_final.value_counts())\n",
    "data.loc[mask_null_precio_final,'precio3'].isnull().value_counts()"
   ]
  },
  {
   "cell_type": "code",
   "execution_count": 31,
   "metadata": {},
   "outputs": [
    {
     "name": "stdout",
     "output_type": "stream",
     "text": [
      "False    101229\n",
      "True      19991\n",
      "Name: precio_final, dtype: int64\n"
     ]
    },
    {
     "data": {
      "text/html": [
       "<div>\n",
       "<style scoped>\n",
       "    .dataframe tbody tr th:only-of-type {\n",
       "        vertical-align: middle;\n",
       "    }\n",
       "\n",
       "    .dataframe tbody tr th {\n",
       "        vertical-align: top;\n",
       "    }\n",
       "\n",
       "    .dataframe thead th {\n",
       "        text-align: right;\n",
       "    }\n",
       "</style>\n",
       "<table border=\"1\" class=\"dataframe\">\n",
       "  <thead>\n",
       "    <tr style=\"text-align: right;\">\n",
       "      <th></th>\n",
       "      <th>price_aprox_usd</th>\n",
       "      <th>precio_final</th>\n",
       "      <th>precio3</th>\n",
       "    </tr>\n",
       "  </thead>\n",
       "  <tbody>\n",
       "    <tr>\n",
       "      <th>107119</th>\n",
       "      <td>NaN</td>\n",
       "      <td>NaN</td>\n",
       "      <td>NaN</td>\n",
       "    </tr>\n",
       "    <tr>\n",
       "      <th>4326</th>\n",
       "      <td>750000.0</td>\n",
       "      <td>750000.0</td>\n",
       "      <td>750000.0</td>\n",
       "    </tr>\n",
       "    <tr>\n",
       "      <th>75962</th>\n",
       "      <td>198495.0</td>\n",
       "      <td>198495.0</td>\n",
       "      <td>NaN</td>\n",
       "    </tr>\n",
       "    <tr>\n",
       "      <th>1107</th>\n",
       "      <td>NaN</td>\n",
       "      <td>NaN</td>\n",
       "      <td>NaN</td>\n",
       "    </tr>\n",
       "    <tr>\n",
       "      <th>32668</th>\n",
       "      <td>140000.0</td>\n",
       "      <td>140000.0</td>\n",
       "      <td>NaN</td>\n",
       "    </tr>\n",
       "    <tr>\n",
       "      <th>113933</th>\n",
       "      <td>114000.0</td>\n",
       "      <td>114000.0</td>\n",
       "      <td>NaN</td>\n",
       "    </tr>\n",
       "    <tr>\n",
       "      <th>83431</th>\n",
       "      <td>130000.0</td>\n",
       "      <td>130000.0</td>\n",
       "      <td>NaN</td>\n",
       "    </tr>\n",
       "    <tr>\n",
       "      <th>77461</th>\n",
       "      <td>230000.0</td>\n",
       "      <td>230000.0</td>\n",
       "      <td>NaN</td>\n",
       "    </tr>\n",
       "    <tr>\n",
       "      <th>114114</th>\n",
       "      <td>49000.0</td>\n",
       "      <td>49000.0</td>\n",
       "      <td>49000.0</td>\n",
       "    </tr>\n",
       "    <tr>\n",
       "      <th>17118</th>\n",
       "      <td>450000.0</td>\n",
       "      <td>450000.0</td>\n",
       "      <td>NaN</td>\n",
       "    </tr>\n",
       "    <tr>\n",
       "      <th>103675</th>\n",
       "      <td>104000.0</td>\n",
       "      <td>104000.0</td>\n",
       "      <td>NaN</td>\n",
       "    </tr>\n",
       "    <tr>\n",
       "      <th>59578</th>\n",
       "      <td>65000.0</td>\n",
       "      <td>65000.0</td>\n",
       "      <td>NaN</td>\n",
       "    </tr>\n",
       "    <tr>\n",
       "      <th>3820</th>\n",
       "      <td>NaN</td>\n",
       "      <td>NaN</td>\n",
       "      <td>NaN</td>\n",
       "    </tr>\n",
       "    <tr>\n",
       "      <th>26253</th>\n",
       "      <td>658701.0</td>\n",
       "      <td>658701.0</td>\n",
       "      <td>NaN</td>\n",
       "    </tr>\n",
       "    <tr>\n",
       "      <th>6828</th>\n",
       "      <td>155000.0</td>\n",
       "      <td>155000.0</td>\n",
       "      <td>155000.0</td>\n",
       "    </tr>\n",
       "    <tr>\n",
       "      <th>101177</th>\n",
       "      <td>320000.0</td>\n",
       "      <td>320000.0</td>\n",
       "      <td>NaN</td>\n",
       "    </tr>\n",
       "    <tr>\n",
       "      <th>18369</th>\n",
       "      <td>99900.0</td>\n",
       "      <td>99900.0</td>\n",
       "      <td>NaN</td>\n",
       "    </tr>\n",
       "    <tr>\n",
       "      <th>6577</th>\n",
       "      <td>50475.3</td>\n",
       "      <td>50475.3</td>\n",
       "      <td>NaN</td>\n",
       "    </tr>\n",
       "    <tr>\n",
       "      <th>32600</th>\n",
       "      <td>174000.0</td>\n",
       "      <td>174000.0</td>\n",
       "      <td>NaN</td>\n",
       "    </tr>\n",
       "    <tr>\n",
       "      <th>33604</th>\n",
       "      <td>179018.0</td>\n",
       "      <td>179018.0</td>\n",
       "      <td>NaN</td>\n",
       "    </tr>\n",
       "  </tbody>\n",
       "</table>\n",
       "</div>"
      ],
      "text/plain": [
       "        price_aprox_usd  precio_final   precio3\n",
       "107119              NaN           NaN       NaN\n",
       "4326           750000.0      750000.0  750000.0\n",
       "75962          198495.0      198495.0       NaN\n",
       "1107                NaN           NaN       NaN\n",
       "32668          140000.0      140000.0       NaN\n",
       "113933         114000.0      114000.0       NaN\n",
       "83431          130000.0      130000.0       NaN\n",
       "77461          230000.0      230000.0       NaN\n",
       "114114          49000.0       49000.0   49000.0\n",
       "17118          450000.0      450000.0       NaN\n",
       "103675         104000.0      104000.0       NaN\n",
       "59578           65000.0       65000.0       NaN\n",
       "3820                NaN           NaN       NaN\n",
       "26253          658701.0      658701.0       NaN\n",
       "6828           155000.0      155000.0  155000.0\n",
       "101177         320000.0      320000.0       NaN\n",
       "18369           99900.0       99900.0       NaN\n",
       "6577            50475.3       50475.3       NaN\n",
       "32600          174000.0      174000.0       NaN\n",
       "33604          179018.0      179018.0       NaN"
      ]
     },
     "execution_count": 31,
     "metadata": {},
     "output_type": "execute_result"
    }
   ],
   "source": [
    "#creo nueva columna de precio y reemplazo con valores encontradops por regex\n",
    "data['precio_final'] = data['price_aprox_usd']\n",
    "mask_null_precio_final = data['price_aprox_usd'].isnull()\n",
    "data.loc[mask_null_precio_final, 'precio_final'] = data.loc[mask_null_precio_final,'precio3']\n",
    "print(data['precio_final'].isnull().value_counts())\n",
    "data[['price_aprox_usd','precio_final','precio3']].sample(20)"
   ]
  },
  {
   "cell_type": "code",
   "execution_count": 32,
   "metadata": {},
   "outputs": [
    {
     "name": "stdout",
     "output_type": "stream",
     "text": [
      "True     113321\n",
      "False      7899\n",
      "Name: floor, dtype: int64\n"
     ]
    },
    {
     "data": {
      "text/plain": [
       "True     79000\n",
       "False    34321\n",
       "Name: piso3, dtype: int64"
      ]
     },
     "execution_count": 32,
     "metadata": {},
     "output_type": "execute_result"
    }
   ],
   "source": [
    "#me fijo donde estan los nulls en la columna orifinal 'floor'\n",
    "mask_null_piso_final = data['floor'].isnull()\n",
    "data.loc[mask_null_piso_final,'piso3'].isnull().value_counts()\n",
    "print(mask_null_piso_final.value_counts())\n",
    "data.loc[mask_null_piso_final,'piso3'].isnull().value_counts()"
   ]
  },
  {
   "cell_type": "code",
   "execution_count": 33,
   "metadata": {},
   "outputs": [
    {
     "name": "stdout",
     "output_type": "stream",
     "text": [
      "True     79265\n",
      "False    41955\n",
      "Name: piso_final, dtype: int64\n"
     ]
    },
    {
     "data": {
      "text/html": [
       "<div>\n",
       "<style scoped>\n",
       "    .dataframe tbody tr th:only-of-type {\n",
       "        vertical-align: middle;\n",
       "    }\n",
       "\n",
       "    .dataframe tbody tr th {\n",
       "        vertical-align: top;\n",
       "    }\n",
       "\n",
       "    .dataframe thead th {\n",
       "        text-align: right;\n",
       "    }\n",
       "</style>\n",
       "<table border=\"1\" class=\"dataframe\">\n",
       "  <thead>\n",
       "    <tr style=\"text-align: right;\">\n",
       "      <th></th>\n",
       "      <th>floor</th>\n",
       "      <th>piso_final</th>\n",
       "      <th>piso3</th>\n",
       "    </tr>\n",
       "  </thead>\n",
       "  <tbody>\n",
       "    <tr>\n",
       "      <th>38089</th>\n",
       "      <td>NaN</td>\n",
       "      <td>NaN</td>\n",
       "      <td>NaN</td>\n",
       "    </tr>\n",
       "    <tr>\n",
       "      <th>94807</th>\n",
       "      <td>NaN</td>\n",
       "      <td>NaN</td>\n",
       "      <td>NaN</td>\n",
       "    </tr>\n",
       "    <tr>\n",
       "      <th>50642</th>\n",
       "      <td>NaN</td>\n",
       "      <td>NaN</td>\n",
       "      <td>NaN</td>\n",
       "    </tr>\n",
       "    <tr>\n",
       "      <th>58975</th>\n",
       "      <td>NaN</td>\n",
       "      <td>NaN</td>\n",
       "      <td>NaN</td>\n",
       "    </tr>\n",
       "    <tr>\n",
       "      <th>41073</th>\n",
       "      <td>NaN</td>\n",
       "      <td>NaN</td>\n",
       "      <td>NaN</td>\n",
       "    </tr>\n",
       "    <tr>\n",
       "      <th>15827</th>\n",
       "      <td>NaN</td>\n",
       "      <td>NaN</td>\n",
       "      <td>NaN</td>\n",
       "    </tr>\n",
       "    <tr>\n",
       "      <th>93587</th>\n",
       "      <td>NaN</td>\n",
       "      <td>NaN</td>\n",
       "      <td>NaN</td>\n",
       "    </tr>\n",
       "    <tr>\n",
       "      <th>103076</th>\n",
       "      <td>NaN</td>\n",
       "      <td>NaN</td>\n",
       "      <td>NaN</td>\n",
       "    </tr>\n",
       "    <tr>\n",
       "      <th>47957</th>\n",
       "      <td>NaN</td>\n",
       "      <td>0.0</td>\n",
       "      <td>0.0</td>\n",
       "    </tr>\n",
       "    <tr>\n",
       "      <th>59030</th>\n",
       "      <td>NaN</td>\n",
       "      <td>2.0</td>\n",
       "      <td>2.0</td>\n",
       "    </tr>\n",
       "    <tr>\n",
       "      <th>112437</th>\n",
       "      <td>NaN</td>\n",
       "      <td>8.0</td>\n",
       "      <td>8.0</td>\n",
       "    </tr>\n",
       "    <tr>\n",
       "      <th>45233</th>\n",
       "      <td>NaN</td>\n",
       "      <td>NaN</td>\n",
       "      <td>NaN</td>\n",
       "    </tr>\n",
       "    <tr>\n",
       "      <th>58751</th>\n",
       "      <td>NaN</td>\n",
       "      <td>NaN</td>\n",
       "      <td>NaN</td>\n",
       "    </tr>\n",
       "    <tr>\n",
       "      <th>76579</th>\n",
       "      <td>NaN</td>\n",
       "      <td>NaN</td>\n",
       "      <td>NaN</td>\n",
       "    </tr>\n",
       "    <tr>\n",
       "      <th>10533</th>\n",
       "      <td>NaN</td>\n",
       "      <td>NaN</td>\n",
       "      <td>NaN</td>\n",
       "    </tr>\n",
       "    <tr>\n",
       "      <th>60648</th>\n",
       "      <td>NaN</td>\n",
       "      <td>0.0</td>\n",
       "      <td>0.0</td>\n",
       "    </tr>\n",
       "    <tr>\n",
       "      <th>32232</th>\n",
       "      <td>4.0</td>\n",
       "      <td>4.0</td>\n",
       "      <td>NaN</td>\n",
       "    </tr>\n",
       "    <tr>\n",
       "      <th>62879</th>\n",
       "      <td>NaN</td>\n",
       "      <td>NaN</td>\n",
       "      <td>NaN</td>\n",
       "    </tr>\n",
       "    <tr>\n",
       "      <th>14912</th>\n",
       "      <td>NaN</td>\n",
       "      <td>NaN</td>\n",
       "      <td>NaN</td>\n",
       "    </tr>\n",
       "    <tr>\n",
       "      <th>52758</th>\n",
       "      <td>NaN</td>\n",
       "      <td>NaN</td>\n",
       "      <td>NaN</td>\n",
       "    </tr>\n",
       "  </tbody>\n",
       "</table>\n",
       "</div>"
      ],
      "text/plain": [
       "        floor  piso_final  piso3\n",
       "38089     NaN         NaN    NaN\n",
       "94807     NaN         NaN    NaN\n",
       "50642     NaN         NaN    NaN\n",
       "58975     NaN         NaN    NaN\n",
       "41073     NaN         NaN    NaN\n",
       "15827     NaN         NaN    NaN\n",
       "93587     NaN         NaN    NaN\n",
       "103076    NaN         NaN    NaN\n",
       "47957     NaN         0.0    0.0\n",
       "59030     NaN         2.0    2.0\n",
       "112437    NaN         8.0    8.0\n",
       "45233     NaN         NaN    NaN\n",
       "58751     NaN         NaN    NaN\n",
       "76579     NaN         NaN    NaN\n",
       "10533     NaN         NaN    NaN\n",
       "60648     NaN         0.0    0.0\n",
       "32232     4.0         4.0    NaN\n",
       "62879     NaN         NaN    NaN\n",
       "14912     NaN         NaN    NaN\n",
       "52758     NaN         NaN    NaN"
      ]
     },
     "execution_count": 33,
     "metadata": {},
     "output_type": "execute_result"
    }
   ],
   "source": [
    "#Hago reemplazo\n",
    "data['piso_final'] = data['floor']\n",
    "mask_null_piso_final = data['floor'].isnull()\n",
    "data.loc[mask_null_piso_final, 'piso_final'] = data.loc[mask_null_piso_final,'piso3']\n",
    "#A los que tienen mas dde 20 pisos los consideramos error y los cambiamos por NaN\n",
    "mask_piso_max = data['piso_final'] > 20\n",
    "data.loc[mask_piso_max,'piso_final'] = np.NaN\n",
    "print(data['piso_final'].isnull().value_counts())\n",
    "data[['floor','piso_final','piso3']].sample(20)"
   ]
  },
  {
   "cell_type": "code",
   "execution_count": 34,
   "metadata": {},
   "outputs": [
    {
     "name": "stdout",
     "output_type": "stream",
     "text": [
      "Los nulos en el orignal son: 73830\n"
     ]
    },
    {
     "data": {
      "text/plain": [
       "True     54792\n",
       "False    19038\n",
       "Name: amb, dtype: int64"
      ]
     },
     "execution_count": 34,
     "metadata": {},
     "output_type": "execute_result"
    }
   ],
   "source": [
    "#me fijo donde estan los nulls en la columna orifinal 'rooms'\n",
    "mask_null_amb_final = data['rooms'].isnull()\n",
    "data.loc[mask_null_amb_final,'amb'].isnull().value_counts()\n",
    "print('Los nulos en el orignal son:',mask_null_amb_final.sum())\n",
    "data.loc[mask_null_amb_final,'amb'].isnull().value_counts()"
   ]
  },
  {
   "cell_type": "code",
   "execution_count": 35,
   "metadata": {},
   "outputs": [
    {
     "name": "stdout",
     "output_type": "stream",
     "text": [
      "False    66117\n",
      "True     55103\n",
      "Name: amb_final, dtype: int64\n"
     ]
    },
    {
     "data": {
      "text/html": [
       "<div>\n",
       "<style scoped>\n",
       "    .dataframe tbody tr th:only-of-type {\n",
       "        vertical-align: middle;\n",
       "    }\n",
       "\n",
       "    .dataframe tbody tr th {\n",
       "        vertical-align: top;\n",
       "    }\n",
       "\n",
       "    .dataframe thead th {\n",
       "        text-align: right;\n",
       "    }\n",
       "</style>\n",
       "<table border=\"1\" class=\"dataframe\">\n",
       "  <thead>\n",
       "    <tr style=\"text-align: right;\">\n",
       "      <th></th>\n",
       "      <th>rooms</th>\n",
       "      <th>amb_final</th>\n",
       "      <th>amb</th>\n",
       "    </tr>\n",
       "  </thead>\n",
       "  <tbody>\n",
       "    <tr>\n",
       "      <th>69628</th>\n",
       "      <td>NaN</td>\n",
       "      <td>NaN</td>\n",
       "      <td>NaN</td>\n",
       "    </tr>\n",
       "    <tr>\n",
       "      <th>6367</th>\n",
       "      <td>3.0</td>\n",
       "      <td>3.0</td>\n",
       "      <td>3.0</td>\n",
       "    </tr>\n",
       "    <tr>\n",
       "      <th>104525</th>\n",
       "      <td>NaN</td>\n",
       "      <td>NaN</td>\n",
       "      <td>NaN</td>\n",
       "    </tr>\n",
       "    <tr>\n",
       "      <th>15644</th>\n",
       "      <td>3.0</td>\n",
       "      <td>3.0</td>\n",
       "      <td>3.0</td>\n",
       "    </tr>\n",
       "    <tr>\n",
       "      <th>87853</th>\n",
       "      <td>NaN</td>\n",
       "      <td>4.0</td>\n",
       "      <td>4.0</td>\n",
       "    </tr>\n",
       "    <tr>\n",
       "      <th>87841</th>\n",
       "      <td>NaN</td>\n",
       "      <td>NaN</td>\n",
       "      <td>NaN</td>\n",
       "    </tr>\n",
       "    <tr>\n",
       "      <th>24801</th>\n",
       "      <td>4.0</td>\n",
       "      <td>4.0</td>\n",
       "      <td>NaN</td>\n",
       "    </tr>\n",
       "    <tr>\n",
       "      <th>75633</th>\n",
       "      <td>NaN</td>\n",
       "      <td>NaN</td>\n",
       "      <td>NaN</td>\n",
       "    </tr>\n",
       "    <tr>\n",
       "      <th>80535</th>\n",
       "      <td>NaN</td>\n",
       "      <td>NaN</td>\n",
       "      <td>NaN</td>\n",
       "    </tr>\n",
       "    <tr>\n",
       "      <th>17840</th>\n",
       "      <td>2.0</td>\n",
       "      <td>2.0</td>\n",
       "      <td>2.0</td>\n",
       "    </tr>\n",
       "    <tr>\n",
       "      <th>35025</th>\n",
       "      <td>NaN</td>\n",
       "      <td>2.0</td>\n",
       "      <td>2.0</td>\n",
       "    </tr>\n",
       "    <tr>\n",
       "      <th>16309</th>\n",
       "      <td>NaN</td>\n",
       "      <td>NaN</td>\n",
       "      <td>NaN</td>\n",
       "    </tr>\n",
       "    <tr>\n",
       "      <th>118315</th>\n",
       "      <td>NaN</td>\n",
       "      <td>NaN</td>\n",
       "      <td>NaN</td>\n",
       "    </tr>\n",
       "    <tr>\n",
       "      <th>16631</th>\n",
       "      <td>NaN</td>\n",
       "      <td>1.0</td>\n",
       "      <td>1.0</td>\n",
       "    </tr>\n",
       "    <tr>\n",
       "      <th>119943</th>\n",
       "      <td>1.0</td>\n",
       "      <td>1.0</td>\n",
       "      <td>NaN</td>\n",
       "    </tr>\n",
       "    <tr>\n",
       "      <th>107932</th>\n",
       "      <td>NaN</td>\n",
       "      <td>NaN</td>\n",
       "      <td>NaN</td>\n",
       "    </tr>\n",
       "    <tr>\n",
       "      <th>88830</th>\n",
       "      <td>NaN</td>\n",
       "      <td>NaN</td>\n",
       "      <td>NaN</td>\n",
       "    </tr>\n",
       "    <tr>\n",
       "      <th>105091</th>\n",
       "      <td>NaN</td>\n",
       "      <td>NaN</td>\n",
       "      <td>NaN</td>\n",
       "    </tr>\n",
       "    <tr>\n",
       "      <th>37249</th>\n",
       "      <td>3.0</td>\n",
       "      <td>3.0</td>\n",
       "      <td>NaN</td>\n",
       "    </tr>\n",
       "    <tr>\n",
       "      <th>90487</th>\n",
       "      <td>NaN</td>\n",
       "      <td>NaN</td>\n",
       "      <td>NaN</td>\n",
       "    </tr>\n",
       "  </tbody>\n",
       "</table>\n",
       "</div>"
      ],
      "text/plain": [
       "        rooms  amb_final  amb\n",
       "69628     NaN        NaN  NaN\n",
       "6367      3.0        3.0  3.0\n",
       "104525    NaN        NaN  NaN\n",
       "15644     3.0        3.0  3.0\n",
       "87853     NaN        4.0  4.0\n",
       "87841     NaN        NaN  NaN\n",
       "24801     4.0        4.0  NaN\n",
       "75633     NaN        NaN  NaN\n",
       "80535     NaN        NaN  NaN\n",
       "17840     2.0        2.0  2.0\n",
       "35025     NaN        2.0  2.0\n",
       "16309     NaN        NaN  NaN\n",
       "118315    NaN        NaN  NaN\n",
       "16631     NaN        1.0  1.0\n",
       "119943    1.0        1.0  NaN\n",
       "107932    NaN        NaN  NaN\n",
       "88830     NaN        NaN  NaN\n",
       "105091    NaN        NaN  NaN\n",
       "37249     3.0        3.0  NaN\n",
       "90487     NaN        NaN  NaN"
      ]
     },
     "execution_count": 35,
     "metadata": {},
     "output_type": "execute_result"
    }
   ],
   "source": [
    "#Hago reemplazo\n",
    "data['amb_final'] = data['rooms']\n",
    "mask_null_amb_final = data['rooms'].isnull()\n",
    "data.loc[mask_null_amb_final, 'amb_final'] = data.loc[mask_null_amb_final,'amb']\n",
    "#A los que tienen mas dde 10 ambientes los consideramos error y los cambiamos por NaN\n",
    "mask_piso_max = data['amb_final'] > 10\n",
    "data.loc[mask_piso_max,'amb_final'] = np.NaN\n",
    "print(data['amb_final'].isnull().value_counts())\n",
    "data[['rooms','amb_final','amb']].sample(20)\n",
    "\n",
    "\n"
   ]
  },
  {
   "cell_type": "markdown",
   "metadata": {},
   "source": []
  },
  {
   "cell_type": "code",
   "execution_count": null,
   "metadata": {},
   "outputs": [],
   "source": []
  },
  {
   "cell_type": "code",
   "execution_count": null,
   "metadata": {},
   "outputs": [],
   "source": []
  },
  {
   "cell_type": "code",
   "execution_count": null,
   "metadata": {},
   "outputs": [],
   "source": []
  },
  {
   "cell_type": "code",
   "execution_count": 36,
   "metadata": {},
   "outputs": [
    {
     "name": "stdout",
     "output_type": "stream",
     "text": [
      "87176\n"
     ]
    }
   ],
   "source": [
    "#Recalculo de precio por metro cuadrado\n",
    "mask_m2_final_not_null = data['m2_final'].notnull()\n",
    "print(mask_m2_final_not_null.sum())\n"
   ]
  },
  {
   "cell_type": "code",
   "execution_count": 37,
   "metadata": {},
   "outputs": [],
   "source": [
    "data['precio_por_m2_final'] = data['price_per_m2']\n",
    "data.loc[mask_m2_final_not_null,'precio_por_m2_final'] = data.loc[mask_m2_final_not_null,'precio_final']/data.loc[mask_m2_final_not_null,'m2_final']\n",
    "mask_condicion_precio_m2 = np.logical_or(data['precio_por_m2_final'] < 500 , data['precio_por_m2_final']>7000)\n",
    "#reemplazo los que no cumplen la condicion por np.NaN\n",
    "data.loc[mask_condicion_precio_m2,'precio_por_m2_final'] = np.NaN\n"
   ]
  },
  {
   "cell_type": "code",
   "execution_count": 38,
   "metadata": {},
   "outputs": [
    {
     "name": "stdout",
     "output_type": "stream",
     "text": [
      "0                   [Argentina, Capital Federal, Mataderos]\n",
      "1             [Argentina, Bs.As. G.B.A. Zona Sur, La Plata]\n",
      "2                   [Argentina, Capital Federal, Mataderos]\n",
      "3                     [Argentina, Capital Federal, Liniers]\n",
      "4         [Argentina, Buenos Aires Costa Atlántica, Mar ...\n",
      "                                ...                        \n",
      "121215               [Argentina, Capital Federal, Belgrano]\n",
      "121216    [Argentina, Bs.As. G.B.A. Zona Norte, San Isid...\n",
      "121217          [Argentina, Capital Federal, Villa Urquiza]\n",
      "121218    [Argentina, Buenos Aires Costa Atlántica, Mar ...\n",
      "121219                         [Argentina, Capital Federal]\n",
      "Name: place_with_parent_names, Length: 121220, dtype: object\n"
     ]
    },
    {
     "data": {
      "text/plain": [
       "list"
      ]
     },
     "execution_count": 38,
     "metadata": {},
     "output_type": "execute_result"
    }
   ],
   "source": [
    "#Primero elimino las barras al inicio y al final de los registros\n",
    "import re\n",
    "\n",
    "patron_1 = '^\\|+'\n",
    "patron_2 = '\\|+$'\n",
    "regex_1 = re.compile(patron_1)\n",
    "regex_2= re.compile(patron_2)\n",
    "\n",
    "place_with_parent_names_sin_barras_al_inicio = data['place_with_parent_names'].apply(lambda x: regex_1.sub('',x) )\n",
    "place_with_parent_names_sin_barras_al_inicio_ni_al_final = place_with_parent_names_sin_barras_al_inicio.apply(lambda x :regex_2.sub('',x) )\n",
    "place_with_parent_names_sin_barras_al_inicio_ni_al_final\n",
    "\n",
    "place_with_parent_names_SERIE = place_with_parent_names_sin_barras_al_inicio_ni_al_final.apply(lambda x: x.split('|'))\n",
    "print(place_with_parent_names_SERIE)\n",
    "\n",
    "place_with_parent_names_SERIE.index\n",
    "\n",
    "#Pais = place_with_parent_names_SERIE.apply(lambda x : x[i][0] for i in place_with_parent_names_SERIE.index)\n",
    "type(place_with_parent_names_SERIE[0])\n"
   ]
  },
  {
   "cell_type": "code",
   "execution_count": 39,
   "metadata": {},
   "outputs": [
    {
     "name": "stdout",
     "output_type": "stream",
     "text": [
      "             Pais                     Provincia         Ciudad         Zona  \\\n",
      "0       Argentina               Capital Federal      Mataderos         None   \n",
      "1       Argentina        Bs.As. G.B.A. Zona Sur       La Plata         None   \n",
      "2       Argentina               Capital Federal      Mataderos         None   \n",
      "3       Argentina               Capital Federal        Liniers         None   \n",
      "4       Argentina  Buenos Aires Costa Atlántica  Mar del Plata       Centro   \n",
      "...           ...                           ...            ...          ...   \n",
      "121215  Argentina               Capital Federal       Belgrano         None   \n",
      "121216  Argentina      Bs.As. G.B.A. Zona Norte     San Isidro       Beccar   \n",
      "121217  Argentina               Capital Federal  Villa Urquiza         None   \n",
      "121218  Argentina  Buenos Aires Costa Atlántica  Mar del Plata  Plaza Colón   \n",
      "121219  Argentina               Capital Federal           None         None   \n",
      "\n",
      "       Barrio  \n",
      "0        None  \n",
      "1        None  \n",
      "2        None  \n",
      "3        None  \n",
      "4        None  \n",
      "...       ...  \n",
      "121215   None  \n",
      "121216   None  \n",
      "121217   None  \n",
      "121218   None  \n",
      "121219   None  \n",
      "\n",
      "[121220 rows x 5 columns]\n",
      "False    116440\n",
      "True       4780\n",
      "Name: Ciudad, dtype: int64\n"
     ]
    }
   ],
   "source": [
    "#Creo una lista para despues pasarlo a un DataFrame\n",
    "lista=list(place_with_parent_names_SERIE)\n",
    "data_lugares = pd.DataFrame(lista,columns=['Pais','Provincia','Ciudad','Zona','Barrio'])\n",
    "print(data_lugares)\n",
    "print(data_lugares['Ciudad'].isnull().value_counts())\n",
    "\n"
   ]
  },
  {
   "cell_type": "code",
   "execution_count": 40,
   "metadata": {},
   "outputs": [
    {
     "name": "stdout",
     "output_type": "stream",
     "text": [
      "Los registros nulls en la columna Ciudad son: 4780\n"
     ]
    },
    {
     "data": {
      "text/plain": [
       "Departamento - Nueva Cordoba                                                1001\n",
       "Departamento en P.Chacabuco                                                  237\n",
       "Departamento en Nueva Cordoba                                                 87\n",
       "Departamento - Capital                                                        70\n",
       "CASA EN VENTA                                                                 60\n",
       "                                                                            ... \n",
       "DEPARTAMENTO VENTA NUEVA CORDOBA -CON RENTA                                    1\n",
       "Casa 577m² con Dependencias, Argentina, Capital Federal, por U$S 630.000       1\n",
       "Casa 880m² con Teléfono, Argentina, Capital Federal, por U$S 415.000           1\n",
       "Casa 600m² con 3 Plantas, Argentina, Capital Federal, por U$S 365.000          1\n",
       "***Piso de lujo fte Plaza España***                                            1\n",
       "Name: title, Length: 2533, dtype: int64"
      ]
     },
     "execution_count": 40,
     "metadata": {},
     "output_type": "execute_result"
    }
   ],
   "source": [
    "#De los null que hay en la columna ciudad, busco sus respectivos datos en la columna 'title'\n",
    "print('Los registros nulls en la columna Ciudad son:',data_lugares['Ciudad'].isnull().sum())\n",
    "#De esos nulls busco en la columna title si tengo alguna informacion\n",
    "mask_null_ciudad = data_lugares['Ciudad'].isnull()\n",
    "data.loc[mask_null_ciudad,'title'].value_counts()"
   ]
  },
  {
   "cell_type": "code",
   "execution_count": 41,
   "metadata": {},
   "outputs": [],
   "source": [
    "#localizo los indices de los titles que dicen Departamento - Nueva Cordoba o Departamento en Nueva Cordoba\n",
    "mask_nueva_cordoba = np.logical_or(data['title'] == 'Departamento - Nueva Cordoba',data['title']=='Departamento en Nueva Cordoba')\n",
    "#reemplazo en los null en 'Zona' por esos valores\n",
    "data_lugares.loc[mask_nueva_cordoba,'Zona'] = 'Nueva Cordoba'"
   ]
  },
  {
   "cell_type": "code",
   "execution_count": 42,
   "metadata": {},
   "outputs": [
    {
     "data": {
      "text/html": [
       "<div>\n",
       "<style scoped>\n",
       "    .dataframe tbody tr th:only-of-type {\n",
       "        vertical-align: middle;\n",
       "    }\n",
       "\n",
       "    .dataframe tbody tr th {\n",
       "        vertical-align: top;\n",
       "    }\n",
       "\n",
       "    .dataframe thead th {\n",
       "        text-align: right;\n",
       "    }\n",
       "</style>\n",
       "<table border=\"1\" class=\"dataframe\">\n",
       "  <thead>\n",
       "    <tr style=\"text-align: right;\">\n",
       "      <th></th>\n",
       "      <th>Pais</th>\n",
       "      <th>Provincia</th>\n",
       "      <th>Ciudad</th>\n",
       "      <th>Zona</th>\n",
       "      <th>Barrio</th>\n",
       "    </tr>\n",
       "  </thead>\n",
       "  <tbody>\n",
       "    <tr>\n",
       "      <th>68792</th>\n",
       "      <td>Argentina</td>\n",
       "      <td>Capital Federal</td>\n",
       "      <td>P.Chacabuco</td>\n",
       "      <td>None</td>\n",
       "      <td>None</td>\n",
       "    </tr>\n",
       "    <tr>\n",
       "      <th>68802</th>\n",
       "      <td>Argentina</td>\n",
       "      <td>Capital Federal</td>\n",
       "      <td>P.Chacabuco</td>\n",
       "      <td>None</td>\n",
       "      <td>None</td>\n",
       "    </tr>\n",
       "    <tr>\n",
       "      <th>68813</th>\n",
       "      <td>Argentina</td>\n",
       "      <td>Capital Federal</td>\n",
       "      <td>P.Chacabuco</td>\n",
       "      <td>None</td>\n",
       "      <td>None</td>\n",
       "    </tr>\n",
       "    <tr>\n",
       "      <th>68821</th>\n",
       "      <td>Argentina</td>\n",
       "      <td>Capital Federal</td>\n",
       "      <td>P.Chacabuco</td>\n",
       "      <td>None</td>\n",
       "      <td>None</td>\n",
       "    </tr>\n",
       "    <tr>\n",
       "      <th>68835</th>\n",
       "      <td>Argentina</td>\n",
       "      <td>Capital Federal</td>\n",
       "      <td>P.Chacabuco</td>\n",
       "      <td>None</td>\n",
       "      <td>None</td>\n",
       "    </tr>\n",
       "  </tbody>\n",
       "</table>\n",
       "</div>"
      ],
      "text/plain": [
       "            Pais        Provincia       Ciudad  Zona Barrio\n",
       "68792  Argentina  Capital Federal  P.Chacabuco  None   None\n",
       "68802  Argentina  Capital Federal  P.Chacabuco  None   None\n",
       "68813  Argentina  Capital Federal  P.Chacabuco  None   None\n",
       "68821  Argentina  Capital Federal  P.Chacabuco  None   None\n",
       "68835  Argentina  Capital Federal  P.Chacabuco  None   None"
      ]
     },
     "execution_count": 42,
     "metadata": {},
     "output_type": "execute_result"
    }
   ],
   "source": [
    "#localizo los indices de los titles que dicen Departamento en P.Chacabuco\n",
    "mask_chacabuco = data['title'] == 'Departamento en P.Chacabuco'\n",
    "data_lugares.loc[mask_chacabuco,'Ciudad'] = 'P.Chacabuco'\n",
    "data_lugares[mask_chacabuco].head()"
   ]
  },
  {
   "cell_type": "code",
   "execution_count": 43,
   "metadata": {},
   "outputs": [
    {
     "name": "stdout",
     "output_type": "stream",
     "text": [
      "4543\n",
      "La cantidad inicial de nulos en la columna ciudad es: 4543\n"
     ]
    },
    {
     "data": {
      "text/html": [
       "<div>\n",
       "<style scoped>\n",
       "    .dataframe tbody tr th:only-of-type {\n",
       "        vertical-align: middle;\n",
       "    }\n",
       "\n",
       "    .dataframe tbody tr th {\n",
       "        vertical-align: top;\n",
       "    }\n",
       "\n",
       "    .dataframe thead th {\n",
       "        text-align: right;\n",
       "    }\n",
       "</style>\n",
       "<table border=\"1\" class=\"dataframe\">\n",
       "  <thead>\n",
       "    <tr style=\"text-align: right;\">\n",
       "      <th></th>\n",
       "      <th>Pais</th>\n",
       "      <th>Provincia</th>\n",
       "      <th>Ciudad</th>\n",
       "      <th>Zona</th>\n",
       "      <th>Barrio</th>\n",
       "    </tr>\n",
       "  </thead>\n",
       "  <tbody>\n",
       "    <tr>\n",
       "      <th>0</th>\n",
       "      <td>Argentina</td>\n",
       "      <td>Capital Federal</td>\n",
       "      <td>Mataderos</td>\n",
       "      <td>None</td>\n",
       "      <td>None</td>\n",
       "    </tr>\n",
       "    <tr>\n",
       "      <th>1</th>\n",
       "      <td>Argentina</td>\n",
       "      <td>Bs.As. G.B.A. Zona Sur</td>\n",
       "      <td>La Plata</td>\n",
       "      <td>None</td>\n",
       "      <td>None</td>\n",
       "    </tr>\n",
       "    <tr>\n",
       "      <th>2</th>\n",
       "      <td>Argentina</td>\n",
       "      <td>Capital Federal</td>\n",
       "      <td>Mataderos</td>\n",
       "      <td>None</td>\n",
       "      <td>None</td>\n",
       "    </tr>\n",
       "    <tr>\n",
       "      <th>3</th>\n",
       "      <td>Argentina</td>\n",
       "      <td>Capital Federal</td>\n",
       "      <td>Liniers</td>\n",
       "      <td>None</td>\n",
       "      <td>None</td>\n",
       "    </tr>\n",
       "    <tr>\n",
       "      <th>4</th>\n",
       "      <td>Argentina</td>\n",
       "      <td>Buenos Aires Costa Atlántica</td>\n",
       "      <td>Mar del Plata</td>\n",
       "      <td>Centro</td>\n",
       "      <td>None</td>\n",
       "    </tr>\n",
       "    <tr>\n",
       "      <th>...</th>\n",
       "      <td>...</td>\n",
       "      <td>...</td>\n",
       "      <td>...</td>\n",
       "      <td>...</td>\n",
       "      <td>...</td>\n",
       "    </tr>\n",
       "    <tr>\n",
       "      <th>121215</th>\n",
       "      <td>Argentina</td>\n",
       "      <td>Capital Federal</td>\n",
       "      <td>Belgrano</td>\n",
       "      <td>None</td>\n",
       "      <td>None</td>\n",
       "    </tr>\n",
       "    <tr>\n",
       "      <th>121216</th>\n",
       "      <td>Argentina</td>\n",
       "      <td>Bs.As. G.B.A. Zona Norte</td>\n",
       "      <td>San Isidro</td>\n",
       "      <td>Beccar</td>\n",
       "      <td>None</td>\n",
       "    </tr>\n",
       "    <tr>\n",
       "      <th>121217</th>\n",
       "      <td>Argentina</td>\n",
       "      <td>Capital Federal</td>\n",
       "      <td>Villa Urquiza</td>\n",
       "      <td>None</td>\n",
       "      <td>None</td>\n",
       "    </tr>\n",
       "    <tr>\n",
       "      <th>121218</th>\n",
       "      <td>Argentina</td>\n",
       "      <td>Buenos Aires Costa Atlántica</td>\n",
       "      <td>Mar del Plata</td>\n",
       "      <td>Plaza Colón</td>\n",
       "      <td>None</td>\n",
       "    </tr>\n",
       "    <tr>\n",
       "      <th>121219</th>\n",
       "      <td>Argentina</td>\n",
       "      <td>Capital Federal</td>\n",
       "      <td>Capital Federal</td>\n",
       "      <td>None</td>\n",
       "      <td>None</td>\n",
       "    </tr>\n",
       "  </tbody>\n",
       "</table>\n",
       "<p>121220 rows × 5 columns</p>\n",
       "</div>"
      ],
      "text/plain": [
       "             Pais                     Provincia           Ciudad         Zona  \\\n",
       "0       Argentina               Capital Federal        Mataderos         None   \n",
       "1       Argentina        Bs.As. G.B.A. Zona Sur         La Plata         None   \n",
       "2       Argentina               Capital Federal        Mataderos         None   \n",
       "3       Argentina               Capital Federal          Liniers         None   \n",
       "4       Argentina  Buenos Aires Costa Atlántica    Mar del Plata       Centro   \n",
       "...           ...                           ...              ...          ...   \n",
       "121215  Argentina               Capital Federal         Belgrano         None   \n",
       "121216  Argentina      Bs.As. G.B.A. Zona Norte       San Isidro       Beccar   \n",
       "121217  Argentina               Capital Federal    Villa Urquiza         None   \n",
       "121218  Argentina  Buenos Aires Costa Atlántica    Mar del Plata  Plaza Colón   \n",
       "121219  Argentina               Capital Federal  Capital Federal         None   \n",
       "\n",
       "       Barrio  \n",
       "0        None  \n",
       "1        None  \n",
       "2        None  \n",
       "3        None  \n",
       "4        None  \n",
       "...       ...  \n",
       "121215   None  \n",
       "121216   None  \n",
       "121217   None  \n",
       "121218   None  \n",
       "121219   None  \n",
       "\n",
       "[121220 rows x 5 columns]"
      ]
     },
     "execution_count": 43,
     "metadata": {},
     "output_type": "execute_result"
    }
   ],
   "source": [
    "#Reemplazo todos los nulls que quedan en 'Ciudad' por su respectivo valor de la columna 'Provincia'\n",
    "mask_null_ciudad= data_lugares['Ciudad'].isnull()\n",
    "print(mask_null_ciudad.sum())\n",
    "data['Ciudad_final'] = data_lugares['Ciudad']\n",
    "print('La cantidad inicial de nulos en la columna ciudad es:',data['Ciudad_final'].isnull().sum())\n",
    "\n",
    "data_lugares['Ciudad_final'] = data_lugares['Ciudad']\n",
    "mask_ciudad_null = data_lugares['Ciudad'].isnull()\n",
    "data_lugares.loc[mask_ciudad_null,'Ciudad_final'] = data_lugares.loc[mask_ciudad_null,'Provincia']\n",
    "\n",
    "data[['Pais','Provincia','Ciudad','Zona','Barrio']] = data_lugares[['Pais','Provincia','Ciudad_final','Zona','Barrio']]\n",
    "\n",
    "\n",
    "data[['Pais','Provincia','Ciudad','Zona','Barrio']]\n",
    "\n",
    "\n",
    "\n"
   ]
  },
  {
   "cell_type": "code",
   "execution_count": 44,
   "metadata": {},
   "outputs": [
    {
     "data": {
      "text/plain": [
       "4543"
      ]
     },
     "execution_count": 44,
     "metadata": {},
     "output_type": "execute_result"
    }
   ],
   "source": [
    "mask_null_lugares=data_lugares['Ciudad'].isnull()\n",
    "\n",
    "mask_null_lugares.sum()"
   ]
  },
  {
   "cell_type": "code",
   "execution_count": 45,
   "metadata": {},
   "outputs": [
    {
     "data": {
      "text/plain": [
       "51550"
      ]
     },
     "execution_count": 45,
     "metadata": {},
     "output_type": "execute_result"
    }
   ],
   "source": [
    "mask_null_latlon=data['lat-lon'].isnull()\n",
    "\n",
    "mask_null_latlon.sum()"
   ]
  },
  {
   "cell_type": "code",
   "execution_count": 46,
   "metadata": {},
   "outputs": [
    {
     "name": "stdout",
     "output_type": "stream",
     "text": [
      "<class 'pandas.core.frame.DataFrame'>\n",
      "RangeIndex: 121220 entries, 0 to 121219\n",
      "Data columns (total 60 columns):\n",
      " #   Column                      Non-Null Count   Dtype  \n",
      "---  ------                      --------------   -----  \n",
      " 0   Unnamed: 0                  121220 non-null  int64  \n",
      " 1   operation                   121220 non-null  object \n",
      " 2   property_type               121220 non-null  object \n",
      " 3   place_name                  121197 non-null  object \n",
      " 4   place_with_parent_names     121220 non-null  object \n",
      " 5   country_name                121220 non-null  object \n",
      " 6   state_name                  121220 non-null  object \n",
      " 7   geonames_id                 102503 non-null  float64\n",
      " 8   lat-lon                     69670 non-null   object \n",
      " 9   lat                         69670 non-null   float64\n",
      " 10  lon                         69670 non-null   float64\n",
      " 11  price                       100810 non-null  float64\n",
      " 12  currency                    100809 non-null  object \n",
      " 13  price_aprox_local_currency  100810 non-null  float64\n",
      " 14  price_aprox_usd             100810 non-null  float64\n",
      " 15  surface_total_in_m2         81892 non-null   float64\n",
      " 16  surface_covered_in_m2       101313 non-null  float64\n",
      " 17  price_usd_per_m2            68617 non-null   float64\n",
      " 18  price_per_m2                87658 non-null   float64\n",
      " 19  floor                       7899 non-null    float64\n",
      " 20  rooms                       47390 non-null   float64\n",
      " 21  expenses                    14262 non-null   float64\n",
      " 22  properati_url               121220 non-null  object \n",
      " 23  description                 121220 non-null  object \n",
      " 24  title                       121220 non-null  object \n",
      " 25  image_thumbnail             118108 non-null  object \n",
      " 26  m2_new                      30222 non-null   float64\n",
      " 27  amenities                   121220 non-null  int64  \n",
      " 28  portero                     121220 non-null  int64  \n",
      " 29  seguridad                   121220 non-null  int64  \n",
      " 30  aptoprof                    121220 non-null  int64  \n",
      " 31  terraza                     121220 non-null  int64  \n",
      " 32  balcon                      121220 non-null  int64  \n",
      " 33  patio                       121220 non-null  int64  \n",
      " 34  amb                         37732 non-null   float64\n",
      " 35  dorm                        43552 non-null   float64\n",
      " 36  disp                        46725 non-null   float64\n",
      " 37  vista                       121220 non-null  int64  \n",
      " 38  piso                        38192 non-null   object \n",
      " 39  piso2                       38192 non-null   object \n",
      " 40  piso3                       36780 non-null   float64\n",
      " 41  pozo                        121220 non-null  int64  \n",
      " 42  baulera                     121220 non-null  int64  \n",
      " 43  lavadero                    121220 non-null  int64  \n",
      " 44  garage                      121220 non-null  int64  \n",
      " 45  PH                          121220 non-null  int64  \n",
      " 46  precio                      12376 non-null   object \n",
      " 47  precio2                     12376 non-null   object \n",
      " 48  precio3                     9535 non-null    float64\n",
      " 49  m2_final                    87176 non-null   float64\n",
      " 50  precio_final                101229 non-null  float64\n",
      " 51  piso_final                  41955 non-null   float64\n",
      " 52  amb_final                   66117 non-null   float64\n",
      " 53  precio_por_m2_final         84667 non-null   float64\n",
      " 54  Ciudad_final                116677 non-null  object \n",
      " 55  Pais                        121220 non-null  object \n",
      " 56  Provincia                   121220 non-null  object \n",
      " 57  Ciudad                      121220 non-null  object \n",
      " 58  Zona                        41507 non-null   object \n",
      " 59  Barrio                      548 non-null     object \n",
      "dtypes: float64(24), int64(14), object(22)\n",
      "memory usage: 55.5+ MB\n"
     ]
    }
   ],
   "source": [
    "data.sample()\n",
    "data.info()"
   ]
  },
  {
   "cell_type": "code",
   "execution_count": 47,
   "metadata": {},
   "outputs": [
    {
     "data": {
      "text/plain": [
       "sell    121220\n",
       "Name: operation, dtype: int64"
      ]
     },
     "execution_count": 47,
     "metadata": {},
     "output_type": "execute_result"
    }
   ],
   "source": [
    "data['operation'].value_counts()"
   ]
  },
  {
   "cell_type": "code",
   "execution_count": 48,
   "metadata": {},
   "outputs": [],
   "source": [
    "data.drop(['operation','place_name','place_with_parent_names','country_name','geonames_id','lat','price','currency','price_aprox_local_currency','price_aprox_usd',\n",
    "          'surface_total_in_m2','surface_covered_in_m2','price_usd_per_m2','price_per_m2','floor','rooms','properati_url','image_thumbnail',\n",
    "         'm2_new','piso','piso2','piso3','precio','precio2','precio3' ],axis=1,inplace=True)"
   ]
  },
  {
   "cell_type": "code",
   "execution_count": 49,
   "metadata": {},
   "outputs": [
    {
     "name": "stdout",
     "output_type": "stream",
     "text": [
      "<class 'pandas.core.frame.DataFrame'>\n",
      "RangeIndex: 121220 entries, 0 to 121219\n",
      "Data columns (total 35 columns):\n",
      " #   Column               Non-Null Count   Dtype  \n",
      "---  ------               --------------   -----  \n",
      " 0   Unnamed: 0           121220 non-null  int64  \n",
      " 1   property_type        121220 non-null  object \n",
      " 2   state_name           121220 non-null  object \n",
      " 3   lat-lon              69670 non-null   object \n",
      " 4   lon                  69670 non-null   float64\n",
      " 5   expenses             14262 non-null   float64\n",
      " 6   description          121220 non-null  object \n",
      " 7   title                121220 non-null  object \n",
      " 8   amenities            121220 non-null  int64  \n",
      " 9   portero              121220 non-null  int64  \n",
      " 10  seguridad            121220 non-null  int64  \n",
      " 11  aptoprof             121220 non-null  int64  \n",
      " 12  terraza              121220 non-null  int64  \n",
      " 13  balcon               121220 non-null  int64  \n",
      " 14  patio                121220 non-null  int64  \n",
      " 15  amb                  37732 non-null   float64\n",
      " 16  dorm                 43552 non-null   float64\n",
      " 17  disp                 46725 non-null   float64\n",
      " 18  vista                121220 non-null  int64  \n",
      " 19  pozo                 121220 non-null  int64  \n",
      " 20  baulera              121220 non-null  int64  \n",
      " 21  lavadero             121220 non-null  int64  \n",
      " 22  garage               121220 non-null  int64  \n",
      " 23  PH                   121220 non-null  int64  \n",
      " 24  m2_final             87176 non-null   float64\n",
      " 25  precio_final         101229 non-null  float64\n",
      " 26  piso_final           41955 non-null   float64\n",
      " 27  amb_final            66117 non-null   float64\n",
      " 28  precio_por_m2_final  84667 non-null   float64\n",
      " 29  Ciudad_final         116677 non-null  object \n",
      " 30  Pais                 121220 non-null  object \n",
      " 31  Provincia            121220 non-null  object \n",
      " 32  Ciudad               121220 non-null  object \n",
      " 33  Zona                 41507 non-null   object \n",
      " 34  Barrio               548 non-null     object \n",
      "dtypes: float64(10), int64(14), object(11)\n",
      "memory usage: 32.4+ MB\n"
     ]
    }
   ],
   "source": [
    "data.info()"
   ]
  },
  {
   "cell_type": "code",
   "execution_count": null,
   "metadata": {},
   "outputs": [],
   "source": []
  },
  {
   "cell_type": "code",
   "execution_count": 50,
   "metadata": {},
   "outputs": [
    {
     "name": "stdout",
     "output_type": "stream",
     "text": [
      "<class 'pandas.core.frame.DataFrame'>\n",
      "RangeIndex: 121220 entries, 0 to 121219\n",
      "Data columns (total 35 columns):\n",
      " #   Column               Non-Null Count   Dtype  \n",
      "---  ------               --------------   -----  \n",
      " 0   Unnamed: 0           121220 non-null  int64  \n",
      " 1   property_type        121220 non-null  object \n",
      " 2   state_name           121220 non-null  object \n",
      " 3   lat-lon              69670 non-null   object \n",
      " 4   lon                  69670 non-null   float64\n",
      " 5   expenses             14262 non-null   float64\n",
      " 6   description          121220 non-null  object \n",
      " 7   title                121220 non-null  object \n",
      " 8   amenities            121220 non-null  int64  \n",
      " 9   portero              121220 non-null  int64  \n",
      " 10  seguridad            121220 non-null  int64  \n",
      " 11  aptoprof             121220 non-null  int64  \n",
      " 12  terraza              121220 non-null  int64  \n",
      " 13  balcon               121220 non-null  int64  \n",
      " 14  patio                121220 non-null  int64  \n",
      " 15  amb                  37732 non-null   float64\n",
      " 16  dorm                 43552 non-null   float64\n",
      " 17  disp                 46725 non-null   float64\n",
      " 18  vista                121220 non-null  int64  \n",
      " 19  pozo                 121220 non-null  int64  \n",
      " 20  baulera              121220 non-null  int64  \n",
      " 21  lavadero             121220 non-null  int64  \n",
      " 22  garage               121220 non-null  int64  \n",
      " 23  PH                   121220 non-null  int64  \n",
      " 24  m2_final             87176 non-null   float64\n",
      " 25  precio_final         101229 non-null  float64\n",
      " 26  piso_final           41955 non-null   float64\n",
      " 27  amb_final            66117 non-null   float64\n",
      " 28  precio_por_m2_final  84667 non-null   float64\n",
      " 29  Ciudad_final         116677 non-null  object \n",
      " 30  Pais                 121220 non-null  object \n",
      " 31  Provincia            121220 non-null  object \n",
      " 32  Ciudad               121220 non-null  object \n",
      " 33  Zona                 41507 non-null   object \n",
      " 34  Barrio               548 non-null     object \n",
      "dtypes: float64(10), int64(14), object(11)\n",
      "memory usage: 32.4+ MB\n"
     ]
    }
   ],
   "source": [
    "data.info()"
   ]
  },
  {
   "cell_type": "code",
   "execution_count": 51,
   "metadata": {
    "jupyter": {
     "source_hidden": true
    }
   },
   "outputs": [],
   "source": [
    "\n",
    "\n",
    "\n",
    "\n",
    "data.drop(columns='Unnamed: 0',inplace=True)\n"
   ]
  },
  {
   "cell_type": "code",
   "execution_count": 52,
   "metadata": {},
   "outputs": [
    {
     "name": "stdout",
     "output_type": "stream",
     "text": [
      "<class 'pandas.core.frame.DataFrame'>\n",
      "RangeIndex: 121220 entries, 0 to 121219\n",
      "Data columns (total 34 columns):\n",
      " #   Column               Non-Null Count   Dtype  \n",
      "---  ------               --------------   -----  \n",
      " 0   property_type        121220 non-null  object \n",
      " 1   state_name           121220 non-null  object \n",
      " 2   lat-lon              69670 non-null   object \n",
      " 3   lon                  69670 non-null   float64\n",
      " 4   expenses             14262 non-null   float64\n",
      " 5   description          121220 non-null  object \n",
      " 6   title                121220 non-null  object \n",
      " 7   amenities            121220 non-null  int64  \n",
      " 8   portero              121220 non-null  int64  \n",
      " 9   seguridad            121220 non-null  int64  \n",
      " 10  aptoprof             121220 non-null  int64  \n",
      " 11  terraza              121220 non-null  int64  \n",
      " 12  balcon               121220 non-null  int64  \n",
      " 13  patio                121220 non-null  int64  \n",
      " 14  amb                  37732 non-null   float64\n",
      " 15  dorm                 43552 non-null   float64\n",
      " 16  disp                 46725 non-null   float64\n",
      " 17  vista                121220 non-null  int64  \n",
      " 18  pozo                 121220 non-null  int64  \n",
      " 19  baulera              121220 non-null  int64  \n",
      " 20  lavadero             121220 non-null  int64  \n",
      " 21  garage               121220 non-null  int64  \n",
      " 22  PH                   121220 non-null  int64  \n",
      " 23  m2_final             87176 non-null   float64\n",
      " 24  precio_final         101229 non-null  float64\n",
      " 25  piso_final           41955 non-null   float64\n",
      " 26  amb_final            66117 non-null   float64\n",
      " 27  precio_por_m2_final  84667 non-null   float64\n",
      " 28  Ciudad_final         116677 non-null  object \n",
      " 29  Pais                 121220 non-null  object \n",
      " 30  Provincia            121220 non-null  object \n",
      " 31  Ciudad               121220 non-null  object \n",
      " 32  Zona                 41507 non-null   object \n",
      " 33  Barrio               548 non-null     object \n",
      "dtypes: float64(10), int64(13), object(11)\n",
      "memory usage: 31.4+ MB\n"
     ]
    }
   ],
   "source": [
    "data.info()\n",
    "\n",
    "data.drop(['state_name','lon'],axis=1,inplace=True)"
   ]
  },
  {
   "cell_type": "code",
   "execution_count": 53,
   "metadata": {},
   "outputs": [],
   "source": [
    "data.drop(['amb','Ciudad_final'],axis=1)\n",
    "\n",
    "\n",
    "data.rename(columns={ 'property_type': 'Tipo_Propiedad',\n",
    "                    'expenses': 'Expensas',\n",
    "                    'm2_final': 'Total_M2',\n",
    "                    'precio_final': 'Precio_USD',\n",
    "                    'piso_final': 'Nro_Piso',\n",
    "                    'amb_final': 'Nro_Ambientes',\n",
    "                    'precio_por_m2_final': 'Precio_M2',\n",
    "                    'title':'Titulo',                     \n",
    "                    }, inplace=True)"
   ]
  },
  {
   "cell_type": "code",
   "execution_count": 54,
   "metadata": {},
   "outputs": [],
   "source": [
    "data.drop(columns='Ciudad_final',inplace=True)"
   ]
  },
  {
   "cell_type": "code",
   "execution_count": 55,
   "metadata": {},
   "outputs": [],
   "source": [
    "data.drop(columns='amb',inplace=True)"
   ]
  },
  {
   "cell_type": "code",
   "execution_count": 56,
   "metadata": {},
   "outputs": [
    {
     "name": "stdout",
     "output_type": "stream",
     "text": [
      "<class 'pandas.core.frame.DataFrame'>\n",
      "RangeIndex: 121220 entries, 0 to 121219\n",
      "Data columns (total 30 columns):\n",
      " #   Column          Non-Null Count   Dtype  \n",
      "---  ------          --------------   -----  \n",
      " 0   Tipo_Propiedad  121220 non-null  object \n",
      " 1   lat-lon         69670 non-null   object \n",
      " 2   Expensas        14262 non-null   float64\n",
      " 3   description     121220 non-null  object \n",
      " 4   Titulo          121220 non-null  object \n",
      " 5   amenities       121220 non-null  int64  \n",
      " 6   portero         121220 non-null  int64  \n",
      " 7   seguridad       121220 non-null  int64  \n",
      " 8   aptoprof        121220 non-null  int64  \n",
      " 9   terraza         121220 non-null  int64  \n",
      " 10  balcon          121220 non-null  int64  \n",
      " 11  patio           121220 non-null  int64  \n",
      " 12  dorm            43552 non-null   float64\n",
      " 13  disp            46725 non-null   float64\n",
      " 14  vista           121220 non-null  int64  \n",
      " 15  pozo            121220 non-null  int64  \n",
      " 16  baulera         121220 non-null  int64  \n",
      " 17  lavadero        121220 non-null  int64  \n",
      " 18  garage          121220 non-null  int64  \n",
      " 19  PH              121220 non-null  int64  \n",
      " 20  Total_M2        87176 non-null   float64\n",
      " 21  Precio_USD      101229 non-null  float64\n",
      " 22  Nro_Piso        41955 non-null   float64\n",
      " 23  Nro_Ambientes   66117 non-null   float64\n",
      " 24  Precio_M2       84667 non-null   float64\n",
      " 25  Pais            121220 non-null  object \n",
      " 26  Provincia       121220 non-null  object \n",
      " 27  Ciudad          121220 non-null  object \n",
      " 28  Zona            41507 non-null   object \n",
      " 29  Barrio          548 non-null     object \n",
      "dtypes: float64(8), int64(13), object(9)\n",
      "memory usage: 27.7+ MB\n"
     ]
    }
   ],
   "source": [
    "data.info()\n"
   ]
  },
  {
   "cell_type": "code",
   "execution_count": 57,
   "metadata": {},
   "outputs": [
    {
     "data": {
      "text/html": [
       "<div>\n",
       "<style scoped>\n",
       "    .dataframe tbody tr th:only-of-type {\n",
       "        vertical-align: middle;\n",
       "    }\n",
       "\n",
       "    .dataframe tbody tr th {\n",
       "        vertical-align: top;\n",
       "    }\n",
       "\n",
       "    .dataframe thead th {\n",
       "        text-align: right;\n",
       "    }\n",
       "</style>\n",
       "<table border=\"1\" class=\"dataframe\">\n",
       "  <thead>\n",
       "    <tr style=\"text-align: right;\">\n",
       "      <th></th>\n",
       "      <th>Expensas</th>\n",
       "      <th>amenities</th>\n",
       "      <th>portero</th>\n",
       "      <th>seguridad</th>\n",
       "      <th>aptoprof</th>\n",
       "      <th>terraza</th>\n",
       "      <th>balcon</th>\n",
       "      <th>patio</th>\n",
       "      <th>dorm</th>\n",
       "      <th>disp</th>\n",
       "      <th>...</th>\n",
       "      <th>pozo</th>\n",
       "      <th>baulera</th>\n",
       "      <th>lavadero</th>\n",
       "      <th>garage</th>\n",
       "      <th>PH</th>\n",
       "      <th>Total_M2</th>\n",
       "      <th>Precio_USD</th>\n",
       "      <th>Nro_Piso</th>\n",
       "      <th>Nro_Ambientes</th>\n",
       "      <th>Precio_M2</th>\n",
       "    </tr>\n",
       "  </thead>\n",
       "  <tbody>\n",
       "    <tr>\n",
       "      <th>count</th>\n",
       "      <td>1.426200e+04</td>\n",
       "      <td>121220.000000</td>\n",
       "      <td>121220.000000</td>\n",
       "      <td>121220.000000</td>\n",
       "      <td>121220.000000</td>\n",
       "      <td>121220.000000</td>\n",
       "      <td>121220.000000</td>\n",
       "      <td>121220.000000</td>\n",
       "      <td>43552.000000</td>\n",
       "      <td>46725.000000</td>\n",
       "      <td>...</td>\n",
       "      <td>121220.000000</td>\n",
       "      <td>121220.000000</td>\n",
       "      <td>121220.000000</td>\n",
       "      <td>121220.000000</td>\n",
       "      <td>121220.000000</td>\n",
       "      <td>87176.000000</td>\n",
       "      <td>1.012290e+05</td>\n",
       "      <td>41955.000000</td>\n",
       "      <td>66117.000000</td>\n",
       "      <td>84667.000000</td>\n",
       "    </tr>\n",
       "    <tr>\n",
       "      <th>mean</th>\n",
       "      <td>5.009234e+03</td>\n",
       "      <td>0.219922</td>\n",
       "      <td>0.031909</td>\n",
       "      <td>0.023354</td>\n",
       "      <td>0.040728</td>\n",
       "      <td>0.226934</td>\n",
       "      <td>0.355874</td>\n",
       "      <td>0.290241</td>\n",
       "      <td>2.369306</td>\n",
       "      <td>0.705875</td>\n",
       "      <td>...</td>\n",
       "      <td>0.107466</td>\n",
       "      <td>0.089053</td>\n",
       "      <td>0.316194</td>\n",
       "      <td>0.444456</td>\n",
       "      <td>0.049604</td>\n",
       "      <td>143.958337</td>\n",
       "      <td>2.395705e+05</td>\n",
       "      <td>2.642784</td>\n",
       "      <td>2.989579</td>\n",
       "      <td>2023.626616</td>\n",
       "    </tr>\n",
       "    <tr>\n",
       "      <th>std</th>\n",
       "      <td>1.204403e+05</td>\n",
       "      <td>0.414196</td>\n",
       "      <td>0.175758</td>\n",
       "      <td>0.151026</td>\n",
       "      <td>0.197659</td>\n",
       "      <td>0.418852</td>\n",
       "      <td>0.478779</td>\n",
       "      <td>0.453875</td>\n",
       "      <td>1.008154</td>\n",
       "      <td>0.455653</td>\n",
       "      <td>...</td>\n",
       "      <td>0.309706</td>\n",
       "      <td>0.284821</td>\n",
       "      <td>0.464991</td>\n",
       "      <td>0.496907</td>\n",
       "      <td>0.217126</td>\n",
       "      <td>148.359105</td>\n",
       "      <td>3.907435e+05</td>\n",
       "      <td>3.694350</td>\n",
       "      <td>1.469649</td>\n",
       "      <td>986.509886</td>\n",
       "    </tr>\n",
       "    <tr>\n",
       "      <th>min</th>\n",
       "      <td>1.000000e+00</td>\n",
       "      <td>0.000000</td>\n",
       "      <td>0.000000</td>\n",
       "      <td>0.000000</td>\n",
       "      <td>0.000000</td>\n",
       "      <td>0.000000</td>\n",
       "      <td>0.000000</td>\n",
       "      <td>0.000000</td>\n",
       "      <td>0.000000</td>\n",
       "      <td>0.000000</td>\n",
       "      <td>...</td>\n",
       "      <td>0.000000</td>\n",
       "      <td>0.000000</td>\n",
       "      <td>0.000000</td>\n",
       "      <td>0.000000</td>\n",
       "      <td>0.000000</td>\n",
       "      <td>0.000000</td>\n",
       "      <td>0.000000e+00</td>\n",
       "      <td>0.000000</td>\n",
       "      <td>0.000000</td>\n",
       "      <td>500.000000</td>\n",
       "    </tr>\n",
       "    <tr>\n",
       "      <th>25%</th>\n",
       "      <td>1.000000e+03</td>\n",
       "      <td>0.000000</td>\n",
       "      <td>0.000000</td>\n",
       "      <td>0.000000</td>\n",
       "      <td>0.000000</td>\n",
       "      <td>0.000000</td>\n",
       "      <td>0.000000</td>\n",
       "      <td>0.000000</td>\n",
       "      <td>2.000000</td>\n",
       "      <td>0.000000</td>\n",
       "      <td>...</td>\n",
       "      <td>0.000000</td>\n",
       "      <td>0.000000</td>\n",
       "      <td>0.000000</td>\n",
       "      <td>0.000000</td>\n",
       "      <td>0.000000</td>\n",
       "      <td>50.000000</td>\n",
       "      <td>8.973388e+04</td>\n",
       "      <td>0.000000</td>\n",
       "      <td>2.000000</td>\n",
       "      <td>1352.941176</td>\n",
       "    </tr>\n",
       "    <tr>\n",
       "      <th>50%</th>\n",
       "      <td>2.000000e+03</td>\n",
       "      <td>0.000000</td>\n",
       "      <td>0.000000</td>\n",
       "      <td>0.000000</td>\n",
       "      <td>0.000000</td>\n",
       "      <td>0.000000</td>\n",
       "      <td>0.000000</td>\n",
       "      <td>0.000000</td>\n",
       "      <td>2.000000</td>\n",
       "      <td>1.000000</td>\n",
       "      <td>...</td>\n",
       "      <td>0.000000</td>\n",
       "      <td>0.000000</td>\n",
       "      <td>0.000000</td>\n",
       "      <td>0.000000</td>\n",
       "      <td>0.000000</td>\n",
       "      <td>81.000000</td>\n",
       "      <td>1.450000e+05</td>\n",
       "      <td>1.000000</td>\n",
       "      <td>3.000000</td>\n",
       "      <td>1860.465116</td>\n",
       "    </tr>\n",
       "    <tr>\n",
       "      <th>75%</th>\n",
       "      <td>4.000000e+03</td>\n",
       "      <td>0.000000</td>\n",
       "      <td>0.000000</td>\n",
       "      <td>0.000000</td>\n",
       "      <td>0.000000</td>\n",
       "      <td>0.000000</td>\n",
       "      <td>1.000000</td>\n",
       "      <td>1.000000</td>\n",
       "      <td>3.000000</td>\n",
       "      <td>1.000000</td>\n",
       "      <td>...</td>\n",
       "      <td>0.000000</td>\n",
       "      <td>0.000000</td>\n",
       "      <td>1.000000</td>\n",
       "      <td>1.000000</td>\n",
       "      <td>0.000000</td>\n",
       "      <td>185.000000</td>\n",
       "      <td>2.650000e+05</td>\n",
       "      <td>3.000000</td>\n",
       "      <td>4.000000</td>\n",
       "      <td>2485.714286</td>\n",
       "    </tr>\n",
       "    <tr>\n",
       "      <th>max</th>\n",
       "      <td>1.000150e+07</td>\n",
       "      <td>1.000000</td>\n",
       "      <td>1.000000</td>\n",
       "      <td>1.000000</td>\n",
       "      <td>1.000000</td>\n",
       "      <td>1.000000</td>\n",
       "      <td>1.000000</td>\n",
       "      <td>1.000000</td>\n",
       "      <td>12.000000</td>\n",
       "      <td>1.000000</td>\n",
       "      <td>...</td>\n",
       "      <td>1.000000</td>\n",
       "      <td>1.000000</td>\n",
       "      <td>1.000000</td>\n",
       "      <td>1.000000</td>\n",
       "      <td>1.000000</td>\n",
       "      <td>800.000000</td>\n",
       "      <td>4.654544e+07</td>\n",
       "      <td>20.000000</td>\n",
       "      <td>10.000000</td>\n",
       "      <td>7000.000000</td>\n",
       "    </tr>\n",
       "  </tbody>\n",
       "</table>\n",
       "<p>8 rows × 21 columns</p>\n",
       "</div>"
      ],
      "text/plain": [
       "           Expensas      amenities        portero      seguridad  \\\n",
       "count  1.426200e+04  121220.000000  121220.000000  121220.000000   \n",
       "mean   5.009234e+03       0.219922       0.031909       0.023354   \n",
       "std    1.204403e+05       0.414196       0.175758       0.151026   \n",
       "min    1.000000e+00       0.000000       0.000000       0.000000   \n",
       "25%    1.000000e+03       0.000000       0.000000       0.000000   \n",
       "50%    2.000000e+03       0.000000       0.000000       0.000000   \n",
       "75%    4.000000e+03       0.000000       0.000000       0.000000   \n",
       "max    1.000150e+07       1.000000       1.000000       1.000000   \n",
       "\n",
       "            aptoprof        terraza         balcon          patio  \\\n",
       "count  121220.000000  121220.000000  121220.000000  121220.000000   \n",
       "mean        0.040728       0.226934       0.355874       0.290241   \n",
       "std         0.197659       0.418852       0.478779       0.453875   \n",
       "min         0.000000       0.000000       0.000000       0.000000   \n",
       "25%         0.000000       0.000000       0.000000       0.000000   \n",
       "50%         0.000000       0.000000       0.000000       0.000000   \n",
       "75%         0.000000       0.000000       1.000000       1.000000   \n",
       "max         1.000000       1.000000       1.000000       1.000000   \n",
       "\n",
       "               dorm          disp  ...           pozo        baulera  \\\n",
       "count  43552.000000  46725.000000  ...  121220.000000  121220.000000   \n",
       "mean       2.369306      0.705875  ...       0.107466       0.089053   \n",
       "std        1.008154      0.455653  ...       0.309706       0.284821   \n",
       "min        0.000000      0.000000  ...       0.000000       0.000000   \n",
       "25%        2.000000      0.000000  ...       0.000000       0.000000   \n",
       "50%        2.000000      1.000000  ...       0.000000       0.000000   \n",
       "75%        3.000000      1.000000  ...       0.000000       0.000000   \n",
       "max       12.000000      1.000000  ...       1.000000       1.000000   \n",
       "\n",
       "            lavadero         garage             PH      Total_M2  \\\n",
       "count  121220.000000  121220.000000  121220.000000  87176.000000   \n",
       "mean        0.316194       0.444456       0.049604    143.958337   \n",
       "std         0.464991       0.496907       0.217126    148.359105   \n",
       "min         0.000000       0.000000       0.000000      0.000000   \n",
       "25%         0.000000       0.000000       0.000000     50.000000   \n",
       "50%         0.000000       0.000000       0.000000     81.000000   \n",
       "75%         1.000000       1.000000       0.000000    185.000000   \n",
       "max         1.000000       1.000000       1.000000    800.000000   \n",
       "\n",
       "         Precio_USD      Nro_Piso  Nro_Ambientes     Precio_M2  \n",
       "count  1.012290e+05  41955.000000   66117.000000  84667.000000  \n",
       "mean   2.395705e+05      2.642784       2.989579   2023.626616  \n",
       "std    3.907435e+05      3.694350       1.469649    986.509886  \n",
       "min    0.000000e+00      0.000000       0.000000    500.000000  \n",
       "25%    8.973388e+04      0.000000       2.000000   1352.941176  \n",
       "50%    1.450000e+05      1.000000       3.000000   1860.465116  \n",
       "75%    2.650000e+05      3.000000       4.000000   2485.714286  \n",
       "max    4.654544e+07     20.000000      10.000000   7000.000000  \n",
       "\n",
       "[8 rows x 21 columns]"
      ]
     },
     "execution_count": 57,
     "metadata": {},
     "output_type": "execute_result"
    }
   ],
   "source": [
    "data.describe()"
   ]
  },
  {
   "cell_type": "code",
   "execution_count": 58,
   "metadata": {},
   "outputs": [
    {
     "name": "stdout",
     "output_type": "stream",
     "text": [
      "                 Ciudad    Precio_M2  Total_M2  Precio_USD\n",
      "252       Puerto Madero  6035.353535     198.0   1195000.0\n",
      "381       Puerto Madero  6481.481481      54.0    350000.0\n",
      "400       Puerto Madero  6481.481481      54.0    350000.0\n",
      "401       Puerto Madero  6111.111111      54.0    330000.0\n",
      "525          San Isidro  6111.111111       NaN  11000000.0\n",
      "...                 ...          ...       ...         ...\n",
      "119931       Avellaneda  6250.000000       NaN    125000.0\n",
      "119956       Avellaneda  6400.000000       NaN    128000.0\n",
      "119987  Capital Federal  6285.714286     175.0   1100000.0\n",
      "121093          Palermo  6888.888889      90.0    620000.0\n",
      "121100          Palermo  6888.888889      90.0    620000.0\n",
      "\n",
      "[593 rows x 4 columns]\n"
     ]
    }
   ],
   "source": [
    "print(data[['Ciudad','Precio_M2','Total_M2','Precio_USD']][data['Precio_M2']>6000])"
   ]
  },
  {
   "cell_type": "code",
   "execution_count": 59,
   "metadata": {},
   "outputs": [],
   "source": [
    "data.to_csv(r'Archivo_OK.csv')"
   ]
  },
  {
   "cell_type": "code",
   "execution_count": 60,
   "metadata": {},
   "outputs": [
    {
     "data": {
      "text/plain": [
       "<AxesSubplot:>"
      ]
     },
     "execution_count": 60,
     "metadata": {},
     "output_type": "execute_result"
    },
    {
     "data": {
      "image/png": "[encoded data removed]",
      "text/plain": [
       "<Figure size 792x648 with 2 Axes>"
      ]
     },
     "metadata": {
      "needs_background": "light"
     },
     "output_type": "display_data"
    }
   ],
   "source": [
    "corr = data.corr()\n",
    "\n",
    "# Generate a mask for the upper triangle\n",
    "mask = np.triu(np.ones_like(corr, dtype=bool))\n",
    "\n",
    "# Set up the matplotlib figure\n",
    "f, ax = plt.subplots(figsize=(11, 9))\n",
    "\n",
    "# Generate a custom diverging colormap\n",
    "cmap = sns.diverging_palette(230, 20, as_cmap=True)\n",
    "\n",
    "# Draw the heatmap with the mask and correct aspect ratio\n",
    "sns.heatmap(corr, mask=mask, cmap=cmap, vmax=0.3, center=0,\n",
    "            square=True, linewidths=.5, cbar_kws={\"shrink\": .5})"
   ]
  },
  {
   "cell_type": "code",
   "execution_count": 61,
   "metadata": {},
   "outputs": [
    {
     "name": "stdout",
     "output_type": "stream",
     "text": [
      "El porcentaje de datos nulos de cada columna es:\n",
      "\n",
      " Tipo_Propiedad     0.00\n",
      "lat-lon           42.53\n",
      "Expensas          88.23\n",
      "description        0.00\n",
      "Titulo             0.00\n",
      "amenities          0.00\n",
      "portero            0.00\n",
      "seguridad          0.00\n",
      "aptoprof           0.00\n",
      "terraza            0.00\n",
      "balcon             0.00\n",
      "patio              0.00\n",
      "dorm              64.07\n",
      "disp              61.45\n",
      "vista              0.00\n",
      "pozo               0.00\n",
      "baulera            0.00\n",
      "lavadero           0.00\n",
      "garage             0.00\n",
      "PH                 0.00\n",
      "Total_M2          28.08\n",
      "Precio_USD        16.49\n",
      "Nro_Piso          65.39\n",
      "Nro_Ambientes     45.46\n",
      "Precio_M2         30.15\n",
      "Pais               0.00\n",
      "Provincia          0.00\n",
      "Ciudad             0.00\n",
      "Zona              65.76\n",
      "Barrio            99.55\n",
      "dtype: float64\n"
     ]
    }
   ],
   "source": [
    "print('El porcentaje de datos nulos de cada columna es:\\n\\n',(data.isnull().sum()/data.shape[0]*100 ).round(2))"
   ]
  },
  {
   "cell_type": "code",
   "execution_count": 62,
   "metadata": {},
   "outputs": [
    {
     "name": "stdout",
     "output_type": "stream",
     "text": [
      "El porcentaje de datos nulos de cada columna es:\n",
      "\n",
      " Unnamed: 0                     0.00\n",
      "operation                      0.00\n",
      "property_type                  0.00\n",
      "place_name                     0.02\n",
      "place_with_parent_names        0.00\n",
      "country_name                   0.00\n",
      "state_name                     0.00\n",
      "geonames_id                   15.44\n",
      "lat-lon                       42.53\n",
      "lat                           42.53\n",
      "lon                           42.53\n",
      "price                         16.84\n",
      "currency                      16.84\n",
      "price_aprox_local_currency    16.84\n",
      "price_aprox_usd               16.84\n",
      "surface_total_in_m2           32.44\n",
      "surface_covered_in_m2         16.42\n",
      "price_usd_per_m2              43.39\n",
      "price_per_m2                  27.69\n",
      "floor                         93.48\n",
      "rooms                         60.91\n",
      "expenses                      88.23\n",
      "properati_url                  0.00\n",
      "description                    0.00\n",
      "title                          0.00\n",
      "image_thumbnail                2.57\n",
      "dtype: float64\n"
     ]
    }
   ],
   "source": [
    "print('El porcentaje de datos nulos de cada columna es:\\n\\n',(data_original.isnull().sum()/data_original.shape[0]*100 ).round(2))"
   ]
  },
  {
   "cell_type": "code",
   "execution_count": 63,
   "metadata": {},
   "outputs": [
    {
     "data": {
      "image/png": "[encoded data removed]",
      "text/plain": [
       "<Figure size 432x288 with 1 Axes>"
      ]
     },
     "metadata": {
      "needs_background": "light"
     },
     "output_type": "display_data"
    }
   ],
   "source": [
    "#PLOTEO DE DATOS NULOS ORIGINALES VS FINALES\n",
    "\n",
    "#Defino mis conjuntos de datos\n",
    "datos = ['Precio_USD','Total_M2','Precio_M2','Nro_Piso','Nro_Ambientes']\n",
    "porcentaje_nulos_originales = [16.84,32.44,43.39,93.48,60.91]\n",
    "porcentaje_nulos_finales = [16.49,28.08,30.15,65.39,45.46]\n",
    "\n",
    "#Creo barras para mi primer conjunto de datos (originales)\n",
    "plt.bar(datos,porcentaje_nulos_originales,align = 'center')\n",
    "\n",
    "#Creo barras para mi segundo conjunto de datos (finales)\n",
    "plt.bar(datos,porcentaje_nulos_finales,color='g',align = 'center')\n",
    "\n",
    "#Doy titulo a la grafica\n",
    "plt.title('Comparacion entre Nulos Iniciales y Finales',size=13)\n",
    "\n",
    "#Incluyo la leyenda\n",
    "plt.legend(['Nulos data original','Nulos data final'])\n",
    "\n",
    "#Defino el titulo de mi eje y\n",
    "plt.ylabel('% de valores nulos',size=12)\n",
    "\n",
    "#Defino valor minimo y maximo del eje y\n",
    "plt.ylim((0,100))\n",
    "\n",
    "#Pongo los datos junto a las barras\n",
    "for datos , porcentaje_nulos_originales in enumerate(porcentaje_nulos_originales):\n",
    "    plt.text(datos , porcentaje_nulos_originales,str(porcentaje_nulos_originales))\n",
    "    \n",
    "    \n",
    "for datos , porcentaje_nulos_finales in enumerate(porcentaje_nulos_finales):\n",
    "    plt.text(datos , porcentaje_nulos_finales-5,str(porcentaje_nulos_finales))\n",
    "\n",
    "\n"
   ]
  },
  {
   "cell_type": "code",
   "execution_count": 64,
   "metadata": {},
   "outputs": [
    {
     "data": {
      "text/plain": [
       "(121220, 26)"
      ]
     },
     "execution_count": 64,
     "metadata": {},
     "output_type": "execute_result"
    }
   ],
   "source": [
    "data_original.shape"
   ]
  },
  {
   "cell_type": "code",
   "execution_count": 65,
   "metadata": {},
   "outputs": [
    {
     "data": {
      "text/plain": [
       "(121220, 30)"
      ]
     },
     "execution_count": 65,
     "metadata": {},
     "output_type": "execute_result"
    }
   ],
   "source": [
    "data.shape"
   ]
  },
  {
   "cell_type": "code",
   "execution_count": 66,
   "metadata": {},
   "outputs": [
    {
     "data": {
      "text/plain": [
       "Index(['Tipo_Propiedad', 'lat-lon', 'Expensas', 'description', 'Titulo',\n",
       "       'amenities', 'portero', 'seguridad', 'aptoprof', 'terraza', 'balcon',\n",
       "       'patio', 'dorm', 'disp', 'vista', 'pozo', 'baulera', 'lavadero',\n",
       "       'garage', 'PH', 'Total_M2', 'Precio_USD', 'Nro_Piso', 'Nro_Ambientes',\n",
       "       'Precio_M2', 'Pais', 'Provincia', 'Ciudad', 'Zona', 'Barrio'],\n",
       "      dtype='object')"
      ]
     },
     "execution_count": 66,
     "metadata": {},
     "output_type": "execute_result"
    }
   ],
   "source": [
    "data.columns"
   ]
  },
  {
   "cell_type": "code",
   "execution_count": 67,
   "metadata": {},
   "outputs": [
    {
     "data": {
      "text/plain": [
       "Index(['Unnamed: 0', 'operation', 'property_type', 'place_name',\n",
       "       'place_with_parent_names', 'country_name', 'state_name', 'geonames_id',\n",
       "       'lat-lon', 'lat', 'lon', 'price', 'currency',\n",
       "       'price_aprox_local_currency', 'price_aprox_usd', 'surface_total_in_m2',\n",
       "       'surface_covered_in_m2', 'price_usd_per_m2', 'price_per_m2', 'floor',\n",
       "       'rooms', 'expenses', 'properati_url', 'description', 'title',\n",
       "       'image_thumbnail'],\n",
       "      dtype='object')"
      ]
     },
     "execution_count": 67,
     "metadata": {},
     "output_type": "execute_result"
    }
   ],
   "source": [
    "data_original.columns"
   ]
  },
  {
   "cell_type": "code",
   "execution_count": 68,
   "metadata": {},
   "outputs": [
    {
     "data": {
      "text/html": [
       "<div>\n",
       "<style scoped>\n",
       "    .dataframe tbody tr th:only-of-type {\n",
       "        vertical-align: middle;\n",
       "    }\n",
       "\n",
       "    .dataframe tbody tr th {\n",
       "        vertical-align: top;\n",
       "    }\n",
       "\n",
       "    .dataframe thead th {\n",
       "        text-align: right;\n",
       "    }\n",
       "</style>\n",
       "<table border=\"1\" class=\"dataframe\">\n",
       "  <thead>\n",
       "    <tr style=\"text-align: right;\">\n",
       "      <th></th>\n",
       "      <th>Nuevo Nombre / Igual / Dropeada</th>\n",
       "    </tr>\n",
       "  </thead>\n",
       "  <tbody>\n",
       "    <tr>\n",
       "      <th>Unnamed: 0</th>\n",
       "      <td>Drop</td>\n",
       "    </tr>\n",
       "    <tr>\n",
       "      <th>operation</th>\n",
       "      <td>Drop</td>\n",
       "    </tr>\n",
       "    <tr>\n",
       "      <th>property_type</th>\n",
       "      <td>Tipo de Propiedad</td>\n",
       "    </tr>\n",
       "    <tr>\n",
       "      <th>place_name</th>\n",
       "      <td>Ciudad</td>\n",
       "    </tr>\n",
       "    <tr>\n",
       "      <th>place_with_parent_names</th>\n",
       "      <td>Drop</td>\n",
       "    </tr>\n",
       "    <tr>\n",
       "      <th>country_name</th>\n",
       "      <td>Pais</td>\n",
       "    </tr>\n",
       "    <tr>\n",
       "      <th>state_name</th>\n",
       "      <td>Provincia</td>\n",
       "    </tr>\n",
       "    <tr>\n",
       "      <th>geonames_id</th>\n",
       "      <td>Drop</td>\n",
       "    </tr>\n",
       "    <tr>\n",
       "      <th>lat-lon</th>\n",
       "      <td>Igual</td>\n",
       "    </tr>\n",
       "    <tr>\n",
       "      <th>lat</th>\n",
       "      <td>Drop</td>\n",
       "    </tr>\n",
       "    <tr>\n",
       "      <th>lon</th>\n",
       "      <td>Drop</td>\n",
       "    </tr>\n",
       "    <tr>\n",
       "      <th>price</th>\n",
       "      <td>Drop</td>\n",
       "    </tr>\n",
       "    <tr>\n",
       "      <th>currency</th>\n",
       "      <td>Drop</td>\n",
       "    </tr>\n",
       "    <tr>\n",
       "      <th>price_aprox_local_currency</th>\n",
       "      <td>Drop</td>\n",
       "    </tr>\n",
       "    <tr>\n",
       "      <th>price_aprox_usd</th>\n",
       "      <td>Precio_USD</td>\n",
       "    </tr>\n",
       "    <tr>\n",
       "      <th>surface_total_in_m2</th>\n",
       "      <td>Total_M2</td>\n",
       "    </tr>\n",
       "    <tr>\n",
       "      <th>surface_covered_in_m2</th>\n",
       "      <td>Drop</td>\n",
       "    </tr>\n",
       "    <tr>\n",
       "      <th>price_usd_per_m2</th>\n",
       "      <td>Precio_M2</td>\n",
       "    </tr>\n",
       "    <tr>\n",
       "      <th>price_per_m2</th>\n",
       "      <td>Drop</td>\n",
       "    </tr>\n",
       "    <tr>\n",
       "      <th>floor</th>\n",
       "      <td>Nro_Piso</td>\n",
       "    </tr>\n",
       "    <tr>\n",
       "      <th>rooms</th>\n",
       "      <td>Nro_Ambientes</td>\n",
       "    </tr>\n",
       "    <tr>\n",
       "      <th>expenses</th>\n",
       "      <td>Expensas</td>\n",
       "    </tr>\n",
       "    <tr>\n",
       "      <th>properati_url</th>\n",
       "      <td>Drop</td>\n",
       "    </tr>\n",
       "    <tr>\n",
       "      <th>description</th>\n",
       "      <td>Igual</td>\n",
       "    </tr>\n",
       "    <tr>\n",
       "      <th>title</th>\n",
       "      <td>Titulo</td>\n",
       "    </tr>\n",
       "    <tr>\n",
       "      <th>image_thumbnail</th>\n",
       "      <td>Drop</td>\n",
       "    </tr>\n",
       "  </tbody>\n",
       "</table>\n",
       "</div>"
      ],
      "text/plain": [
       "                           Nuevo Nombre / Igual / Dropeada\n",
       "Unnamed: 0                                            Drop\n",
       "operation                                             Drop\n",
       "property_type                            Tipo de Propiedad\n",
       "place_name                                          Ciudad\n",
       "place_with_parent_names                               Drop\n",
       "country_name                                          Pais\n",
       "state_name                                       Provincia\n",
       "geonames_id                                           Drop\n",
       "lat-lon                                              Igual\n",
       "lat                                                   Drop\n",
       "lon                                                   Drop\n",
       "price                                                 Drop\n",
       "currency                                              Drop\n",
       "price_aprox_local_currency                            Drop\n",
       "price_aprox_usd                                 Precio_USD\n",
       "surface_total_in_m2                               Total_M2\n",
       "surface_covered_in_m2                                 Drop\n",
       "price_usd_per_m2                                 Precio_M2\n",
       "price_per_m2                                          Drop\n",
       "floor                                             Nro_Piso\n",
       "rooms                                        Nro_Ambientes\n",
       "expenses                                          Expensas\n",
       "properati_url                                         Drop\n",
       "description                                          Igual\n",
       "title                                               Titulo\n",
       "image_thumbnail                                       Drop"
      ]
     },
     "execution_count": 68,
     "metadata": {},
     "output_type": "execute_result"
    }
   ],
   "source": [
    "#TABLA PARA IDENTIFICAR COLUMNAS RENOMBRADAS, DROPEADAS O QUE QUEDARON IGUALES\n",
    "\n",
    "columnas_data_original=data_original.columns\n",
    "nuevas_columnas= ['Drop','Drop','Tipo de Propiedad','Ciudad','Drop','Pais','Provincia','Drop','Igual',\n",
    "                 'Drop','Drop','Drop','Drop','Drop','Precio_USD','Total_M2','Drop','Precio_M2','Drop','Nro_Piso','Nro_Ambientes',\n",
    "                 'Expensas','Drop','Igual','Titulo','Drop']\n",
    "\n",
    "dataFrame_columnas= pd.DataFrame(nuevas_columnas, index=[columnas_data_original], columns = ['Nuevo Nombre / Igual / Dropeada'])\n",
    "\n",
    "dataFrame_columnas\n",
    "\n"
   ]
  },
  {
   "cell_type": "code",
   "execution_count": 69,
   "metadata": {},
   "outputs": [
    {
     "data": {
      "text/plain": [
       "Provincia\n",
       "Catamarca                       3313.454436\n",
       "Jujuy                           2761.116855\n",
       "Capital Federal                 2578.654564\n",
       "San Juan                        2390.263431\n",
       "Río Negro                       2100.146609\n",
       "Neuquén                         1984.631578\n",
       "Bs.As. G.B.A. Zona Norte        1981.197582\n",
       "Buenos Aires Costa Atlántica    1754.514295\n",
       "Santa Fe                        1698.292663\n",
       "Chubut                          1669.230358\n",
       "Bs.As. G.B.A. Zona Sur          1644.115125\n",
       "Mendoza                         1623.467424\n",
       "Buenos Aires Interior           1596.568640\n",
       "San Luis                        1570.247032\n",
       "Bs.As. G.B.A. Zona Oeste        1569.600094\n",
       "Chaco                           1532.427077\n",
       "Corrientes                      1530.496411\n",
       "Formosa                         1509.648462\n",
       "La Pampa                        1449.096425\n",
       "Córdoba                         1430.553961\n",
       "Misiones                        1376.734671\n",
       "Tierra Del Fuego                1375.503560\n",
       "Entre Ríos                      1357.207211\n",
       "Salta                           1231.821511\n",
       "Santiago Del Estero             1056.654068\n",
       "Tucumán                         1034.936408\n",
       "Santa Cruz                      1012.516846\n",
       "La Rioja                                NaN\n",
       "Name: Precio_M2, dtype: float64"
      ]
     },
     "execution_count": 69,
     "metadata": {},
     "output_type": "execute_result"
    }
   ],
   "source": [
    "ejemplo = data.groupby('Provincia')['Precio_M2'].mean().sort_values(ascending = False)\n",
    "ejemplo"
   ]
  },
  {
   "cell_type": "code",
   "execution_count": 70,
   "metadata": {},
   "outputs": [
    {
     "data": {
      "text/html": [
       "<div>\n",
       "<style scoped>\n",
       "    .dataframe tbody tr th:only-of-type {\n",
       "        vertical-align: middle;\n",
       "    }\n",
       "\n",
       "    .dataframe tbody tr th {\n",
       "        vertical-align: top;\n",
       "    }\n",
       "\n",
       "    .dataframe thead th {\n",
       "        text-align: right;\n",
       "    }\n",
       "</style>\n",
       "<table border=\"1\" class=\"dataframe\">\n",
       "  <thead>\n",
       "    <tr style=\"text-align: right;\">\n",
       "      <th></th>\n",
       "      <th>Tipo_Propiedad</th>\n",
       "      <th>lat-lon</th>\n",
       "      <th>Expensas</th>\n",
       "      <th>description</th>\n",
       "      <th>Titulo</th>\n",
       "      <th>amenities</th>\n",
       "      <th>portero</th>\n",
       "      <th>seguridad</th>\n",
       "      <th>aptoprof</th>\n",
       "      <th>terraza</th>\n",
       "      <th>...</th>\n",
       "      <th>Total_M2</th>\n",
       "      <th>Precio_USD</th>\n",
       "      <th>Nro_Piso</th>\n",
       "      <th>Nro_Ambientes</th>\n",
       "      <th>Precio_M2</th>\n",
       "      <th>Pais</th>\n",
       "      <th>Provincia</th>\n",
       "      <th>Ciudad</th>\n",
       "      <th>Zona</th>\n",
       "      <th>Barrio</th>\n",
       "    </tr>\n",
       "  </thead>\n",
       "  <tbody>\n",
       "    <tr>\n",
       "      <th>24831</th>\n",
       "      <td>house</td>\n",
       "      <td>-32.9045828826,-68.7649564276</td>\n",
       "      <td>NaN</td>\n",
       "      <td>GAS, CLOACAS, PAVIMENTO.-  CASA UBICADA EN LAS...</td>\n",
       "      <td>CASA BARRIO SANTA ANA</td>\n",
       "      <td>0</td>\n",
       "      <td>0</td>\n",
       "      <td>0</td>\n",
       "      <td>0</td>\n",
       "      <td>0</td>\n",
       "      <td>...</td>\n",
       "      <td>160.0</td>\n",
       "      <td>700000.0</td>\n",
       "      <td>NaN</td>\n",
       "      <td>5.0</td>\n",
       "      <td>4375.0</td>\n",
       "      <td>Argentina</td>\n",
       "      <td>Mendoza</td>\n",
       "      <td>Capilla del Rosario</td>\n",
       "      <td>None</td>\n",
       "      <td>None</td>\n",
       "    </tr>\n",
       "  </tbody>\n",
       "</table>\n",
       "<p>1 rows × 30 columns</p>\n",
       "</div>"
      ],
      "text/plain": [
       "      Tipo_Propiedad                        lat-lon  Expensas  \\\n",
       "24831          house  -32.9045828826,-68.7649564276       NaN   \n",
       "\n",
       "                                             description  \\\n",
       "24831  GAS, CLOACAS, PAVIMENTO.-  CASA UBICADA EN LAS...   \n",
       "\n",
       "                      Titulo  amenities  portero  seguridad  aptoprof  \\\n",
       "24831  CASA BARRIO SANTA ANA          0        0          0         0   \n",
       "\n",
       "       terraza  ...  Total_M2  Precio_USD  Nro_Piso  Nro_Ambientes  Precio_M2  \\\n",
       "24831        0  ...     160.0    700000.0       NaN            5.0     4375.0   \n",
       "\n",
       "            Pais  Provincia               Ciudad  Zona  Barrio  \n",
       "24831  Argentina    Mendoza  Capilla del Rosario  None    None  \n",
       "\n",
       "[1 rows x 30 columns]"
      ]
     },
     "execution_count": 70,
     "metadata": {},
     "output_type": "execute_result"
    }
   ],
   "source": [
    "mask = data['Ciudad']=='Capilla del Rosario'\n",
    "data.loc[mask]\n"
   ]
  },
  {
   "cell_type": "code",
   "execution_count": 71,
   "metadata": {},
   "outputs": [
    {
     "data": {
      "text/plain": [
       "San Juan               40\n",
       "Tierra Del Fuego       31\n",
       "Catamarca              27\n",
       "Jujuy                  26\n",
       "Santa Cruz             20\n",
       "Santiago Del Estero     4\n",
       "La Rioja                4\n",
       "Name: Provincia, dtype: int64"
      ]
     },
     "execution_count": 71,
     "metadata": {},
     "output_type": "execute_result"
    }
   ],
   "source": [
    "#FILTRO 1 o 0 PARA IDENTIFICAR PROVINCIAS CON DATOS MAYORES A 50 (1 cumple condicion, 0 no cumple condicion)\n",
    "\n",
    "#me armo una mascara que filtre solo las provincias que tienen mas de 50 registros\n",
    "mask = data['Provincia'].value_counts()>50\n",
    "#De esa mascara me quedo solo con los TRUE y con el indice, que son las provincias que cumplen la condicion\n",
    "provincia_con_datos_mayores_a_50 = mask[mask].index\n",
    "#Convierto la Serie data['Provincia'] en una lista\n",
    "data_provincia = list(data['Provincia'])\n",
    "\n",
    "#Me armo una lista vacia para apendear con 0 y 1 (1 si la provincia cumple la condicion de tener mas de 50 registros y 0 si no la cumple)\n",
    "\n",
    "valor_1_0 = []\n",
    "for provincia in data_provincia:\n",
    "    if provincia in provincia_con_datos_mayores_a_50:\n",
    "        valor_1_0.append(1)\n",
    "    else:\n",
    "        valor_1_0.append(0)\n",
    "\n",
    "#agrego al data set la lista        \n",
    "data['valor_1_0']=valor_1_0\n",
    "data['valor_1_0'].value_counts()\n",
    "\n",
    "#Verifico que los que los valores 0 correspondan a las provincias que no cumplian la condicion (Tenian False en la mask)\n",
    "data.loc[data['valor_1_0']==0,'Provincia'].value_counts()\n",
    "            \n"
   ]
  },
  {
   "cell_type": "code",
   "execution_count": null,
   "metadata": {},
   "outputs": [],
   "source": []
  },
  {
   "cell_type": "code",
   "execution_count": 72,
   "metadata": {},
   "outputs": [
    {
     "data": {
      "text/plain": [
       "Buenos Aires Interior    2291\n",
       "Río Negro                 808\n",
       "Neuquén                   733\n",
       "Mendoza                   681\n",
       "Tucumán                   674\n",
       "Corrientes                583\n",
       "Misiones                  464\n",
       "Entre Ríos                369\n",
       "Salta                     278\n",
       "Chubut                    259\n",
       "San Luis                  252\n",
       "La Pampa                  157\n",
       "Formosa                    65\n",
       "Chaco                      57\n",
       "San Juan                   40\n",
       "Tierra Del Fuego           31\n",
       "Catamarca                  27\n",
       "Jujuy                      26\n",
       "Santa Cruz                 20\n",
       "La Rioja                    4\n",
       "Santiago Del Estero         4\n",
       "Name: Provincia, dtype: int64"
      ]
     },
     "execution_count": 72,
     "metadata": {},
     "output_type": "execute_result"
    }
   ],
   "source": [
    "#FILTRO 1 o 0 PARA IDENTIFICAR PROVINCIAS CON DATOS MAYORES A 50 (1 cumple condicion, 0 no cumple condicion)\n",
    "\n",
    "#me armo una mascara que filtre solo las provincias que tienen mas de 50 registros\n",
    "mask = data['Provincia'].value_counts()>4000\n",
    "#De esa mascara me quedo solo con los TRUE y con el indice, que son las provincias que cumplen la condicion\n",
    "provincia_con_datos_mayores_a_50 = mask[mask].index\n",
    "#Convierto la Serie data['Provincia'] en una lista\n",
    "data_provincia = list(data['Provincia'])\n",
    "\n",
    "#Me armo una lista vacia para apendear con 0 y 1 (1 si la provincia cumple la condicion de tener mas de 50 registros y 0 si no la cumple)\n",
    "\n",
    "valor_1_0 = []\n",
    "for provincia in data_provincia:\n",
    "    if provincia in provincia_con_datos_mayores_a_50:\n",
    "        valor_1_0.append(1)\n",
    "    else:\n",
    "        valor_1_0.append(0)\n",
    "\n",
    "#agrego al data set la lista        \n",
    "data['valor_1_0']=valor_1_0\n",
    "data['valor_1_0'].value_counts()\n",
    "\n",
    "#Verifico que los que los valores 0 correspondan a las provincias que no cumplian la condicion (Tenian False en la mask)\n",
    "data.loc[data['valor_1_0']==0,'Provincia'].value_counts()\n",
    "\n"
   ]
  },
  {
   "cell_type": "code",
   "execution_count": 73,
   "metadata": {},
   "outputs": [
    {
     "data": {
      "image/png": "[encoded data removed]",
      "text/plain": [
       "<Figure size 1008x360 with 1 Axes>"
      ]
     },
     "metadata": {
      "needs_background": "light"
     },
     "output_type": "display_data"
    }
   ],
   "source": [
    "#PLOTEO DE DATOS TOP 5 PRECIO PROMEDIO USD/M2 SEGUN PROVINCIA\n",
    "#Selecciono la data cuyos registros sean mayor a x numero. Dicha condicion se ve reflejada en la columna 'valor_1_0' (1 si cumple condicion, 0 si no lo cumple)\n",
    "data_provincia_mayor_a_50_registros = data.loc[data['valor_1_0']==1]\n",
    "data_provincia_mayor_a_50_registros\n",
    "dfzone = data_provincia_mayor_a_50_registros.groupby('Provincia').mean()['Precio_M2'].sort_values(ascending = False)[0:5]\n",
    "g = dfzone.sort_values().plot.barh(figsize=(14,5),color='g',fontsize = 15, alpha = 0.6)\n",
    "g.set_title('TOP 5  Precio Promedio (USD/M2) Según Provincia',fontsize=20)\n",
    "g.set_ylabel('Provincia', fontsize=18)\n",
    "g.set_xlabel('USD/M2', fontsize=18)\n",
    "plt.show()"
   ]
  },
  {
   "cell_type": "code",
   "execution_count": 74,
   "metadata": {},
   "outputs": [
    {
     "data": {
      "image/png": "[encoded data removed]",
      "text/plain": [
       "<Figure size 432x288 with 1 Axes>"
      ]
     },
     "metadata": {
      "needs_background": "light"
     },
     "output_type": "display_data"
    }
   ],
   "source": [
    "#PLOTEO DE DATOS NULOS ORIGINALES VS FINALES\n",
    "\n",
    "#Defino mis conjuntos de datos\n",
    "datos = ['Precio_USD','Total_M2','Precio_M2','Nro_Piso','Nro_Ambientes']\n",
    "porcentaje_nulos_originales = [16.84,32.44,43.39,93.48,60.91]\n",
    "porcentaje_nulos_finales = [16.49,28.08,30.15,65.39,45.46]\n",
    "\n",
    "#Creo barras para mi primer conjunto de datos (originales)\n",
    "plt.bar(datos,porcentaje_nulos_originales,align = 'center')\n",
    "\n",
    "#Creo barras para mi segundo conjunto de datos (finales)\n",
    "plt.bar(datos,porcentaje_nulos_finales,color='g',align = 'center')\n",
    "\n",
    "#Doy titulo a la grafica\n",
    "plt.title('Comparacion entre Nulos Iniciales y Finales',size=13)\n",
    "\n",
    "#Incluyo la leyenda\n",
    "plt.legend(['Nulos data original','Nulos data final'])\n",
    "\n",
    "#Defino el titulo de mi eje y\n",
    "plt.ylabel('% de valores nulos',size=12)\n",
    "\n",
    "#Defino valor minimo y maximo del eje y\n",
    "plt.ylim((0,100))\n",
    "\n",
    "#Pongo los datos junto a las barras\n",
    "for datos , porcentaje_nulos_originales in enumerate(porcentaje_nulos_originales):\n",
    "    plt.text(datos , porcentaje_nulos_originales,str(porcentaje_nulos_originales))\n",
    "    \n",
    "    \n",
    "for datos , porcentaje_nulos_finales in enumerate(porcentaje_nulos_finales):\n",
    "    plt.text(datos , porcentaje_nulos_finales-5,str(porcentaje_nulos_finales))\n",
    "\n"
   ]
  },
  {
   "cell_type": "code",
   "execution_count": 75,
   "metadata": {},
   "outputs": [
    {
     "name": "stdout",
     "output_type": "stream",
     "text": [
      "El numero de columnas originales es: 26\n",
      "El numero de columnas finales es: 31\n",
      "El numero de columnas dropeadas es: 13\n",
      "El numero de columnas que conservan el mismo nombre es: 2\n",
      "El numero de columnas renombradas es: 11\n",
      "El numero de columnas nuevas es: 18\n"
     ]
    }
   ],
   "source": [
    "#Contedo de columnas nuevas y modificadas\n",
    "\n",
    "columnas_originales = data_original.shape[1]\n",
    "print('El numero de columnas originales es:',columnas_originales)\n",
    "columnas_finales = data.shape[1]\n",
    "print('El numero de columnas finales es:',columnas_finales)\n",
    "columnas_dropeadas = dataFrame_columnas['Nuevo Nombre / Igual / Dropeada']=='Drop'\n",
    "print('El numero de columnas dropeadas es:',columnas_dropeadas.sum())\n",
    "columnas_conservan_nombre = dataFrame_columnas['Nuevo Nombre / Igual / Dropeada']=='Igual'\n",
    "print('El numero de columnas que conservan el mismo nombre es:',columnas_conservan_nombre.sum())\n",
    "columnas_renombradas = columnas_originales - columnas_dropeadas.sum()-columnas_conservan_nombre.sum()\n",
    "print('El numero de columnas renombradas es:',columnas_renombradas)\n",
    "columnas_nuevas = columnas_finales - columnas_conservan_nombre.sum() - columnas_renombradas\n",
    "print('El numero de columnas nuevas es:',columnas_nuevas)\n",
    "\n",
    "\n",
    "\n"
   ]
  },
  {
   "cell_type": "code",
   "execution_count": 76,
   "metadata": {},
   "outputs": [
    {
     "data": {
      "image/png": "[encoded data removed]",
      "text/plain": [
       "<Figure size 432x288 with 1 Axes>"
      ]
     },
     "metadata": {
      "needs_background": "light"
     },
     "output_type": "display_data"
    }
   ],
   "source": [
    "#PLOTEO MODIFICACION EN COLUMNAS\n",
    "\n",
    "#Defino mis conjuntos de datos\n",
    "columnas = ['Originales','Drop','Iguales','Rename','Nuevas','Finales']\n",
    "cantidad = [columnas_originales,columnas_dropeadas.sum(),columnas_conservan_nombre.sum(),columnas_renombradas,columnas_nuevas,columnas_finales]\n",
    "\n",
    "\n",
    "#Creo barras para mi primer conjunto de datos (originales)\n",
    "plt.bar(columnas,cantidad,align = 'center')\n",
    "\n",
    "\n",
    "#Doy titulo a la grafica\n",
    "plt.title('Cambios Hechos en Columnas',size=13)\n",
    "\n",
    "#Incluyo la leyenda\n",
    "plt.legend(['Columnas'],loc=2)\n",
    "\n",
    "#Defino el titulo de mi eje y\n",
    "plt.ylabel('Cantidad',size=12)\n",
    "\n",
    "#Defino valor minimo y maximo del eje y\n",
    "plt.ylim((0,35))\n",
    "\n",
    "#Pongo los datos junto a las barras\n",
    "for columnas , cantidad in enumerate(cantidad):\n",
    "    plt.text(columnas , cantidad+1,str(cantidad))\n",
    "    \n",
    "    \n"
   ]
  },
  {
   "cell_type": "code",
   "execution_count": 77,
   "metadata": {},
   "outputs": [
    {
     "data": {
      "text/html": [
       "<div>\n",
       "<style scoped>\n",
       "    .dataframe tbody tr th:only-of-type {\n",
       "        vertical-align: middle;\n",
       "    }\n",
       "\n",
       "    .dataframe tbody tr th {\n",
       "        vertical-align: top;\n",
       "    }\n",
       "\n",
       "    .dataframe thead th {\n",
       "        text-align: right;\n",
       "    }\n",
       "</style>\n",
       "<table border=\"1\" class=\"dataframe\">\n",
       "  <thead>\n",
       "    <tr style=\"text-align: right;\">\n",
       "      <th></th>\n",
       "      <th>Columnas Nuevas</th>\n",
       "    </tr>\n",
       "  </thead>\n",
       "  <tbody>\n",
       "    <tr>\n",
       "      <th>1</th>\n",
       "      <td>amenities</td>\n",
       "    </tr>\n",
       "    <tr>\n",
       "      <th>2</th>\n",
       "      <td>portero</td>\n",
       "    </tr>\n",
       "    <tr>\n",
       "      <th>3</th>\n",
       "      <td>seguridad</td>\n",
       "    </tr>\n",
       "    <tr>\n",
       "      <th>4</th>\n",
       "      <td>aptoprof</td>\n",
       "    </tr>\n",
       "    <tr>\n",
       "      <th>5</th>\n",
       "      <td>terraza</td>\n",
       "    </tr>\n",
       "    <tr>\n",
       "      <th>6</th>\n",
       "      <td>balcon</td>\n",
       "    </tr>\n",
       "    <tr>\n",
       "      <th>7</th>\n",
       "      <td>patio</td>\n",
       "    </tr>\n",
       "    <tr>\n",
       "      <th>8</th>\n",
       "      <td>dorm</td>\n",
       "    </tr>\n",
       "    <tr>\n",
       "      <th>9</th>\n",
       "      <td>disp</td>\n",
       "    </tr>\n",
       "    <tr>\n",
       "      <th>10</th>\n",
       "      <td>vista</td>\n",
       "    </tr>\n",
       "    <tr>\n",
       "      <th>11</th>\n",
       "      <td>pozo</td>\n",
       "    </tr>\n",
       "    <tr>\n",
       "      <th>12</th>\n",
       "      <td>baulera</td>\n",
       "    </tr>\n",
       "    <tr>\n",
       "      <th>13</th>\n",
       "      <td>lavadero</td>\n",
       "    </tr>\n",
       "    <tr>\n",
       "      <th>14</th>\n",
       "      <td>garage</td>\n",
       "    </tr>\n",
       "    <tr>\n",
       "      <th>15</th>\n",
       "      <td>PH</td>\n",
       "    </tr>\n",
       "    <tr>\n",
       "      <th>16</th>\n",
       "      <td>Zona</td>\n",
       "    </tr>\n",
       "    <tr>\n",
       "      <th>17</th>\n",
       "      <td>Barrio</td>\n",
       "    </tr>\n",
       "    <tr>\n",
       "      <th>18</th>\n",
       "      <td>valor_1_0</td>\n",
       "    </tr>\n",
       "  </tbody>\n",
       "</table>\n",
       "</div>"
      ],
      "text/plain": [
       "   Columnas Nuevas\n",
       "1        amenities\n",
       "2          portero\n",
       "3        seguridad\n",
       "4         aptoprof\n",
       "5          terraza\n",
       "6           balcon\n",
       "7            patio\n",
       "8             dorm\n",
       "9             disp\n",
       "10           vista\n",
       "11            pozo\n",
       "12         baulera\n",
       "13        lavadero\n",
       "14          garage\n",
       "15              PH\n",
       "16            Zona\n",
       "17          Barrio\n",
       "18       valor_1_0"
      ]
     },
     "execution_count": 77,
     "metadata": {},
     "output_type": "execute_result"
    }
   ],
   "source": [
    "#Visualizacion de columnas nuevas\n",
    "Columnas_nuevas =pd.DataFrame(['amenities', 'portero', 'seguridad', 'aptoprof', 'terraza', 'balcon',\n",
    "       'patio', 'dorm', 'disp', 'vista', 'pozo', 'baulera', 'lavadero',\n",
    "       'garage', 'PH','Zona', 'Barrio',\n",
    "       'valor_1_0'],index=[i+1 for i in range(columnas_nuevas)] ,columns=['Columnas Nuevas'])\n",
    "Columnas_nuevas"
   ]
  },
  {
   "cell_type": "code",
   "execution_count": 78,
   "metadata": {},
   "outputs": [
    {
     "data": {
      "text/plain": [
       "Index(['Tipo_Propiedad', 'lat-lon', 'Expensas', 'description', 'Titulo',\n",
       "       'amenities', 'portero', 'seguridad', 'aptoprof', 'terraza', 'balcon',\n",
       "       'patio', 'dorm', 'disp', 'vista', 'pozo', 'baulera', 'lavadero',\n",
       "       'garage', 'PH', 'Total_M2', 'Precio_USD', 'Nro_Piso', 'Nro_Ambientes',\n",
       "       'Precio_M2', 'Pais', 'Provincia', 'Ciudad', 'Zona', 'Barrio',\n",
       "       'valor_1_0'],\n",
       "      dtype='object')"
      ]
     },
     "execution_count": 78,
     "metadata": {},
     "output_type": "execute_result"
    }
   ],
   "source": [
    "data.columns"
   ]
  },
  {
   "cell_type": "code",
   "execution_count": 79,
   "metadata": {},
   "outputs": [
    {
     "name": "stdout",
     "output_type": "stream",
     "text": [
      "18728.489999999998\n"
     ]
    }
   ],
   "source": [
    "#Calculo de Valores nuevos gracias a REGEX\n",
    "valores_nuevos_gracias_a_REGEX = data.shape[0]*(porcentaje_nulos_originales/100-porcentaje_nulos_finales/100)\n",
    "print(valores_nuevos_gracias_a_REGEX)\n"
   ]
  },
  {
   "cell_type": "code",
   "execution_count": 80,
   "metadata": {},
   "outputs": [
    {
     "data": {
      "text/plain": [
       "121220"
      ]
     },
     "execution_count": 80,
     "metadata": {},
     "output_type": "execute_result"
    }
   ],
   "source": [
    "data.shape[0]"
   ]
  },
  {
   "cell_type": "code",
   "execution_count": 81,
   "metadata": {},
   "outputs": [
    {
     "data": {
      "image/png": "[encoded data removed]",
      "text/plain": [
       "<Figure size 432x288 with 1 Axes>"
      ]
     },
     "metadata": {
      "needs_background": "light"
     },
     "output_type": "display_data"
    }
   ],
   "source": [
    "#PLOTEO DATOS NUEVOS DEBIDO A REGEX\n",
    "\n",
    "#Defino mis conjuntos de datos\n",
    "columnas = ['Datos Nuevos']\n",
    "cantidad = [18728]\n",
    "\n",
    "\n",
    "#Creo barras para mi primer conjunto de datos (originales)\n",
    "plt.bar(columnas,cantidad,align = 'center',width = [0.1])\n",
    "\n",
    "\n",
    "#Doy titulo a la grafica\n",
    "plt.title('Datos Nuevos Debido a REGEX',size=13)\n",
    "\n",
    "#Incluyo la leyenda\n",
    "plt.legend(['Datos Nuevos'],loc=2)\n",
    "\n",
    "#Defino el titulo de mi eje y\n",
    "plt.ylabel('Cantidad',size=12)\n",
    "\n",
    "#Defino valor minimo y maximo del eje y\n",
    "plt.ylim((0,19000))\n",
    "\n",
    "#Pongo los datos junto a las barras\n",
    "for columnas , cantidad in enumerate(cantidad):\n",
    "    plt.text(columnas , cantidad+1,str(cantidad))"
   ]
  },
  {
   "cell_type": "code",
   "execution_count": 89,
   "metadata": {},
   "outputs": [
    {
     "data": {
      "text/plain": [
       "<AxesSubplot:>"
      ]
     },
     "execution_count": 89,
     "metadata": {},
     "output_type": "execute_result"
    },
    {
     "data": {
      "image/png": "[encoded data removed]",
      "text/plain": [
       "<Figure size 432x288 with 2 Axes>"
      ]
     },
     "metadata": {
      "needs_background": "light"
     },
     "output_type": "display_data"
    }
   ],
   "source": [
    "sns.heatmap(data[['Total_M2', 'Precio_USD', 'Nro_Piso', 'Nro_Ambientes',\n",
    "       'Precio_M2']].corr(),annot=True)"
   ]
  },
  {
   "cell_type": "code",
   "execution_count": 91,
   "metadata": {},
   "outputs": [
    {
     "data": {
      "text/plain": [
       "<seaborn.axisgrid.PairGrid at 0x1db20a55188>"
      ]
     },
     "execution_count": 91,
     "metadata": {},
     "output_type": "execute_result"
    },
    {
     "data": {
      "image/png": "[encoded data removed]",
      "text/plain": [
       "<Figure size 900x900 with 30 Axes>"
      ]
     },
     "metadata": {
      "needs_background": "light"
     },
     "output_type": "display_data"
    }
   ],
   "source": [
    "sns.pairplot(data[['Total_M2', 'Precio_USD', 'Nro_Piso', 'Nro_Ambientes',\n",
    "       'Precio_M2']])"
   ]
  },
  {
   "cell_type": "code",
   "execution_count": null,
   "metadata": {},
   "outputs": [],
   "source": []
  }
 ],
 "metadata": {
  "kernelspec": {
   "display_name": "Python 3",
   "language": "python",
   "name": "python3"
  },
  "language_info": {
   "codemirror_mode": {
    "name": "ipython",
    "version": 3
   },
   "file_extension": ".py",
   "mimetype": "text/x-python",
   "name": "python",
   "nbconvert_exporter": "python",
   "pygments_lexer": "ipython3",
   "version": "3.7.9"
  }
 },
 "nbformat": 4,
 "nbformat_minor": 4
}
