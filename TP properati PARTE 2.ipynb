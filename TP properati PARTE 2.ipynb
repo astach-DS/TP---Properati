{
 "cells": [
  {
   "cell_type": "code",
   "execution_count": 4,
   "metadata": {},
   "outputs": [],
   "source": [
    "import pandas as pd\n",
    "import numpy as np\n",
    "import seaborn as sns\n",
    "import matplotlib.pyplot as plt\n",
    "\n",
    "from sklearn import linear_model\n",
    "from sklearn.model_selection import train_test_split\n",
    "from sklearn import metrics\n",
    "\n",
    "\n",
    "data = pd.read_csv('TP2_dataset.csv')"
   ]
  },
  {
   "cell_type": "code",
   "execution_count": 5,
   "metadata": {},
   "outputs": [],
   "source": [
    "data['Total_M2^2'] = data['Total_M2'] * data['Total_M2']\n"
   ]
  },
  {
   "cell_type": "code",
   "execution_count": 11,
   "metadata": {},
   "outputs": [
    {
     "data": {
      "text/plain": [
       "239"
      ]
     },
     "execution_count": 11,
     "metadata": {},
     "output_type": "execute_result"
    }
   ],
   "source": [
    "len(data['Ubicacion'].unique())"
   ]
  },
  {
   "cell_type": "code",
   "execution_count": 12,
   "metadata": {},
   "outputs": [
    {
     "name": "stdout",
     "output_type": "stream",
     "text": [
      "LassoCV con columnas ['Ubicacion']\n",
      "r2: 0.525534752520195\n",
      "MAE: 494.0939470910461\n",
      "MSE: 410588.7068685873\n",
      "RMSE: 640.7719616748125\n",
      "LassoCV con columnas ['Ubicacion', 'Tipo_Propiedad']\n",
      "r2: 0.6573715245360277\n",
      "MAE: 411.3220961109232\n",
      "MSE: 295300.4232063935\n",
      "RMSE: 543.4155161627183\n",
      "LassoCV con columnas ['Ubicacion', 'Tipo_Propiedad'] y ['Total_M2']\n",
      "r2: 0.7018123101623741\n",
      "MAE: 375.3854095578363\n",
      "MSE: 254467.79385290618\n",
      "RMSE: 504.4480090682351\n",
      "LassoCV con columnas ['Ubicacion', 'Tipo_Propiedad'] y ['Total_M2', 'amenities']\n",
      "r2: 0.7083192922014276\n",
      "MAE: 370.5904328591537\n",
      "MSE: 249013.68985625147\n",
      "RMSE: 499.01271512482674\n",
      "LassoCV con columnas ['Ubicacion', 'Tipo_Propiedad'] y ['Total_M2', 'amenities', 'portero']\n",
      "r2: 0.7083304437729225\n",
      "MAE: 370.5443470205046\n",
      "MSE: 249003.1596423083\n",
      "RMSE: 499.0021639655567\n",
      "LassoCV con columnas ['Ubicacion', 'Tipo_Propiedad'] y ['Total_M2', 'amenities', 'portero', 'seguridad']\n",
      "r2: 0.7092537064022146\n",
      "MAE: 369.52750919314434\n",
      "MSE: 248088.77491126585\n",
      "RMSE: 498.0851081002782\n",
      "LassoCV con columnas ['Ubicacion', 'Tipo_Propiedad'] y ['Total_M2', 'amenities', 'portero', 'seguridad', 'vista']\n",
      "r2: 0.7141239651394046\n",
      "MAE: 366.83116080895473\n",
      "MSE: 244269.73612937762\n",
      "RMSE: 494.23651840933167\n",
      "LassoCV con columnas ['Ubicacion', 'Tipo_Propiedad'] y ['Total_M2', 'amenities', 'portero', 'seguridad', 'vista', 'pozo']\n",
      "r2: 0.7142121933856878\n",
      "MAE: 366.8889295687388\n",
      "MSE: 244224.97058681413\n",
      "RMSE: 494.19122876353657\n",
      "LassoCV con columnas ['Ubicacion', 'Tipo_Propiedad'] y ['Total_M2', 'amenities', 'portero', 'seguridad', 'vista', 'pozo', 'baulera']\n",
      "r2: 0.7150147074371337\n",
      "MAE: 366.18602828958166\n",
      "MSE: 243612.72245718012\n",
      "RMSE: 493.57139550138044\n",
      "LassoCV con columnas ['Ubicacion', 'Tipo_Propiedad'] y ['Total_M2', 'amenities', 'portero', 'seguridad', 'vista', 'pozo', 'baulera', 'lavadero']\n",
      "r2: 0.7150351481142958\n",
      "MAE: 366.16859988573634\n",
      "MSE: 243605.51891685597\n",
      "RMSE: 493.56409808337554\n",
      "LassoCV con columnas ['Ubicacion', 'Tipo_Propiedad'] y ['Total_M2', 'amenities', 'portero', 'seguridad', 'vista', 'pozo', 'baulera', 'lavadero', 'garage']\n",
      "r2: 0.7167608191011625\n",
      "MAE: 364.7589522436438\n",
      "MSE: 241956.0612898207\n",
      "RMSE: 491.89029395772866\n",
      "LassoCV con columnas ['Ubicacion', 'Tipo_Propiedad'] y ['Total_M2', 'amenities', 'portero', 'seguridad', 'vista', 'pozo', 'baulera', 'lavadero', 'garage', 'Total_M2^2']\n",
      "r2: 0.720454065303203\n",
      "MAE: 361.138837051125\n",
      "MSE: 238728.2886268687\n",
      "RMSE: 488.59828962744916\n",
      "LassoCV con columnas ['Ubicacion', 'Tipo_Propiedad'] y ['Total_M2', 'amenities', 'portero', 'seguridad', 'vista', 'pozo', 'baulera', 'lavadero', 'garage', 'Total_M2^2', 'Nro_Piso']\n",
      "r2: 0.7206861958244898\n",
      "MAE: 361.0855339044568\n",
      "MSE: 238811.9630038229\n",
      "RMSE: 488.68390909034736\n",
      "LassoCV con columnas ['Ubicacion', 'Tipo_Propiedad'] y ['Total_M2', 'amenities', 'portero', 'seguridad', 'vista', 'pozo', 'baulera', 'lavadero', 'garage', 'Total_M2^2', 'Nro_Piso', 'patio']\n",
      "r2: 0.7225367880071258\n",
      "MAE: 360.23558207933763\n",
      "MSE: 237370.65242605336\n",
      "RMSE: 487.20699135588495\n",
      "LassoCV con columnas ['Ubicacion', 'Tipo_Propiedad'] y ['Total_M2', 'amenities', 'portero', 'seguridad', 'vista', 'pozo', 'baulera', 'lavadero', 'garage', 'Total_M2^2', 'Nro_Piso', 'patio', 'aptoprof']\n",
      "r2: 0.7228443781824995\n",
      "MAE: 360.2334569434477\n",
      "MSE: 237069.22822153196\n",
      "RMSE: 486.8975541338567\n",
      "LassoCV con columnas ['Ubicacion', 'Tipo_Propiedad'] y ['Total_M2', 'amenities', 'portero', 'seguridad', 'vista', 'pozo', 'baulera', 'lavadero', 'garage', 'Total_M2^2', 'Nro_Piso', 'patio', 'aptoprof', 'Precio_USD']\n",
      "r2: 0.8267737243909525\n",
      "MAE: 280.8572176656865\n",
      "MSE: 148840.09597985973\n",
      "RMSE: 385.7979989319018\n"
     ]
    }
   ],
   "source": [
    "lm_lassocv = linear_model.LassoCV(normalize = True, cv = 8)\n",
    "columnas_dummies = ['Ubicacion','Tipo_Propiedad']\n",
    "dummies = [] \n",
    "r2 = []\n",
    "mae = []\n",
    "for i in columnas_dummies:\n",
    "    dummies.append(i)\n",
    "    x = pd.get_dummies(data[dummies],drop_first=True) \n",
    "    y = data['Precio_M2']\n",
    "    xtrain,xtest,ytrain,ytest = train_test_split(x,y,random_state=49)\n",
    "    model  = lm_lassocv.fit(xtrain,ytrain)\n",
    "    ypred = lm_lassocv.predict(xtest)\n",
    "    r2.append(lm_lassocv.score(xtrain,ytrain))\n",
    "    mae.append(metrics.mean_absolute_error(ytest, ypred))\n",
    "    print('LassoCV con columnas',dummies)\n",
    "    print('r2:',lm_lassocv.score(xtrain,ytrain))\n",
    "    print ('MAE:', metrics.mean_absolute_error(ytest, ypred))\n",
    "    print ('MSE:', metrics.mean_squared_error(ytest, ypred))\n",
    "    print ('RMSE:', np.sqrt(metrics.mean_squared_error(ytest, ypred)))\n",
    "\n",
    "columnas_df= ['Total_M2','amenities', 'portero', 'seguridad',  'vista', 'pozo', \n",
    "              'baulera', 'lavadero','garage','Total_M2^2','Nro_Piso','patio','aptoprof','Precio_USD']\n",
    "columnas = []\n",
    "for i in columnas_df:\n",
    "    columnas.append(i)\n",
    "    x= pd.concat([pd.get_dummies(data[dummies],drop_first=True),data[columnas]],axis = 1)\n",
    "    xtrain,xtest,ytrain,ytest = train_test_split(x,y,random_state=49)\n",
    "    model  = lm_lassocv.fit(xtrain,ytrain)\n",
    "    ypred = lm_lassocv.predict(xtest)\n",
    "    r2.append(lm_lassocv.score(xtrain,ytrain))\n",
    "    mae.append(metrics.mean_absolute_error(ytest, ypred))\n",
    "    print('LassoCV con columnas',dummies,'y',columnas)\n",
    "    print('r2:',lm_lassocv.score(xtrain,ytrain))\n",
    "    print ('MAE:', metrics.mean_absolute_error(ytest, ypred))\n",
    "    print ('MSE:', metrics.mean_squared_error(ytest, ypred))\n",
    "    print ('RMSE:', np.sqrt(metrics.mean_squared_error(ytest, ypred)))\n",
    "    \n"
   ]
  },
  {
   "cell_type": "code",
   "execution_count": 14,
   "metadata": {},
   "outputs": [
    {
     "data": {
      "text/plain": [
       "[494.0939470910461,\n",
       " 411.3220961109232,\n",
       " 375.3854095578363,\n",
       " 370.5904328591537,\n",
       " 370.5443470205046,\n",
       " 369.52750919314434,\n",
       " 366.83116080895473,\n",
       " 366.8889295687388,\n",
       " 366.18602828958166,\n",
       " 366.16859988573634,\n",
       " 364.7589522436438,\n",
       " 361.138837051125,\n",
       " 361.0855339044568,\n",
       " 360.23558207933763,\n",
       " 360.2334569434477,\n",
       " 280.8572176656865]"
      ]
     },
     "execution_count": 14,
     "metadata": {},
     "output_type": "execute_result"
    }
   ],
   "source": [
    "r2\n",
    "mae"
   ]
  },
  {
   "cell_type": "raw",
   "metadata": {},
   "source": [
    "columnas_df= ['Total_M2','amenities', 'portero', 'seguridad',  'vista', 'pozo', \n",
    "              'baulera', 'lavadero','garage','Total_M2^2','Nro_Piso','patio','aptoprof','Precio_USD']\n",
    "columnas = []\n",
    "for i in columnas_df:\n",
    "    columnas.append(i)\n",
    "    x= pd.concat([pd.get_dummies(data[dummies],drop_first=True),data[columnas]],axis = 1)\n",
    "    xtrain,xtest,ytrain,ytest = train_test_split(x,y,random_state=49)\n",
    "    model  = lm_lassocv.fit(xtrain,ytrain)\n",
    "    ypred = lm_lassocv.predict(xtest)\n",
    "    print('LassoCV con columnas',dummies,'y',columnas)\n",
    "    print('r2:',lm_lassocv.score(xtrain,ytrain))\n",
    "    print ('MAE:', metrics.mean_absolute_error(ytest, ypred))\n",
    "    print ('MSE:', metrics.mean_squared_error(ytest, ypred))\n",
    "    print ('RMSE:', np.sqrt(metrics.mean_squared_error(ytest, ypred)))"
   ]
  },
  {
   "cell_type": "code",
   "execution_count": null,
   "metadata": {},
   "outputs": [],
   "source": [
    "#,data[['Total_M2','amenities', 'portero', 'seguridad',  'vista', 'pozo', 'baulera', 'lavadero','garage','Total_M2^2','Nro_Piso','patio','aptoprof','Precio_USD']]],axis = 1 )\n",
    "    print(x)"
   ]
  },
  {
   "cell_type": "code",
   "execution_count": null,
   "metadata": {},
   "outputs": [],
   "source": [
    "\n",
    "lm_lassocv = linear_model.LassoCV(normalize = True, cv = 8)\n",
    "x=pd.concat([pd.get_dummies(data[['Ubicacion','Tipo_Propiedad']],drop_first=True),data[['Total_M2','amenities', 'portero', 'seguridad',  'vista', 'pozo', 'baulera', 'lavadero','garage','Total_M2^2','Nro_Piso','patio','aptoprof','Precio_USD']]],axis = 1 )\n",
    "y=data['Precio_M2']\n",
    "xtrain,xtest,ytrain,ytest = train_test_split(x,y,random_state=49)\n",
    "model  = lm_lassocv.fit(xtrain,ytrain)\n",
    "ypred = lm_lassocv.predict(xtest)\n",
    "print('LassoCV')\n",
    "print('r2:',lm_lassocv.score(xtrain,ytrain))\n",
    "\n",
    "\n",
    "print ('MAE:', metrics.mean_absolute_error(ytest, ypred))\n",
    "print ('MSE:', metrics.mean_squared_error(ytest, ypred))\n",
    "print ('RMSE:', np.sqrt(metrics.mean_squared_error(ytest, ypred)))\n",
    "print ('R2:', metrics.r2_score(ytest, ypred))"
   ]
  },
  {
   "cell_type": "code",
   "execution_count": null,
   "metadata": {},
   "outputs": [],
   "source": [
    "data.drop(labels = mask[mask].index, inplace= True)"
   ]
  },
  {
   "cell_type": "code",
   "execution_count": null,
   "metadata": {},
   "outputs": [],
   "source": [
    "data.shape[0]"
   ]
  },
  {
   "cell_type": "code",
   "execution_count": null,
   "metadata": {},
   "outputs": [],
   "source": [
    "sns.residplot(x=ypred, y=ytest, lowess=True, color=\"g\")"
   ]
  },
  {
   "cell_type": "code",
   "execution_count": null,
   "metadata": {},
   "outputs": [],
   "source": [
    "data.corr()"
   ]
  },
  {
   "cell_type": "code",
   "execution_count": null,
   "metadata": {},
   "outputs": [],
   "source": []
  }
 ],
 "metadata": {
  "kernelspec": {
   "display_name": "Python 3",
   "language": "python",
   "name": "python3"
  },
  "language_info": {
   "codemirror_mode": {
    "name": "ipython",
    "version": 3
   },
   "file_extension": ".py",
   "mimetype": "text/x-python",
   "name": "python",
   "nbconvert_exporter": "python",
   "pygments_lexer": "ipython3",
   "version": "3.7.9"
  }
 },
 "nbformat": 4,
 "nbformat_minor": 4
}
