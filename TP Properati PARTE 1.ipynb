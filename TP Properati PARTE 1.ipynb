{
 "cells": [
  {
   "cell_type": "raw",
   "metadata": {},
   "source": [
    "DATASET Properati 142Mb\n",
    "\n",
    "Primero lo importamos"
   ]
  },
  {
   "cell_type": "code",
   "execution_count": 1,
   "metadata": {},
   "outputs": [],
   "source": [
    "import pandas as pd\n",
    "import numpy as np\n",
    "import seaborn as sns\n",
    "import matplotlib.pyplot as plt\n",
    "#from geopy.geocoders import Nominatim\n",
    "import re\n",
    "data_location = \"Properati.csv\"\n",
    "data , data_original = pd.read_csv(data_location, index_col= [0]) , pd.read_csv(data_location, index_col  =[0])\n",
    "data.head()\n",
    "data['description'] = data['description'].astype(str)"
   ]
  },
  {
   "cell_type": "code",
   "execution_count": 2,
   "metadata": {},
   "outputs": [
    {
     "data": {
      "text/html": [
       "<div>\n",
       "<style scoped>\n",
       "    .dataframe tbody tr th:only-of-type {\n",
       "        vertical-align: middle;\n",
       "    }\n",
       "\n",
       "    .dataframe tbody tr th {\n",
       "        vertical-align: top;\n",
       "    }\n",
       "\n",
       "    .dataframe thead th {\n",
       "        text-align: right;\n",
       "    }\n",
       "</style>\n",
       "<table border=\"1\" class=\"dataframe\">\n",
       "  <thead>\n",
       "    <tr style=\"text-align: right;\">\n",
       "      <th></th>\n",
       "      <th>operation</th>\n",
       "      <th>property_type</th>\n",
       "      <th>place_name</th>\n",
       "      <th>place_with_parent_names</th>\n",
       "      <th>country_name</th>\n",
       "      <th>state_name</th>\n",
       "      <th>geonames_id</th>\n",
       "      <th>lat-lon</th>\n",
       "      <th>lat</th>\n",
       "      <th>lon</th>\n",
       "      <th>...</th>\n",
       "      <th>surface_covered_in_m2</th>\n",
       "      <th>price_usd_per_m2</th>\n",
       "      <th>price_per_m2</th>\n",
       "      <th>floor</th>\n",
       "      <th>rooms</th>\n",
       "      <th>expenses</th>\n",
       "      <th>properati_url</th>\n",
       "      <th>description</th>\n",
       "      <th>title</th>\n",
       "      <th>image_thumbnail</th>\n",
       "    </tr>\n",
       "  </thead>\n",
       "  <tbody>\n",
       "    <tr>\n",
       "      <th>0</th>\n",
       "      <td>sell</td>\n",
       "      <td>PH</td>\n",
       "      <td>Mataderos</td>\n",
       "      <td>|Argentina|Capital Federal|Mataderos|</td>\n",
       "      <td>Argentina</td>\n",
       "      <td>Capital Federal</td>\n",
       "      <td>3430787.0</td>\n",
       "      <td>-34.6618237,-58.5088387</td>\n",
       "      <td>-34.661824</td>\n",
       "      <td>-58.508839</td>\n",
       "      <td>...</td>\n",
       "      <td>40.0</td>\n",
       "      <td>1127.272727</td>\n",
       "      <td>1550.000000</td>\n",
       "      <td>NaN</td>\n",
       "      <td>NaN</td>\n",
       "      <td>NaN</td>\n",
       "      <td>http://www.properati.com.ar/15bo8_venta_ph_mat...</td>\n",
       "      <td>2 AMBIENTES TIPO CASA PLANTA BAJA POR PASILLO,...</td>\n",
       "      <td>2 AMB TIPO CASA SIN EXPENSAS EN PB</td>\n",
       "      <td>https://thumbs4.properati.com/8/BluUYiHJLhgIIK...</td>\n",
       "    </tr>\n",
       "    <tr>\n",
       "      <th>1</th>\n",
       "      <td>sell</td>\n",
       "      <td>apartment</td>\n",
       "      <td>La Plata</td>\n",
       "      <td>|Argentina|Bs.As. G.B.A. Zona Sur|La Plata|</td>\n",
       "      <td>Argentina</td>\n",
       "      <td>Bs.As. G.B.A. Zona Sur</td>\n",
       "      <td>3432039.0</td>\n",
       "      <td>-34.9038831,-57.9643295</td>\n",
       "      <td>-34.903883</td>\n",
       "      <td>-57.964330</td>\n",
       "      <td>...</td>\n",
       "      <td>NaN</td>\n",
       "      <td>NaN</td>\n",
       "      <td>NaN</td>\n",
       "      <td>NaN</td>\n",
       "      <td>NaN</td>\n",
       "      <td>NaN</td>\n",
       "      <td>http://www.properati.com.ar/15bob_venta_depart...</td>\n",
       "      <td>Venta de departamento en décimo piso al frente...</td>\n",
       "      <td>VENTA Depto 2 dorm. a estrenar 7 e/ 36 y 37   ...</td>\n",
       "      <td>https://thumbs4.properati.com/7/ikpVBu2ztHA7jv...</td>\n",
       "    </tr>\n",
       "    <tr>\n",
       "      <th>2</th>\n",
       "      <td>sell</td>\n",
       "      <td>apartment</td>\n",
       "      <td>Mataderos</td>\n",
       "      <td>|Argentina|Capital Federal|Mataderos|</td>\n",
       "      <td>Argentina</td>\n",
       "      <td>Capital Federal</td>\n",
       "      <td>3430787.0</td>\n",
       "      <td>-34.6522615,-58.5229825</td>\n",
       "      <td>-34.652262</td>\n",
       "      <td>-58.522982</td>\n",
       "      <td>...</td>\n",
       "      <td>55.0</td>\n",
       "      <td>1309.090909</td>\n",
       "      <td>1309.090909</td>\n",
       "      <td>NaN</td>\n",
       "      <td>NaN</td>\n",
       "      <td>NaN</td>\n",
       "      <td>http://www.properati.com.ar/15bod_venta_depart...</td>\n",
       "      <td>2 AMBIENTES 3ER PISO LATERAL LIVING COMEDOR AM...</td>\n",
       "      <td>2 AMB 3ER PISO CON ASCENSOR APTO CREDITO</td>\n",
       "      <td>https://thumbs4.properati.com/5/SXKr34F_IwG3W_...</td>\n",
       "    </tr>\n",
       "    <tr>\n",
       "      <th>3</th>\n",
       "      <td>sell</td>\n",
       "      <td>PH</td>\n",
       "      <td>Liniers</td>\n",
       "      <td>|Argentina|Capital Federal|Liniers|</td>\n",
       "      <td>Argentina</td>\n",
       "      <td>Capital Federal</td>\n",
       "      <td>3431333.0</td>\n",
       "      <td>-34.6477969,-58.5164244</td>\n",
       "      <td>-34.647797</td>\n",
       "      <td>-58.516424</td>\n",
       "      <td>...</td>\n",
       "      <td>NaN</td>\n",
       "      <td>NaN</td>\n",
       "      <td>NaN</td>\n",
       "      <td>NaN</td>\n",
       "      <td>NaN</td>\n",
       "      <td>NaN</td>\n",
       "      <td>http://www.properati.com.ar/15boh_venta_ph_lin...</td>\n",
       "      <td>PH 3 ambientes con patio. Hay 3 deptos en lote...</td>\n",
       "      <td>PH 3 amb. cfte. reciclado</td>\n",
       "      <td>https://thumbs4.properati.com/3/DgIfX-85Mog5SP...</td>\n",
       "    </tr>\n",
       "    <tr>\n",
       "      <th>4</th>\n",
       "      <td>sell</td>\n",
       "      <td>apartment</td>\n",
       "      <td>Centro</td>\n",
       "      <td>|Argentina|Buenos Aires Costa Atlántica|Mar de...</td>\n",
       "      <td>Argentina</td>\n",
       "      <td>Buenos Aires Costa Atlántica</td>\n",
       "      <td>3435548.0</td>\n",
       "      <td>-38.0026256,-57.5494468</td>\n",
       "      <td>-38.002626</td>\n",
       "      <td>-57.549447</td>\n",
       "      <td>...</td>\n",
       "      <td>35.0</td>\n",
       "      <td>1828.571429</td>\n",
       "      <td>1828.571429</td>\n",
       "      <td>NaN</td>\n",
       "      <td>NaN</td>\n",
       "      <td>NaN</td>\n",
       "      <td>http://www.properati.com.ar/15bok_venta_depart...</td>\n",
       "      <td>DEPARTAMENTO CON FANTÁSTICA ILUMINACIÓN NATURA...</td>\n",
       "      <td>DEPTO 2 AMB AL CONTRAFRENTE ZONA CENTRO/PLAZA ...</td>\n",
       "      <td>https://thumbs4.properati.com/5/xrRqlNcSI_vs-f...</td>\n",
       "    </tr>\n",
       "    <tr>\n",
       "      <th>...</th>\n",
       "      <td>...</td>\n",
       "      <td>...</td>\n",
       "      <td>...</td>\n",
       "      <td>...</td>\n",
       "      <td>...</td>\n",
       "      <td>...</td>\n",
       "      <td>...</td>\n",
       "      <td>...</td>\n",
       "      <td>...</td>\n",
       "      <td>...</td>\n",
       "      <td>...</td>\n",
       "      <td>...</td>\n",
       "      <td>...</td>\n",
       "      <td>...</td>\n",
       "      <td>...</td>\n",
       "      <td>...</td>\n",
       "      <td>...</td>\n",
       "      <td>...</td>\n",
       "      <td>...</td>\n",
       "      <td>...</td>\n",
       "      <td>...</td>\n",
       "    </tr>\n",
       "    <tr>\n",
       "      <th>121215</th>\n",
       "      <td>sell</td>\n",
       "      <td>apartment</td>\n",
       "      <td>Belgrano</td>\n",
       "      <td>|Argentina|Capital Federal|Belgrano|</td>\n",
       "      <td>Argentina</td>\n",
       "      <td>Capital Federal</td>\n",
       "      <td>3436077.0</td>\n",
       "      <td>NaN</td>\n",
       "      <td>NaN</td>\n",
       "      <td>NaN</td>\n",
       "      <td>...</td>\n",
       "      <td>93.0</td>\n",
       "      <td>7699.115044</td>\n",
       "      <td>9354.838710</td>\n",
       "      <td>NaN</td>\n",
       "      <td>NaN</td>\n",
       "      <td>10000.0</td>\n",
       "      <td>http://www.properati.com.ar/1cja2_venta_depart...</td>\n",
       "      <td>TORRE FORUM ALCORTA - MÁXIMA CATEGORÍA.Impecab...</td>\n",
       "      <td>Torre Forum Alcorta- Impecable 3 ambientes</td>\n",
       "      <td>https://thumbs4.properati.com/1/bjms0KnaAnlNoQ...</td>\n",
       "    </tr>\n",
       "    <tr>\n",
       "      <th>121216</th>\n",
       "      <td>sell</td>\n",
       "      <td>house</td>\n",
       "      <td>Beccar</td>\n",
       "      <td>|Argentina|Bs.As. G.B.A. Zona Norte|San Isidro...</td>\n",
       "      <td>Argentina</td>\n",
       "      <td>Bs.As. G.B.A. Zona Norte</td>\n",
       "      <td>3436080.0</td>\n",
       "      <td>NaN</td>\n",
       "      <td>NaN</td>\n",
       "      <td>NaN</td>\n",
       "      <td>...</td>\n",
       "      <td>360.0</td>\n",
       "      <td>1383.333333</td>\n",
       "      <td>1383.333333</td>\n",
       "      <td>NaN</td>\n",
       "      <td>NaN</td>\n",
       "      <td>NaN</td>\n",
       "      <td>http://www.properati.com.ar/1cja6_venta_casa_b...</td>\n",
       "      <td>Excelente e impecable casa en Venta en Las Lom...</td>\n",
       "      <td>Ruca Inmuebles | Venta | Lomas de San Isidro |...</td>\n",
       "      <td>https://thumbs4.properati.com/2/PCc3WuQDjpNZc4...</td>\n",
       "    </tr>\n",
       "    <tr>\n",
       "      <th>121217</th>\n",
       "      <td>sell</td>\n",
       "      <td>apartment</td>\n",
       "      <td>Villa Urquiza</td>\n",
       "      <td>|Argentina|Capital Federal|Villa Urquiza|</td>\n",
       "      <td>Argentina</td>\n",
       "      <td>Capital Federal</td>\n",
       "      <td>3433775.0</td>\n",
       "      <td>-34.5706388726,-58.4755963355</td>\n",
       "      <td>-34.570639</td>\n",
       "      <td>-58.475596</td>\n",
       "      <td>...</td>\n",
       "      <td>39.0</td>\n",
       "      <td>2858.695652</td>\n",
       "      <td>3371.794872</td>\n",
       "      <td>NaN</td>\n",
       "      <td>NaN</td>\n",
       "      <td>NaN</td>\n",
       "      <td>http://www.properati.com.ar/1cja7_venta_depart...</td>\n",
       "      <td>VENTA DEPARTAMENTO AMBIENTE DIVISIBLE A ESTREN...</td>\n",
       "      <td>VENTA DEPARTAMENTO AMBIENTE DIVISIBLE A ESTREN...</td>\n",
       "      <td>https://thumbs4.properati.com/9/YAe_-2gRVykADP...</td>\n",
       "    </tr>\n",
       "    <tr>\n",
       "      <th>121218</th>\n",
       "      <td>sell</td>\n",
       "      <td>apartment</td>\n",
       "      <td>Plaza Colón</td>\n",
       "      <td>|Argentina|Buenos Aires Costa Atlántica|Mar de...</td>\n",
       "      <td>Argentina</td>\n",
       "      <td>Buenos Aires Costa Atlántica</td>\n",
       "      <td>NaN</td>\n",
       "      <td>NaN</td>\n",
       "      <td>NaN</td>\n",
       "      <td>NaN</td>\n",
       "      <td>...</td>\n",
       "      <td>48.0</td>\n",
       "      <td>1997.916667</td>\n",
       "      <td>1997.916667</td>\n",
       "      <td>NaN</td>\n",
       "      <td>NaN</td>\n",
       "      <td>NaN</td>\n",
       "      <td>http://www.properati.com.ar/1cja8_venta_depart...</td>\n",
       "      <td>2 Amb al contrafrente,  luminoso. El departame...</td>\n",
       "      <td>2 amb. C/ dep. de servicio al contrafrente| Re...</td>\n",
       "      <td>https://thumbs4.properati.com/8/Q12PTvU6BQJ0ib...</td>\n",
       "    </tr>\n",
       "    <tr>\n",
       "      <th>121219</th>\n",
       "      <td>sell</td>\n",
       "      <td>apartment</td>\n",
       "      <td>Capital Federal</td>\n",
       "      <td>|Argentina|Capital Federal|</td>\n",
       "      <td>Argentina</td>\n",
       "      <td>Capital Federal</td>\n",
       "      <td>3433955.0</td>\n",
       "      <td>NaN</td>\n",
       "      <td>NaN</td>\n",
       "      <td>NaN</td>\n",
       "      <td>...</td>\n",
       "      <td>77.0</td>\n",
       "      <td>1675.324675</td>\n",
       "      <td>1675.324675</td>\n",
       "      <td>NaN</td>\n",
       "      <td>NaN</td>\n",
       "      <td>3500.0</td>\n",
       "      <td>http://www.properati.com.ar/1cjaa_venta_depart...</td>\n",
       "      <td>Departamento de 77 m2 apto profesional. Edific...</td>\n",
       "      <td>Departamento apto profesional en el Centro</td>\n",
       "      <td>https://thumbs4.properati.com/8/mNEsnQWqB7joBF...</td>\n",
       "    </tr>\n",
       "  </tbody>\n",
       "</table>\n",
       "<p>121220 rows × 25 columns</p>\n",
       "</div>"
      ],
      "text/plain": [
       "       operation property_type       place_name  \\\n",
       "0           sell            PH        Mataderos   \n",
       "1           sell     apartment         La Plata   \n",
       "2           sell     apartment        Mataderos   \n",
       "3           sell            PH          Liniers   \n",
       "4           sell     apartment           Centro   \n",
       "...          ...           ...              ...   \n",
       "121215      sell     apartment         Belgrano   \n",
       "121216      sell         house           Beccar   \n",
       "121217      sell     apartment    Villa Urquiza   \n",
       "121218      sell     apartment      Plaza Colón   \n",
       "121219      sell     apartment  Capital Federal   \n",
       "\n",
       "                                  place_with_parent_names country_name  \\\n",
       "0                   |Argentina|Capital Federal|Mataderos|    Argentina   \n",
       "1             |Argentina|Bs.As. G.B.A. Zona Sur|La Plata|    Argentina   \n",
       "2                   |Argentina|Capital Federal|Mataderos|    Argentina   \n",
       "3                     |Argentina|Capital Federal|Liniers|    Argentina   \n",
       "4       |Argentina|Buenos Aires Costa Atlántica|Mar de...    Argentina   \n",
       "...                                                   ...          ...   \n",
       "121215               |Argentina|Capital Federal|Belgrano|    Argentina   \n",
       "121216  |Argentina|Bs.As. G.B.A. Zona Norte|San Isidro...    Argentina   \n",
       "121217          |Argentina|Capital Federal|Villa Urquiza|    Argentina   \n",
       "121218  |Argentina|Buenos Aires Costa Atlántica|Mar de...    Argentina   \n",
       "121219                        |Argentina|Capital Federal|    Argentina   \n",
       "\n",
       "                          state_name  geonames_id  \\\n",
       "0                    Capital Federal    3430787.0   \n",
       "1             Bs.As. G.B.A. Zona Sur    3432039.0   \n",
       "2                    Capital Federal    3430787.0   \n",
       "3                    Capital Federal    3431333.0   \n",
       "4       Buenos Aires Costa Atlántica    3435548.0   \n",
       "...                              ...          ...   \n",
       "121215               Capital Federal    3436077.0   \n",
       "121216      Bs.As. G.B.A. Zona Norte    3436080.0   \n",
       "121217               Capital Federal    3433775.0   \n",
       "121218  Buenos Aires Costa Atlántica          NaN   \n",
       "121219               Capital Federal    3433955.0   \n",
       "\n",
       "                              lat-lon        lat        lon  ...  \\\n",
       "0             -34.6618237,-58.5088387 -34.661824 -58.508839  ...   \n",
       "1             -34.9038831,-57.9643295 -34.903883 -57.964330  ...   \n",
       "2             -34.6522615,-58.5229825 -34.652262 -58.522982  ...   \n",
       "3             -34.6477969,-58.5164244 -34.647797 -58.516424  ...   \n",
       "4             -38.0026256,-57.5494468 -38.002626 -57.549447  ...   \n",
       "...                               ...        ...        ...  ...   \n",
       "121215                            NaN        NaN        NaN  ...   \n",
       "121216                            NaN        NaN        NaN  ...   \n",
       "121217  -34.5706388726,-58.4755963355 -34.570639 -58.475596  ...   \n",
       "121218                            NaN        NaN        NaN  ...   \n",
       "121219                            NaN        NaN        NaN  ...   \n",
       "\n",
       "        surface_covered_in_m2 price_usd_per_m2  price_per_m2  floor  rooms  \\\n",
       "0                        40.0      1127.272727   1550.000000    NaN    NaN   \n",
       "1                         NaN              NaN           NaN    NaN    NaN   \n",
       "2                        55.0      1309.090909   1309.090909    NaN    NaN   \n",
       "3                         NaN              NaN           NaN    NaN    NaN   \n",
       "4                        35.0      1828.571429   1828.571429    NaN    NaN   \n",
       "...                       ...              ...           ...    ...    ...   \n",
       "121215                   93.0      7699.115044   9354.838710    NaN    NaN   \n",
       "121216                  360.0      1383.333333   1383.333333    NaN    NaN   \n",
       "121217                   39.0      2858.695652   3371.794872    NaN    NaN   \n",
       "121218                   48.0      1997.916667   1997.916667    NaN    NaN   \n",
       "121219                   77.0      1675.324675   1675.324675    NaN    NaN   \n",
       "\n",
       "        expenses                                      properati_url  \\\n",
       "0            NaN  http://www.properati.com.ar/15bo8_venta_ph_mat...   \n",
       "1            NaN  http://www.properati.com.ar/15bob_venta_depart...   \n",
       "2            NaN  http://www.properati.com.ar/15bod_venta_depart...   \n",
       "3            NaN  http://www.properati.com.ar/15boh_venta_ph_lin...   \n",
       "4            NaN  http://www.properati.com.ar/15bok_venta_depart...   \n",
       "...          ...                                                ...   \n",
       "121215   10000.0  http://www.properati.com.ar/1cja2_venta_depart...   \n",
       "121216       NaN  http://www.properati.com.ar/1cja6_venta_casa_b...   \n",
       "121217       NaN  http://www.properati.com.ar/1cja7_venta_depart...   \n",
       "121218       NaN  http://www.properati.com.ar/1cja8_venta_depart...   \n",
       "121219    3500.0  http://www.properati.com.ar/1cjaa_venta_depart...   \n",
       "\n",
       "                                              description  \\\n",
       "0       2 AMBIENTES TIPO CASA PLANTA BAJA POR PASILLO,...   \n",
       "1       Venta de departamento en décimo piso al frente...   \n",
       "2       2 AMBIENTES 3ER PISO LATERAL LIVING COMEDOR AM...   \n",
       "3       PH 3 ambientes con patio. Hay 3 deptos en lote...   \n",
       "4       DEPARTAMENTO CON FANTÁSTICA ILUMINACIÓN NATURA...   \n",
       "...                                                   ...   \n",
       "121215  TORRE FORUM ALCORTA - MÁXIMA CATEGORÍA.Impecab...   \n",
       "121216  Excelente e impecable casa en Venta en Las Lom...   \n",
       "121217  VENTA DEPARTAMENTO AMBIENTE DIVISIBLE A ESTREN...   \n",
       "121218  2 Amb al contrafrente,  luminoso. El departame...   \n",
       "121219  Departamento de 77 m2 apto profesional. Edific...   \n",
       "\n",
       "                                                    title  \\\n",
       "0                      2 AMB TIPO CASA SIN EXPENSAS EN PB   \n",
       "1       VENTA Depto 2 dorm. a estrenar 7 e/ 36 y 37   ...   \n",
       "2                2 AMB 3ER PISO CON ASCENSOR APTO CREDITO   \n",
       "3                            PH 3 amb. cfte. reciclado      \n",
       "4       DEPTO 2 AMB AL CONTRAFRENTE ZONA CENTRO/PLAZA ...   \n",
       "...                                                   ...   \n",
       "121215         Torre Forum Alcorta- Impecable 3 ambientes   \n",
       "121216  Ruca Inmuebles | Venta | Lomas de San Isidro |...   \n",
       "121217  VENTA DEPARTAMENTO AMBIENTE DIVISIBLE A ESTREN...   \n",
       "121218  2 amb. C/ dep. de servicio al contrafrente| Re...   \n",
       "121219         Departamento apto profesional en el Centro   \n",
       "\n",
       "                                          image_thumbnail  \n",
       "0       https://thumbs4.properati.com/8/BluUYiHJLhgIIK...  \n",
       "1       https://thumbs4.properati.com/7/ikpVBu2ztHA7jv...  \n",
       "2       https://thumbs4.properati.com/5/SXKr34F_IwG3W_...  \n",
       "3       https://thumbs4.properati.com/3/DgIfX-85Mog5SP...  \n",
       "4       https://thumbs4.properati.com/5/xrRqlNcSI_vs-f...  \n",
       "...                                                   ...  \n",
       "121215  https://thumbs4.properati.com/1/bjms0KnaAnlNoQ...  \n",
       "121216  https://thumbs4.properati.com/2/PCc3WuQDjpNZc4...  \n",
       "121217  https://thumbs4.properati.com/9/YAe_-2gRVykADP...  \n",
       "121218  https://thumbs4.properati.com/8/Q12PTvU6BQJ0ib...  \n",
       "121219  https://thumbs4.properati.com/8/mNEsnQWqB7joBF...  \n",
       "\n",
       "[121220 rows x 25 columns]"
      ]
     },
     "execution_count": 2,
     "metadata": {},
     "output_type": "execute_result"
    }
   ],
   "source": [
    "data"
   ]
  },
  {
   "cell_type": "code",
   "execution_count": 3,
   "metadata": {},
   "outputs": [
    {
     "data": {
      "text/plain": [
       "1164"
      ]
     },
     "execution_count": 3,
     "metadata": {},
     "output_type": "execute_result"
    }
   ],
   "source": [
    "data['place_with_parent_names'].unique().shape[0]"
   ]
  },
  {
   "cell_type": "code",
   "execution_count": 4,
   "metadata": {},
   "outputs": [],
   "source": [
    "#Definimos los patrones Regex\n",
    "patron_m2 = '(\\d{2,3})\\,?\\.?\\d?\\d?\\s?([Mm]\\.?\\s?[2²]|metros)'\n",
    "patron_amenities = r'([áa]reas? com[uú]ne?s?|amenities|[sz]um|gimnasio|solarium|sauna|g[iy]m|solarium)'\n",
    "patron_portero = r'(porter[oa]s?|encargad[oa]s?|seren[oa]s?)'\n",
    "patron_seguridad = r'(Seg\\.?u?r?i?d?a?d? 24\\s?ho?r?a?s|Prosegur|adt)'\n",
    "patron_aptoprof = r'(Apto Prof\\.?e?s?i?o?n?a?l?)'\n",
    "patron_terraza = r'(terrazas?)'\n",
    "patron_balcon = r'(balc[oó]ne?s?)'\n",
    "patron_patio = r'(patios?|jard[ií]ne?s?|zonas? verdes?)'\n",
    "patron_amb = r'((\\d{1,2})\\s?AMB)'\n",
    "patron_dorm = r'((\\d{1,2})\\s?(hab|dorm|cuart))'\n",
    "patron_disp = r'(frente|contrafrente|fondo|interno)'\n",
    "patron_vista = r'(vista)'\n",
    "patron_piso = r'((piso|planta)\\:?\\s? (\\d{1,2})(\\°|er|do|to|mo|vo|no|ro|ra|da|ta|ma|va|na|) |((\\d{1,2})(\\°|er|do|to|mo|vo|no|ro|ra|da|ta|ma|va|na|)\\s?(piso|planta)|planta baja|primer piso|primera planta|segundo piso|segunda planta|tercer piso|tercera planta|cuarto piso|cuarta planta|quinto piso|quinta planta|sexto piso|sexta planta|s[ée]ptimo piso|s[ée]ptima planta|[úu]ltim[oa] (piso|planta)))'\n",
    "patron_pozo = r'(pozo|construcci[oó]n|en obra)'\n",
    "patron_baulera = r'(baulera|guardamuebles)'\n",
    "patron_lavadero = r'(lavadero)'\n",
    "patron_garage = r'(gara[jg]es?|cocheras?|estacionamientos?)'\n",
    "patron_PH = r'(P\\.?\\s?H|Propi?e?d?a?d? hor)'\n",
    "patron_precio = r'(U[S$][DS]?)\\:?\\s?((\\d{5,8})\\,?\\d?\\d?|(\\d{2,3}\\.\\d{3})\\,?\\d?\\d?|(\\d{1,2}\\.\\d{3}\\.\\d{3})\\,?\\d?\\d?)|((\\d{5,8})\\,?\\d?\\d?|(\\d{2,3}\\.\\d{3})\\,?\\d?\\d?|(\\d{1,2}\\.\\d{3}\\.\\d{3})\\,?\\d?\\d?)\\s?(U[S$][DS]?|D[OÓ]LARES)'\n"
   ]
  },
  {
   "cell_type": "markdown",
   "metadata": {},
   "source": [
    "121220 propiedades separadas en 26 campos. Averiguamos el tipo de campo"
   ]
  },
  {
   "cell_type": "markdown",
   "metadata": {},
   "source": [
    "##columna de m2\n",
    "m2_regex = re.compile(patron_m2)\n",
    "data[\"m2_new\"] = data[\"m2_new\"].apply(lambda x: m2_regex.sub(cadena_reemplazo, x))"
   ]
  },
  {
   "cell_type": "code",
   "execution_count": 5,
   "metadata": {},
   "outputs": [
    {
     "name": "stdout",
     "output_type": "stream",
     "text": [
      "count    6220.000000\n",
      "mean      251.969614\n",
      "std       259.384289\n",
      "min        22.000000\n",
      "25%        68.000000\n",
      "50%       127.000000\n",
      "75%       346.250000\n",
      "max       999.000000\n",
      "Name: title, dtype: float64\n"
     ]
    },
    {
     "data": {
      "image/png": "[encoded data removed]",
      "text/plain": [
       "<Figure size 432x288 with 1 Axes>"
      ]
     },
     "metadata": {
      "needs_background": "light"
     },
     "output_type": "display_data"
    }
   ],
   "source": [
    "\n",
    "##columna de m2 entre 22 y 800m2 en Titulo\n",
    "m2_regex = re.compile(patron_m2)\n",
    "resultado_m2 = data['description'].apply(lambda x: m2_regex.search(x))\n",
    "segresult_m2 = resultado_m2.apply(lambda x: np.NaN if x is None else x[1]).astype(float)\n",
    "#segresult_m2[segresult_m2 > 800] = np.NaN\n",
    "segresult_m2[segresult_m2 < 22] = np.NaN\n",
    "data['m2_new'] = segresult_m2\n",
    "#print(data['m2_new'].value_counts())\n",
    "p=sns.distplot(data['m2_new'])\n",
    "#print(segresult_m2.describe())\n",
    "m2_regex = re.compile(patron_m2)\n",
    "resultado_m2 = data['title'].apply(lambda x: m2_regex.search(x))\n",
    "segresult_m2 = resultado_m2.apply(lambda x: np.NaN if x is None else x[1]).astype(float)\n",
    "#segresult_m2[segresult_m2 > 800] = np.NaN\n",
    "segresult_m2[segresult_m2 < 22] = np.NaN\n",
    "data['m2_new_title'] = segresult_m2\n",
    "#print(data['m2_new_title'].value_counts())\n",
    "p=sns.distplot(data['m2_new_title'])\n",
    "print(segresult_m2.describe())\n",
    "\n",
    "##Ahora lo compilo en m2_new\n",
    "\n",
    "mask_null_m2_final = data['m2_new'].isnull()\n",
    "data.loc[mask_null_m2_final, 'm2_new'] = data.loc[mask_null_m2_final,'m2_new_title']\n"
   ]
  },
  {
   "cell_type": "code",
   "execution_count": 6,
   "metadata": {},
   "outputs": [
    {
     "name": "stdout",
     "output_type": "stream",
     "text": [
      "HAY INFORMACIÓN ESTADÍSTICA SOBRE LAS SIGUIENTES COLUMNAS DEL DATAFRAME:\n"
     ]
    },
    {
     "data": {
      "text/plain": [
       "dict_keys(['geonames_id', 'lat', 'lon', 'price', 'price_aprox_local_currency', 'price_aprox_usd', 'surface_total_in_m2', 'surface_covered_in_m2', 'price_usd_per_m2', 'price_per_m2', 'floor', 'rooms', 'expenses', 'm2_new', 'm2_new_title'])"
      ]
     },
     "execution_count": 6,
     "metadata": {},
     "output_type": "execute_result"
    }
   ],
   "source": [
    "#v1\n",
    "\n",
    "import pandas as pd\n",
    "\n",
    "def StatsDescribe(df):\n",
    "    \n",
    "    '''StatsDescribe es una función que toma un DataFrame como argumento y crea un diccionario de DataFrames con información estadística relevante.\n",
    "   La función devuelve las keys del diccionario creado, que son los nombres de las columnas del DataFrame argumento. Para acceder a la información estadística \n",
    "   de cada key se puede escribir: \n",
    "   \n",
    "   df_stats_dict['key'] o usar df_stats_dict.get['key']             siendo 'key' alguna de las keys que retorna la función.'''\n",
    "    \n",
    "    dtypes_permitidos = ['float64','int64','datetime64']  # Tipo de datos permitidos para la funcion pandas.describe(). Podrían ser más.\n",
    "    columnas = [i for i in df.columns if df.dtypes[i] in dtypes_permitidos] # De todos los nombres de las columnas me quedo con aquellos cuyo tipo de dato pertence a dtypes_permitidos.\n",
    "    stats = [pd.DataFrame(round(df[columna].describe(),2)) for columna in columnas] #Estadística descriptiva de cada columna y conversión a DataFrame.\n",
    "    global df_stats_dict #Declaro la variable df_stats_dict como global para poder invocarla fuera de la función.\n",
    "    df_stats_dict = {columnas[i]:stats[i] for i in range(len(columnas))} #Creo diccionario con la información.\n",
    "    print('HAY INFORMACIÓN ESTADÍSTICA SOBRE LAS SIGUIENTES COLUMNAS DEL DATAFRAME:')\n",
    "\n",
    "    return df_stats_dict.keys()\n",
    "\n",
    "StatsDescribe(data)\n",
    "\n"
   ]
  },
  {
   "cell_type": "code",
   "execution_count": 7,
   "metadata": {},
   "outputs": [
    {
     "data": {
      "text/html": [
       "<div>\n",
       "<style scoped>\n",
       "    .dataframe tbody tr th:only-of-type {\n",
       "        vertical-align: middle;\n",
       "    }\n",
       "\n",
       "    .dataframe tbody tr th {\n",
       "        vertical-align: top;\n",
       "    }\n",
       "\n",
       "    .dataframe thead th {\n",
       "        text-align: right;\n",
       "    }\n",
       "</style>\n",
       "<table border=\"1\" class=\"dataframe\">\n",
       "  <thead>\n",
       "    <tr style=\"text-align: right;\">\n",
       "      <th></th>\n",
       "      <th>geonames_id</th>\n",
       "      <th>lat</th>\n",
       "      <th>lon</th>\n",
       "      <th>price</th>\n",
       "      <th>price_aprox_local_currency</th>\n",
       "      <th>price_aprox_usd</th>\n",
       "      <th>surface_total_in_m2</th>\n",
       "      <th>surface_covered_in_m2</th>\n",
       "      <th>price_usd_per_m2</th>\n",
       "      <th>price_per_m2</th>\n",
       "      <th>floor</th>\n",
       "      <th>rooms</th>\n",
       "      <th>expenses</th>\n",
       "      <th>m2_new</th>\n",
       "      <th>m2_new_title</th>\n",
       "    </tr>\n",
       "  </thead>\n",
       "  <tbody>\n",
       "    <tr>\n",
       "      <th>count</th>\n",
       "      <td>1.025030e+05</td>\n",
       "      <td>69670.000000</td>\n",
       "      <td>69670.000000</td>\n",
       "      <td>1.008100e+05</td>\n",
       "      <td>1.008100e+05</td>\n",
       "      <td>1.008100e+05</td>\n",
       "      <td>81892.000000</td>\n",
       "      <td>101313.000000</td>\n",
       "      <td>68617.000000</td>\n",
       "      <td>8.765800e+04</td>\n",
       "      <td>7899.000000</td>\n",
       "      <td>47390.000000</td>\n",
       "      <td>1.426200e+04</td>\n",
       "      <td>34690.000000</td>\n",
       "      <td>6220.000000</td>\n",
       "    </tr>\n",
       "    <tr>\n",
       "      <th>mean</th>\n",
       "      <td>3.574442e+06</td>\n",
       "      <td>-34.626210</td>\n",
       "      <td>-59.266290</td>\n",
       "      <td>4.685259e+05</td>\n",
       "      <td>4.229397e+06</td>\n",
       "      <td>2.397006e+05</td>\n",
       "      <td>233.795328</td>\n",
       "      <td>133.050181</td>\n",
       "      <td>2160.086916</td>\n",
       "      <td>6.912216e+03</td>\n",
       "      <td>17.452336</td>\n",
       "      <td>3.080840</td>\n",
       "      <td>5.009234e+03</td>\n",
       "      <td>195.796627</td>\n",
       "      <td>251.969614</td>\n",
       "    </tr>\n",
       "    <tr>\n",
       "      <th>std</th>\n",
       "      <td>3.541306e+05</td>\n",
       "      <td>1.980936</td>\n",
       "      <td>2.299922</td>\n",
       "      <td>2.260101e+06</td>\n",
       "      <td>6.904714e+06</td>\n",
       "      <td>3.913239e+05</td>\n",
       "      <td>1782.222147</td>\n",
       "      <td>724.351479</td>\n",
       "      <td>2759.288621</td>\n",
       "      <td>2.837864e+04</td>\n",
       "      <td>120.243621</td>\n",
       "      <td>1.860773</td>\n",
       "      <td>1.204403e+05</td>\n",
       "      <td>218.774709</td>\n",
       "      <td>259.384289</td>\n",
       "    </tr>\n",
       "    <tr>\n",
       "      <th>min</th>\n",
       "      <td>3.427208e+06</td>\n",
       "      <td>-54.823985</td>\n",
       "      <td>-75.678931</td>\n",
       "      <td>0.000000e+00</td>\n",
       "      <td>0.000000e+00</td>\n",
       "      <td>0.000000e+00</td>\n",
       "      <td>0.000000</td>\n",
       "      <td>0.000000</td>\n",
       "      <td>0.600000</td>\n",
       "      <td>1.510204e+00</td>\n",
       "      <td>1.000000</td>\n",
       "      <td>1.000000</td>\n",
       "      <td>1.000000e+00</td>\n",
       "      <td>22.000000</td>\n",
       "      <td>22.000000</td>\n",
       "    </tr>\n",
       "    <tr>\n",
       "      <th>25%</th>\n",
       "      <td>3.430234e+06</td>\n",
       "      <td>-34.669065</td>\n",
       "      <td>-58.727040</td>\n",
       "      <td>1.100000e+05</td>\n",
       "      <td>1.583309e+06</td>\n",
       "      <td>8.973388e+04</td>\n",
       "      <td>50.000000</td>\n",
       "      <td>45.000000</td>\n",
       "      <td>1218.181818</td>\n",
       "      <td>1.550000e+03</td>\n",
       "      <td>1.000000</td>\n",
       "      <td>2.000000</td>\n",
       "      <td>1.000000e+03</td>\n",
       "      <td>51.000000</td>\n",
       "      <td>68.000000</td>\n",
       "    </tr>\n",
       "    <tr>\n",
       "      <th>50%</th>\n",
       "      <td>3.433910e+06</td>\n",
       "      <td>-34.597985</td>\n",
       "      <td>-58.480128</td>\n",
       "      <td>1.850000e+05</td>\n",
       "      <td>2.558452e+06</td>\n",
       "      <td>1.450000e+05</td>\n",
       "      <td>84.000000</td>\n",
       "      <td>75.000000</td>\n",
       "      <td>1800.000000</td>\n",
       "      <td>2.213115e+03</td>\n",
       "      <td>3.000000</td>\n",
       "      <td>3.000000</td>\n",
       "      <td>2.000000e+03</td>\n",
       "      <td>100.000000</td>\n",
       "      <td>127.000000</td>\n",
       "    </tr>\n",
       "    <tr>\n",
       "      <th>75%</th>\n",
       "      <td>3.836668e+06</td>\n",
       "      <td>-34.441299</td>\n",
       "      <td>-58.395908</td>\n",
       "      <td>4.200000e+05</td>\n",
       "      <td>4.675792e+06</td>\n",
       "      <td>2.650000e+05</td>\n",
       "      <td>200.000000</td>\n",
       "      <td>150.000000</td>\n",
       "      <td>2486.411765</td>\n",
       "      <td>3.355549e+03</td>\n",
       "      <td>6.000000</td>\n",
       "      <td>4.000000</td>\n",
       "      <td>4.000000e+03</td>\n",
       "      <td>243.000000</td>\n",
       "      <td>346.250000</td>\n",
       "    </tr>\n",
       "    <tr>\n",
       "      <th>max</th>\n",
       "      <td>6.948895e+06</td>\n",
       "      <td>4.545843</td>\n",
       "      <td>-53.733330</td>\n",
       "      <td>6.500000e+08</td>\n",
       "      <td>8.212711e+08</td>\n",
       "      <td>4.654544e+07</td>\n",
       "      <td>200000.000000</td>\n",
       "      <td>187000.000000</td>\n",
       "      <td>206333.333333</td>\n",
       "      <td>4.000000e+06</td>\n",
       "      <td>3150.000000</td>\n",
       "      <td>32.000000</td>\n",
       "      <td>1.000150e+07</td>\n",
       "      <td>999.000000</td>\n",
       "      <td>999.000000</td>\n",
       "    </tr>\n",
       "  </tbody>\n",
       "</table>\n",
       "</div>"
      ],
      "text/plain": [
       "        geonames_id           lat           lon         price  \\\n",
       "count  1.025030e+05  69670.000000  69670.000000  1.008100e+05   \n",
       "mean   3.574442e+06    -34.626210    -59.266290  4.685259e+05   \n",
       "std    3.541306e+05      1.980936      2.299922  2.260101e+06   \n",
       "min    3.427208e+06    -54.823985    -75.678931  0.000000e+00   \n",
       "25%    3.430234e+06    -34.669065    -58.727040  1.100000e+05   \n",
       "50%    3.433910e+06    -34.597985    -58.480128  1.850000e+05   \n",
       "75%    3.836668e+06    -34.441299    -58.395908  4.200000e+05   \n",
       "max    6.948895e+06      4.545843    -53.733330  6.500000e+08   \n",
       "\n",
       "       price_aprox_local_currency  price_aprox_usd  surface_total_in_m2  \\\n",
       "count                1.008100e+05     1.008100e+05         81892.000000   \n",
       "mean                 4.229397e+06     2.397006e+05           233.795328   \n",
       "std                  6.904714e+06     3.913239e+05          1782.222147   \n",
       "min                  0.000000e+00     0.000000e+00             0.000000   \n",
       "25%                  1.583309e+06     8.973388e+04            50.000000   \n",
       "50%                  2.558452e+06     1.450000e+05            84.000000   \n",
       "75%                  4.675792e+06     2.650000e+05           200.000000   \n",
       "max                  8.212711e+08     4.654544e+07        200000.000000   \n",
       "\n",
       "       surface_covered_in_m2  price_usd_per_m2  price_per_m2        floor  \\\n",
       "count          101313.000000      68617.000000  8.765800e+04  7899.000000   \n",
       "mean              133.050181       2160.086916  6.912216e+03    17.452336   \n",
       "std               724.351479       2759.288621  2.837864e+04   120.243621   \n",
       "min                 0.000000          0.600000  1.510204e+00     1.000000   \n",
       "25%                45.000000       1218.181818  1.550000e+03     1.000000   \n",
       "50%                75.000000       1800.000000  2.213115e+03     3.000000   \n",
       "75%               150.000000       2486.411765  3.355549e+03     6.000000   \n",
       "max            187000.000000     206333.333333  4.000000e+06  3150.000000   \n",
       "\n",
       "              rooms      expenses        m2_new  m2_new_title  \n",
       "count  47390.000000  1.426200e+04  34690.000000   6220.000000  \n",
       "mean       3.080840  5.009234e+03    195.796627    251.969614  \n",
       "std        1.860773  1.204403e+05    218.774709    259.384289  \n",
       "min        1.000000  1.000000e+00     22.000000     22.000000  \n",
       "25%        2.000000  1.000000e+03     51.000000     68.000000  \n",
       "50%        3.000000  2.000000e+03    100.000000    127.000000  \n",
       "75%        4.000000  4.000000e+03    243.000000    346.250000  \n",
       "max       32.000000  1.000150e+07    999.000000    999.000000  "
      ]
     },
     "execution_count": 7,
     "metadata": {},
     "output_type": "execute_result"
    }
   ],
   "source": [
    "stats = data.describe() \n",
    "stats"
   ]
  },
  {
   "cell_type": "code",
   "execution_count": 8,
   "metadata": {},
   "outputs": [
    {
     "name": "stdout",
     "output_type": "stream",
     "text": [
      "0    94561\n",
      "1    26659\n",
      "Name: amenities, dtype: int64\n"
     ]
    }
   ],
   "source": [
    "##columna de amenities\n",
    "amenities_regex = re.compile(patron_amenities, re.IGNORECASE)\n",
    "resultado_amenities = data['description'].apply(lambda x: amenities_regex.search(x))\n",
    "data['amenities'] = resultado_amenities.apply(lambda x: 0 if x is None else 1)\n",
    "print(data['amenities'].value_counts())"
   ]
  },
  {
   "cell_type": "code",
   "execution_count": 9,
   "metadata": {},
   "outputs": [
    {
     "name": "stdout",
     "output_type": "stream",
     "text": [
      "0    117352\n",
      "1      3868\n",
      "Name: portero, dtype: int64\n"
     ]
    }
   ],
   "source": [
    "##columna de portero\n",
    "portero_regex = re.compile(patron_portero, re.IGNORECASE)\n",
    "resultado_portero = data['description'].apply(lambda x: portero_regex.search(x))\n",
    "data['portero'] = resultado_portero.apply(lambda x: 0 if x is None else 1)\n",
    "print(data['portero'].value_counts())"
   ]
  },
  {
   "cell_type": "code",
   "execution_count": 10,
   "metadata": {},
   "outputs": [
    {
     "name": "stdout",
     "output_type": "stream",
     "text": [
      "0    118389\n",
      "1      2831\n",
      "Name: seguridad, dtype: int64\n"
     ]
    }
   ],
   "source": [
    "##columna de seguridad\n",
    "seguridad_regex = re.compile(patron_seguridad, re.IGNORECASE)\n",
    "resultado_seguridad = data['description'].apply(lambda x: seguridad_regex.search(x))\n",
    "data['seguridad'] = resultado_seguridad.apply(lambda x: 0 if x is None else 1)\n",
    "print(data['seguridad'].value_counts())"
   ]
  },
  {
   "cell_type": "code",
   "execution_count": 11,
   "metadata": {},
   "outputs": [
    {
     "name": "stdout",
     "output_type": "stream",
     "text": [
      "0    116283\n",
      "1      4937\n",
      "Name: aptoprof, dtype: int64\n"
     ]
    }
   ],
   "source": [
    "##columna de Apto Profesional\n",
    "aptoprof_regex = re.compile(patron_aptoprof, re.IGNORECASE)\n",
    "resultado_aptoprof = data['description'].apply(lambda x: aptoprof_regex.search(x))\n",
    "data['aptoprof'] = resultado_aptoprof.apply(lambda x: 0 if x is None else 1)\n",
    "print(data['aptoprof'].value_counts())"
   ]
  },
  {
   "cell_type": "code",
   "execution_count": 12,
   "metadata": {},
   "outputs": [
    {
     "name": "stdout",
     "output_type": "stream",
     "text": [
      "0    93711\n",
      "1    27509\n",
      "Name: terraza, dtype: int64\n"
     ]
    }
   ],
   "source": [
    "##columna de terraza\n",
    "terraza_regex = re.compile(patron_terraza, re.IGNORECASE)\n",
    "resultado_terraza = data['description'].apply(lambda x: terraza_regex.search(x))\n",
    "data['terraza'] = resultado_terraza.apply(lambda x: 0 if x is None else 1)\n",
    "print(data['terraza'].value_counts())"
   ]
  },
  {
   "cell_type": "code",
   "execution_count": 13,
   "metadata": {},
   "outputs": [
    {
     "name": "stdout",
     "output_type": "stream",
     "text": [
      "0    78081\n",
      "1    43139\n",
      "Name: balcon, dtype: int64\n"
     ]
    }
   ],
   "source": [
    "##columna de balcon\n",
    "balcon_regex = re.compile(patron_balcon, re.IGNORECASE)\n",
    "resultado_balcon = data['description'].apply(lambda x: balcon_regex.search(x))\n",
    "data['balcon'] = resultado_balcon.apply(lambda x: 0 if x is None else 1)\n",
    "print(data['balcon'].value_counts())"
   ]
  },
  {
   "cell_type": "code",
   "execution_count": 14,
   "metadata": {},
   "outputs": [
    {
     "name": "stdout",
     "output_type": "stream",
     "text": [
      "0    86037\n",
      "1    35183\n",
      "Name: patio, dtype: int64\n"
     ]
    }
   ],
   "source": [
    "##columna de patio\n",
    "patio_regex = re.compile(patron_patio, re.IGNORECASE)\n",
    "resultado_patio = data['description'].apply(lambda x: patio_regex.search(x))\n",
    "data['patio'] = resultado_patio.apply(lambda x: 0 if x is None else 1)\n",
    "print(data['patio'].value_counts())"
   ]
  },
  {
   "cell_type": "code",
   "execution_count": 15,
   "metadata": {},
   "outputs": [
    {
     "name": "stdout",
     "output_type": "stream",
     "text": [
      "2.0     13020\n",
      "3.0     12354\n",
      "4.0      6816\n",
      "1.0      2753\n",
      "5.0      1896\n",
      "6.0       556\n",
      "7.0       226\n",
      "8.0        39\n",
      "9.0        21\n",
      "0.0        19\n",
      "10.0       14\n",
      "11.0       13\n",
      "72.0        8\n",
      "50.0        6\n",
      "23.0        5\n",
      "53.0        5\n",
      "14.0        5\n",
      "12.0        5\n",
      "42.0        4\n",
      "24.0        4\n",
      "33.0        4\n",
      "73.0        4\n",
      "93.0        3\n",
      "15.0        3\n",
      "22.0        3\n",
      "18.0        3\n",
      "62.0        3\n",
      "26.0        3\n",
      "28.0        3\n",
      "83.0        3\n",
      "13.0        2\n",
      "25.0        2\n",
      "49.0        2\n",
      "90.0        2\n",
      "21.0        2\n",
      "17.0        2\n",
      "36.0        2\n",
      "54.0        1\n",
      "44.0        1\n",
      "47.0        1\n",
      "52.0        1\n",
      "32.0        1\n",
      "97.0        1\n",
      "65.0        1\n",
      "61.0        1\n",
      "27.0        1\n",
      "20.0        1\n",
      "84.0        1\n",
      "64.0        1\n",
      "16.0        1\n",
      "92.0        1\n",
      "71.0        1\n",
      "81.0        1\n",
      "74.0        1\n",
      "51.0        1\n",
      "76.0        1\n",
      "46.0        1\n",
      "Name: amb, dtype: int64\n"
     ]
    },
    {
     "data": {
      "image/png": "[encoded data removed]",
      "text/plain": [
       "<Figure size 432x288 with 1 Axes>"
      ]
     },
     "metadata": {
      "needs_background": "light"
     },
     "output_type": "display_data"
    }
   ],
   "source": [
    "##columna de amb\n",
    "amb_regex = re.compile(patron_amb, re.IGNORECASE)\n",
    "resultado_amb = data['description'].apply(lambda x: amb_regex.search(x))\n",
    "segresult_amb = resultado_amb.apply(lambda x: np.NaN if x is None else x[2]).astype(float)\n",
    "#segresult_amb[segresult_amb > 12] = np.NaN\n",
    "data['amb'] = segresult_amb\n",
    "#print(data['amb'].value_counts())\n",
    "p=sns.distplot(data['amb'])"
   ]
  },
  {
   "cell_type": "code",
   "execution_count": 16,
   "metadata": {},
   "outputs": [
    {
     "name": "stdout",
     "output_type": "stream",
     "text": [
      "2.0     17451\n",
      "3.0     13637\n",
      "1.0      7945\n",
      "4.0      3610\n",
      "5.0       624\n",
      "6.0       112\n",
      "0.0        37\n",
      "7.0        36\n",
      "8.0        30\n",
      "10.0       27\n",
      "9.0        23\n",
      "11.0       11\n",
      "12.0        9\n",
      "Name: dorm, dtype: int64\n"
     ]
    },
    {
     "data": {
      "image/png": "[encoded data removed]",
      "text/plain": [
       "<Figure size 432x288 with 1 Axes>"
      ]
     },
     "metadata": {
      "needs_background": "light"
     },
     "output_type": "display_data"
    }
   ],
   "source": [
    "##columna de dorm\n",
    "dorm_regex = re.compile(patron_dorm, re.IGNORECASE)\n",
    "resultado_dorm = data['description'].apply(lambda x: dorm_regex.search(x))\n",
    "segresult_dorm = resultado_dorm.apply(lambda x: np.NaN if x is None else x[2]).astype(float)\n",
    "segresult_dorm[segresult_dorm > 12] = np.NaN\n",
    "data['dorm'] = segresult_dorm\n",
    "#print(data['dorm'].value_counts())\n",
    "p=sns.distplot(data['dorm'])"
   ]
  },
  {
   "cell_type": "code",
   "execution_count": 17,
   "metadata": {},
   "outputs": [
    {
     "name": "stdout",
     "output_type": "stream",
     "text": [
      "0.0    32982\n",
      "1.0    13743\n",
      "Name: disp, dtype: int64\n"
     ]
    }
   ],
   "source": [
    "##columna de disp\n",
    "disp_regex = re.compile(patron_disp, re.IGNORECASE)\n",
    "resultado_disp = data['description'].apply(lambda x: disp_regex.search(x))\n",
    "segresult_disp = resultado_disp.apply(lambda x: x if x is None else x[1])\n",
    "segresult_disp.astype(str)\n",
    "segresult_disp[segresult_disp.str.lower() == \"frente\"] = \"0\"\n",
    "segresult_disp[segresult_disp.str.lower() == \"fondo\"] = \"1\"\n",
    "segresult_disp[segresult_disp.str.lower() == \"contrafrente\"] = \"1\"\n",
    "segresult_disp[segresult_disp.str.lower() == \"interno\"] = \"1\"\n",
    "segresult_disp = segresult_disp.apply(lambda x: np.nan if x is None else x).astype(float)\n",
    "data['disp'] = segresult_disp\n",
    "print(data['disp'].value_counts())"
   ]
  },
  {
   "cell_type": "code",
   "execution_count": 18,
   "metadata": {},
   "outputs": [
    {
     "name": "stdout",
     "output_type": "stream",
     "text": [
      "0    96828\n",
      "1    24392\n",
      "Name: vista, dtype: int64\n"
     ]
    }
   ],
   "source": [
    "##columna de vista\n",
    "vista_regex = re.compile(patron_vista, re.IGNORECASE)\n",
    "resultado_vista = data['description'].apply(lambda x: vista_regex.search(x))\n",
    "data['vista'] = resultado_vista.apply(lambda x: 0 if x is None else 1)\n",
    "print(data['vista'].value_counts())"
   ]
  },
  {
   "cell_type": "code",
   "execution_count": 19,
   "metadata": {},
   "outputs": [
    {
     "name": "stdout",
     "output_type": "stream",
     "text": [
      "planta baja    8229\n",
      "Planta Baja    3400\n",
      "PLANTA BAJA    2802\n",
      "2 planta       2464\n",
      "Planta baja    1910\n",
      "               ... \n",
      "PISO:  2          1\n",
      "Piso: 9           1\n",
      "24 Piso           1\n",
      "piso 16°          1\n",
      "25Planta          1\n",
      "Name: piso, Length: 810, dtype: int64\n"
     ]
    }
   ],
   "source": [
    "##columna de piso\n",
    "piso_regex = re.compile(patron_piso, re.IGNORECASE)\n",
    "resultado_piso = data['description'].apply(lambda x: piso_regex.search(x))\n",
    "data['piso'] = resultado_piso.apply(lambda x: x if x is None else x[0])\n",
    "print(data['piso'].value_counts())"
   ]
  },
  {
   "cell_type": "code",
   "execution_count": 20,
   "metadata": {},
   "outputs": [
    {
     "name": "stdout",
     "output_type": "stream",
     "text": [
      "20399         None\n",
      "98151       5 piso\n",
      "46857         None\n",
      "17114         None\n",
      "30530         None\n",
      "114769        None\n",
      "118242        None\n",
      "105099        None\n",
      "57248       9 piso\n",
      "5817          None\n",
      "61465         None\n",
      "97956     Planta 0\n",
      "23838         None\n",
      "25037         None\n",
      "13889         None\n",
      "86465         None\n",
      "71937      2o piso\n",
      "20140     PLANTA 0\n",
      "58049         None\n",
      "77653         None\n",
      "Name: piso2, dtype: object\n"
     ]
    }
   ],
   "source": [
    "## COlumna de piso, limpieza con diccionario\n",
    "repl_dict = {re.compile('1°|01|1er|primer', re.IGNORECASE): '1',\n",
    "             re.compile('baja', re.IGNORECASE): '0',\n",
    "             re.compile('2°|2do|segund', re.IGNORECASE): '2',\n",
    "             re.compile('3°|3er|tercer', re.IGNORECASE): '3',\n",
    "             re.compile('4°|4to|cuart', re.IGNORECASE): '4',\n",
    "             re.compile('5°|5to|quint', re.IGNORECASE): '5',\n",
    "             re.compile('6°|6to|sext', re.IGNORECASE): '6',\n",
    "             re.compile('7°|7mo|s[eé]ptim', re.IGNORECASE): '7',\n",
    "             re.compile('8°|8vo|octav', re.IGNORECASE): '8',\n",
    "             re.compile('9°|9no|noven', re.IGNORECASE): '9',\n",
    "             re.compile('10°|10mo|diez', re.IGNORECASE): '10',\n",
    "             re.compile('11°|11ro|once', re.IGNORECASE): '11',\n",
    "             re.compile('12°|12do|doce', re.IGNORECASE): '12',\n",
    "             re.compile('13°|13ro|trece', re.IGNORECASE): '13',\n",
    "             re.compile('14°|14to|catorce', re.IGNORECASE): '14',\n",
    "             re.compile('15°|15to|quince', re.IGNORECASE): '15',\n",
    "             re.compile('16°|16to|dieciseis', re.IGNORECASE): '16',\n",
    "             re.compile('17°|17mo|diecisiete', re.IGNORECASE): '17',\n",
    "             re.compile('18°|18mo|dieciocho', re.IGNORECASE): '18',\n",
    "             re.compile('19°|19no|diecinueve', re.IGNORECASE): '19',\n",
    "             re.compile('20°|20[mv]o|veinte', re.IGNORECASE): '20'}\n",
    "data['piso2'] = data['piso'].replace(repl_dict, regex=True)\n",
    "print(data['piso2'].sample(n=20))"
   ]
  },
  {
   "cell_type": "code",
   "execution_count": 21,
   "metadata": {},
   "outputs": [
    {
     "name": "stdout",
     "output_type": "stream",
     "text": [
      "0            0\n",
      "1         None\n",
      "2            3\n",
      "3         None\n",
      "4         None\n",
      "          ... \n",
      "121215    None\n",
      "121216    None\n",
      "121217    None\n",
      "121218    None\n",
      "121219    None\n",
      "Name: piso3, Length: 121220, dtype: object\n"
     ]
    }
   ],
   "source": [
    "## COlumna de piso, limpieza con diccionario\n",
    "repl_dict2 = {re.compile('\\D', re.IGNORECASE): ''}\n",
    "data['piso3'] = data['piso2'].replace(repl_dict2, regex=True)\n",
    "print(data['piso3'])"
   ]
  },
  {
   "cell_type": "code",
   "execution_count": 22,
   "metadata": {},
   "outputs": [
    {
     "name": "stdout",
     "output_type": "stream",
     "text": [
      "0         0.0\n",
      "1         NaN\n",
      "2         3.0\n",
      "3         NaN\n",
      "4         NaN\n",
      "         ... \n",
      "121215    NaN\n",
      "121216    NaN\n",
      "121217    NaN\n",
      "121218    NaN\n",
      "121219    NaN\n",
      "Name: piso3, Length: 121220, dtype: float64\n"
     ]
    },
    {
     "data": {
      "image/png": "[encoded data removed]",
      "text/plain": [
       "<Figure size 432x288 with 1 Axes>"
      ]
     },
     "metadata": {
      "needs_background": "light"
     },
     "output_type": "display_data"
    }
   ],
   "source": [
    "data['piso3'] = pd.to_numeric(data['piso3'], downcast='float')\n",
    "data['piso3'] = data['piso3'].apply(lambda x: x if x < 20 else np.NaN)\n",
    "print(data['piso3'])\n",
    "p=sns.distplot(data['piso3'], kde=True)\n",
    "#finalmente nos quedamos solo con la columna piso3, las otras fueron de trabajo"
   ]
  },
  {
   "cell_type": "code",
   "execution_count": 23,
   "metadata": {},
   "outputs": [
    {
     "name": "stdout",
     "output_type": "stream",
     "text": [
      "0    108193\n",
      "1     13027\n",
      "Name: pozo, dtype: int64\n"
     ]
    }
   ],
   "source": [
    "##columna de pozo\n",
    "pozo_regex = re.compile(patron_pozo, re.IGNORECASE)\n",
    "resultado_pozo = data['description'].apply(lambda x: pozo_regex.search(x))\n",
    "data['pozo'] = resultado_pozo.apply(lambda x: 0 if x is None else 1)\n",
    "print(data['pozo'].value_counts())"
   ]
  },
  {
   "cell_type": "code",
   "execution_count": 24,
   "metadata": {},
   "outputs": [
    {
     "name": "stdout",
     "output_type": "stream",
     "text": [
      "0    110425\n",
      "1     10795\n",
      "Name: baulera, dtype: int64\n"
     ]
    }
   ],
   "source": [
    "##columna de baulera\n",
    "baulera_regex = re.compile(patron_baulera, re.IGNORECASE)\n",
    "resultado_baulera = data['description'].apply(lambda x: baulera_regex.search(x))\n",
    "data['baulera'] = resultado_baulera.apply(lambda x: 0 if x is None else 1)\n",
    "print(data['baulera'].value_counts())"
   ]
  },
  {
   "cell_type": "code",
   "execution_count": 25,
   "metadata": {},
   "outputs": [
    {
     "name": "stdout",
     "output_type": "stream",
     "text": [
      "0    82891\n",
      "1    38329\n",
      "Name: lavadero, dtype: int64\n"
     ]
    }
   ],
   "source": [
    "##columna de lavadero\n",
    "lavadero_regex = re.compile(patron_lavadero, re.IGNORECASE)\n",
    "resultado_lavadero = data['description'].apply(lambda x: lavadero_regex.search(x))\n",
    "data['lavadero'] = resultado_lavadero.apply(lambda x: 0 if x is None else 1)\n",
    "print(data['lavadero'].value_counts())"
   ]
  },
  {
   "cell_type": "code",
   "execution_count": 26,
   "metadata": {},
   "outputs": [
    {
     "name": "stdout",
     "output_type": "stream",
     "text": [
      "0    67343\n",
      "1    53877\n",
      "Name: garage, dtype: int64\n"
     ]
    }
   ],
   "source": [
    "##columna de garage\n",
    "garage_regex = re.compile(patron_garage, re.IGNORECASE)\n",
    "resultado_garage = data['description'].apply(lambda x: garage_regex.search(x))\n",
    "data['garage'] = resultado_garage.apply(lambda x: 0 if x is None else 1)\n",
    "print(data['garage'].value_counts())"
   ]
  },
  {
   "cell_type": "code",
   "execution_count": 27,
   "metadata": {},
   "outputs": [
    {
     "name": "stdout",
     "output_type": "stream",
     "text": [
      "0    115207\n",
      "1      6013\n",
      "Name: PH, dtype: int64\n"
     ]
    }
   ],
   "source": [
    "##columna de PH\n",
    "PH_regex = re.compile(patron_PH, re.IGNORECASE)\n",
    "resultado_PH = data['description'].apply(lambda x: PH_regex.search(x))\n",
    "data['PH'] = resultado_PH.apply(lambda x: 0 if x is None else 1)\n",
    "print(data['PH'].value_counts())"
   ]
  },
  {
   "cell_type": "code",
   "execution_count": 28,
   "metadata": {},
   "outputs": [
    {
     "name": "stdout",
     "output_type": "stream",
     "text": [
      "U$S 20.000     138\n",
      "U$S 25.000     137\n",
      "USD 120000     135\n",
      "USD 130000     133\n",
      "u$s20.000      114\n",
      "              ... \n",
      "USD 14.520       1\n",
      "u$s 395.000      1\n",
      "48.000UsD        1\n",
      "U$ 185.000       1\n",
      "USD 133.800      1\n",
      "Name: precio, Length: 2972, dtype: int64\n",
      "U$D 120.000    72\n",
      "U$D 110.000    60\n",
      "U$D 85.000     54\n",
      "U$S 220.000    53\n",
      "U$D 250.000    53\n",
      "               ..\n",
      "U$S 281.650     1\n",
      "U$S 23000       1\n",
      "U$S 296.000     1\n",
      "u$ 150.000      1\n",
      "U$S 69.900      1\n",
      "Name: precio_titulo, Length: 1384, dtype: int64\n"
     ]
    }
   ],
   "source": [
    "\n",
    "##columna de precio en  description y titulo\n",
    "precio_regex = re.compile(patron_precio, re.IGNORECASE)\n",
    "resultado_precio = data['description'].apply(lambda x: precio_regex.search(x))\n",
    "data['precio'] = resultado_precio.apply(lambda x: x if x is None else x[0])\n",
    "print(data['precio'].value_counts())\n",
    "precio_regex = re.compile(patron_precio, re.IGNORECASE)\n",
    "resultado_precio = data['title'].apply(lambda x: precio_regex.search(x))\n",
    "data['precio_titulo'] = resultado_precio.apply(lambda x: x if x is None else x[0])\n",
    "print(data['precio_titulo'].value_counts())\n",
    "\n",
    "##Ahora lo compilo en precio\n",
    "\n",
    "mask_null_precio = data['precio'].isnull()\n",
    "data.loc[mask_null_precio, 'precio'] = data.loc[mask_null_precio,'precio_titulo']"
   ]
  },
  {
   "cell_type": "code",
   "execution_count": 29,
   "metadata": {},
   "outputs": [
    {
     "name": "stdout",
     "output_type": "stream",
     "text": [
      "25000.0      362\n",
      "20000.0      361\n",
      "120000.0     358\n",
      "130000.0     308\n",
      "110000.0     297\n",
      "            ... \n",
      "37150.0        1\n",
      "3950000.0      1\n",
      "297137.0       1\n",
      "107030.0       1\n",
      "327779.0       1\n",
      "Name: precio3, Length: 1472, dtype: int64\n",
      "count    1.764700e+04\n",
      "mean     2.501470e+05\n",
      "std      1.402568e+06\n",
      "min      2.000000e+04\n",
      "25%      7.500000e+04\n",
      "50%      1.320000e+05\n",
      "75%      2.600000e+05\n",
      "max      1.500001e+08\n",
      "Name: precio3, dtype: float64\n"
     ]
    },
    {
     "data": {
      "image/png": "[encoded data removed]",
      "text/plain": [
       "<Figure size 432x288 with 1 Axes>"
      ]
     },
     "metadata": {
      "needs_background": "light"
     },
     "output_type": "display_data"
    }
   ],
   "source": [
    "repl_dict3 = {re.compile('\\,\\d\\d$|\\.|\\s', re.IGNORECASE): ''}\n",
    "data['precio2'] = data['precio'].replace(repl_dict3, regex=True)\n",
    "repl_dict4 = {re.compile('\\D', re.IGNORECASE): ''}\n",
    "data['precio3'] = data['precio2'].replace(repl_dict4, regex=True)\n",
    "data['precio3'] = data['precio3'].astype(float)\n",
    "#data['precio3'] = data['precio3'].apply(lambda x: np.NaN if x > 2000000 else x)\n",
    "data['precio3'] = data['precio3'].apply(lambda x: np.NaN if x < 20000 else x)\n",
    "print(data['precio3'].value_counts())\n",
    "print(data['precio3'].describe())\n",
    "p=sns.distplot(data['precio3'])\n",
    "\n",
    "#Eliminadas las props de mas de 2 millones USD y menos de 20k USD"
   ]
  },
  {
   "cell_type": "code",
   "execution_count": 30,
   "metadata": {},
   "outputs": [
    {
     "data": {
      "text/plain": [
       "Index(['operation', 'property_type', 'place_name', 'place_with_parent_names',\n",
       "       'country_name', 'state_name', 'geonames_id', 'lat-lon', 'lat', 'lon',\n",
       "       'price', 'currency', 'price_aprox_local_currency', 'price_aprox_usd',\n",
       "       'surface_total_in_m2', 'surface_covered_in_m2', 'price_usd_per_m2',\n",
       "       'price_per_m2', 'floor', 'rooms', 'expenses', 'properati_url',\n",
       "       'description', 'title', 'image_thumbnail', 'm2_new', 'm2_new_title',\n",
       "       'amenities', 'portero', 'seguridad', 'aptoprof', 'terraza', 'balcon',\n",
       "       'patio', 'amb', 'dorm', 'disp', 'vista', 'piso', 'piso2', 'piso3',\n",
       "       'pozo', 'baulera', 'lavadero', 'garage', 'PH', 'precio',\n",
       "       'precio_titulo', 'precio2', 'precio3'],\n",
       "      dtype='object')"
      ]
     },
     "execution_count": 30,
     "metadata": {},
     "output_type": "execute_result"
    }
   ],
   "source": [
    "data.sample()\n",
    "data.columns"
   ]
  },
  {
   "cell_type": "code",
   "execution_count": 31,
   "metadata": {},
   "outputs": [],
   "source": [
    "#data.drop([\"piso\",\"piso2\",\"precio\",\"precio2\"], axis=1).to_csv(r'Archivo_Ivan.csv')"
   ]
  },
  {
   "cell_type": "code",
   "execution_count": 32,
   "metadata": {},
   "outputs": [
    {
     "name": "stdout",
     "output_type": "stream",
     "text": [
      "False    81892\n",
      "True     39328\n",
      "Name: surface_total_in_m2, dtype: int64\n"
     ]
    },
    {
     "data": {
      "text/plain": [
       "True     30277\n",
       "False     9051\n",
       "Name: m2_new, dtype: int64"
      ]
     },
     "execution_count": 32,
     "metadata": {},
     "output_type": "execute_result"
    }
   ],
   "source": [
    "mask_data_m2_null = data['surface_total_in_m2'].isnull()\n",
    "print(mask_data_m2_null.value_counts())\n",
    "mask_data_m2_null = data['surface_total_in_m2'].isnull()\n",
    "data.loc[mask_data_m2_null,'m2_new'].isnull().value_counts()"
   ]
  },
  {
   "cell_type": "code",
   "execution_count": 33,
   "metadata": {},
   "outputs": [
    {
     "name": "stderr",
     "output_type": "stream",
     "text": [
      "C:\\Users\\iory2\\.conda\\envs\\dhdsblend\\lib\\site-packages\\ipykernel_launcher.py:5: SettingWithCopyWarning: \n",
      "A value is trying to be set on a copy of a slice from a DataFrame\n",
      "\n",
      "See the caveats in the documentation: https://pandas.pydata.org/pandas-docs/stable/user_guide/indexing.html#returning-a-view-versus-a-copy\n",
      "  \"\"\"\n",
      "C:\\Users\\iory2\\.conda\\envs\\dhdsblend\\lib\\site-packages\\ipykernel_launcher.py:6: SettingWithCopyWarning: \n",
      "A value is trying to be set on a copy of a slice from a DataFrame\n",
      "\n",
      "See the caveats in the documentation: https://pandas.pydata.org/pandas-docs/stable/user_guide/indexing.html#returning-a-view-versus-a-copy\n",
      "  \n"
     ]
    },
    {
     "data": {
      "text/plain": [
       "count    88270.000000\n",
       "mean       158.069684\n",
       "std        177.611400\n",
       "min         22.000000\n",
       "25%         50.000000\n",
       "50%         84.000000\n",
       "75%        198.000000\n",
       "max       1000.000000\n",
       "Name: m2_final, dtype: float64"
      ]
     },
     "execution_count": 33,
     "metadata": {},
     "output_type": "execute_result"
    }
   ],
   "source": [
    "#creo nueva columna de m2_final que es 'surface_total_in_m2' con los null reemplazados por lo que encontro la regex\n",
    "data['m2_final'] = data['surface_total_in_m2']\n",
    "mask_null_m2_final = data['surface_total_in_m2'].isnull()\n",
    "data.loc[mask_null_m2_final, 'm2_final'] = data.loc[mask_null_m2_final,'m2_new']\n",
    "data[\"m2_final\"][data[\"m2_final\"] < 22] = np.NaN\n",
    "data[\"m2_final\"][data[\"m2_final\"] > 1000] = np.NaN\n",
    "#data['m2_final'].isnull().value_counts()\n",
    "\n",
    "#data[['surface_total_in_m2','m2_final','m2_new']].sample(20)\n",
    "data['m2_final'].describe()\n",
    "\n"
   ]
  },
  {
   "cell_type": "code",
   "execution_count": 34,
   "metadata": {},
   "outputs": [
    {
     "name": "stdout",
     "output_type": "stream",
     "text": [
      "False    102772\n",
      "True      18448\n",
      "Name: precio_final, dtype: int64\n",
      "count    1.027720e+05\n",
      "mean     2.406380e+05\n",
      "std      3.892712e+05\n",
      "min      3.000000e+04\n",
      "25%      9.000000e+04\n",
      "50%      1.450000e+05\n",
      "75%      2.670000e+05\n",
      "max      4.654544e+07\n",
      "Name: precio_final, dtype: float64\n"
     ]
    },
    {
     "name": "stderr",
     "output_type": "stream",
     "text": [
      "C:\\Users\\iory2\\.conda\\envs\\dhdsblend\\lib\\site-packages\\ipykernel_launcher.py:5: SettingWithCopyWarning: \n",
      "A value is trying to be set on a copy of a slice from a DataFrame\n",
      "\n",
      "See the caveats in the documentation: https://pandas.pydata.org/pandas-docs/stable/user_guide/indexing.html#returning-a-view-versus-a-copy\n",
      "  \"\"\"\n"
     ]
    },
    {
     "data": {
      "text/html": [
       "<div>\n",
       "<style scoped>\n",
       "    .dataframe tbody tr th:only-of-type {\n",
       "        vertical-align: middle;\n",
       "    }\n",
       "\n",
       "    .dataframe tbody tr th {\n",
       "        vertical-align: top;\n",
       "    }\n",
       "\n",
       "    .dataframe thead th {\n",
       "        text-align: right;\n",
       "    }\n",
       "</style>\n",
       "<table border=\"1\" class=\"dataframe\">\n",
       "  <thead>\n",
       "    <tr style=\"text-align: right;\">\n",
       "      <th></th>\n",
       "      <th>price_aprox_usd</th>\n",
       "      <th>precio_final</th>\n",
       "      <th>precio3</th>\n",
       "    </tr>\n",
       "  </thead>\n",
       "  <tbody>\n",
       "    <tr>\n",
       "      <th>65324</th>\n",
       "      <td>129000.00</td>\n",
       "      <td>129000.00</td>\n",
       "      <td>NaN</td>\n",
       "    </tr>\n",
       "    <tr>\n",
       "      <th>95614</th>\n",
       "      <td>110000.00</td>\n",
       "      <td>110000.00</td>\n",
       "      <td>NaN</td>\n",
       "    </tr>\n",
       "    <tr>\n",
       "      <th>73687</th>\n",
       "      <td>220000.00</td>\n",
       "      <td>220000.00</td>\n",
       "      <td>NaN</td>\n",
       "    </tr>\n",
       "    <tr>\n",
       "      <th>27501</th>\n",
       "      <td>55000.00</td>\n",
       "      <td>55000.00</td>\n",
       "      <td>NaN</td>\n",
       "    </tr>\n",
       "    <tr>\n",
       "      <th>38083</th>\n",
       "      <td>75000.00</td>\n",
       "      <td>75000.00</td>\n",
       "      <td>NaN</td>\n",
       "    </tr>\n",
       "    <tr>\n",
       "      <th>28368</th>\n",
       "      <td>840000.00</td>\n",
       "      <td>840000.00</td>\n",
       "      <td>840000.0</td>\n",
       "    </tr>\n",
       "    <tr>\n",
       "      <th>96982</th>\n",
       "      <td>270000.00</td>\n",
       "      <td>270000.00</td>\n",
       "      <td>NaN</td>\n",
       "    </tr>\n",
       "    <tr>\n",
       "      <th>108588</th>\n",
       "      <td>150000.00</td>\n",
       "      <td>150000.00</td>\n",
       "      <td>NaN</td>\n",
       "    </tr>\n",
       "    <tr>\n",
       "      <th>57394</th>\n",
       "      <td>83000.00</td>\n",
       "      <td>83000.00</td>\n",
       "      <td>NaN</td>\n",
       "    </tr>\n",
       "    <tr>\n",
       "      <th>60857</th>\n",
       "      <td>67861.24</td>\n",
       "      <td>67861.24</td>\n",
       "      <td>NaN</td>\n",
       "    </tr>\n",
       "    <tr>\n",
       "      <th>6689</th>\n",
       "      <td>300000.00</td>\n",
       "      <td>300000.00</td>\n",
       "      <td>NaN</td>\n",
       "    </tr>\n",
       "    <tr>\n",
       "      <th>68346</th>\n",
       "      <td>107370.90</td>\n",
       "      <td>107370.90</td>\n",
       "      <td>NaN</td>\n",
       "    </tr>\n",
       "    <tr>\n",
       "      <th>9764</th>\n",
       "      <td>200000.00</td>\n",
       "      <td>200000.00</td>\n",
       "      <td>NaN</td>\n",
       "    </tr>\n",
       "    <tr>\n",
       "      <th>27216</th>\n",
       "      <td>75712.96</td>\n",
       "      <td>75712.96</td>\n",
       "      <td>NaN</td>\n",
       "    </tr>\n",
       "    <tr>\n",
       "      <th>63133</th>\n",
       "      <td>185000.00</td>\n",
       "      <td>185000.00</td>\n",
       "      <td>NaN</td>\n",
       "    </tr>\n",
       "    <tr>\n",
       "      <th>100271</th>\n",
       "      <td>NaN</td>\n",
       "      <td>NaN</td>\n",
       "      <td>NaN</td>\n",
       "    </tr>\n",
       "    <tr>\n",
       "      <th>44557</th>\n",
       "      <td>57000.00</td>\n",
       "      <td>57000.00</td>\n",
       "      <td>NaN</td>\n",
       "    </tr>\n",
       "    <tr>\n",
       "      <th>3567</th>\n",
       "      <td>NaN</td>\n",
       "      <td>125000.00</td>\n",
       "      <td>125000.0</td>\n",
       "    </tr>\n",
       "    <tr>\n",
       "      <th>55671</th>\n",
       "      <td>240000.00</td>\n",
       "      <td>240000.00</td>\n",
       "      <td>240000.0</td>\n",
       "    </tr>\n",
       "    <tr>\n",
       "      <th>6126</th>\n",
       "      <td>65000.00</td>\n",
       "      <td>65000.00</td>\n",
       "      <td>NaN</td>\n",
       "    </tr>\n",
       "  </tbody>\n",
       "</table>\n",
       "</div>"
      ],
      "text/plain": [
       "        price_aprox_usd  precio_final   precio3\n",
       "65324         129000.00     129000.00       NaN\n",
       "95614         110000.00     110000.00       NaN\n",
       "73687         220000.00     220000.00       NaN\n",
       "27501          55000.00      55000.00       NaN\n",
       "38083          75000.00      75000.00       NaN\n",
       "28368         840000.00     840000.00  840000.0\n",
       "96982         270000.00     270000.00       NaN\n",
       "108588        150000.00     150000.00       NaN\n",
       "57394          83000.00      83000.00       NaN\n",
       "60857          67861.24      67861.24       NaN\n",
       "6689          300000.00     300000.00       NaN\n",
       "68346         107370.90     107370.90       NaN\n",
       "9764          200000.00     200000.00       NaN\n",
       "27216          75712.96      75712.96       NaN\n",
       "63133         185000.00     185000.00       NaN\n",
       "100271              NaN           NaN       NaN\n",
       "44557          57000.00      57000.00       NaN\n",
       "3567                NaN     125000.00  125000.0\n",
       "55671         240000.00     240000.00  240000.0\n",
       "6126           65000.00      65000.00       NaN"
      ]
     },
     "execution_count": 34,
     "metadata": {},
     "output_type": "execute_result"
    }
   ],
   "source": [
    "#creo nueva columna de precio y reemplazo con valores encontradops por regex\n",
    "data['precio_final'] = data['price_aprox_usd']\n",
    "mask_null_precio_final = data['price_aprox_usd'].isnull()\n",
    "data.loc[mask_null_precio_final, 'precio_final'] = data.loc[mask_null_precio_final,'precio3']\n",
    "data['precio_final'][data['precio_final']<30000] = np.NaN\n",
    "print(data['precio_final'].isnull().value_counts())\n",
    "print(data['precio_final'].describe())\n",
    "data[['price_aprox_usd','precio_final','precio3']].sample(20)"
   ]
  },
  {
   "cell_type": "code",
   "execution_count": 35,
   "metadata": {},
   "outputs": [],
   "source": [
    "#me fijo donde estan los nulls en la columna orifinal 'floor'\n",
    "#mask_null_piso_final = data['floor'].isnull()\n",
    "#data.loc[mask_null_piso_final,'piso3'].isnull().value_counts()\n",
    "#print(mask_null_piso_final.value_counts())\n",
    "#data.loc[mask_null_piso_final,'piso3'].isnull().value_counts()"
   ]
  },
  {
   "cell_type": "code",
   "execution_count": 36,
   "metadata": {},
   "outputs": [
    {
     "name": "stdout",
     "output_type": "stream",
     "text": [
      "count    41955.000000\n",
      "mean         2.642784\n",
      "std          3.694350\n",
      "min          0.000000\n",
      "25%          0.000000\n",
      "50%          1.000000\n",
      "75%          3.000000\n",
      "max         20.000000\n",
      "Name: piso_final, dtype: float64 AxesSubplot(0.125,0.125;0.775x0.755)\n"
     ]
    },
    {
     "data": {
      "image/png": "[encoded data removed]",
      "text/plain": [
       "<Figure size 432x288 with 1 Axes>"
      ]
     },
     "metadata": {
      "needs_background": "light"
     },
     "output_type": "display_data"
    }
   ],
   "source": [
    "#Hago reemplazo de los nulls en floor por aquello valores encontrados en las regex\n",
    "data['piso_final'] = data['floor']\n",
    "mask_null_piso_final = data['floor'].isnull()\n",
    "data.loc[mask_null_piso_final, 'piso_final'] = data.loc[mask_null_piso_final,'piso3']\n",
    "#A los que tienen mas dde 20 pisos los consideramos error y los cambiamos por NaN\n",
    "mask_piso_max = data['piso_final'] > 20\n",
    "data.loc[mask_piso_max,'piso_final'] = np.NaN\n",
    "#print(data['piso_final'].isnull().value_counts())\n",
    "#data[['floor','piso_final','piso3']].sample(20)\n",
    "print(data['piso_final'].describe(),sns.boxplot(data['piso_final']))"
   ]
  },
  {
   "cell_type": "code",
   "execution_count": 37,
   "metadata": {},
   "outputs": [
    {
     "name": "stdout",
     "output_type": "stream",
     "text": [
      "Los nulos en el orignal son: 73830\n"
     ]
    },
    {
     "data": {
      "text/plain": [
       "True     54769\n",
       "False    19061\n",
       "Name: amb, dtype: int64"
      ]
     },
     "execution_count": 37,
     "metadata": {},
     "output_type": "execute_result"
    }
   ],
   "source": [
    "#me fijo donde estan los nulls en la columna orifinal 'rooms'\n",
    "mask_null_amb_final = data['rooms'].isnull()\n",
    "data.loc[mask_null_amb_final,'amb'].isnull().value_counts()\n",
    "print('Los nulos en el orignal son:',mask_null_amb_final.sum())\n",
    "data.loc[mask_null_amb_final,'amb'].isnull().value_counts()"
   ]
  },
  {
   "cell_type": "code",
   "execution_count": 38,
   "metadata": {},
   "outputs": [
    {
     "name": "stdout",
     "output_type": "stream",
     "text": [
      "False    66117\n",
      "True     55103\n",
      "Name: amb_final, dtype: int64\n",
      "count    66117.000000\n",
      "mean         2.989579\n",
      "std          1.469649\n",
      "min          0.000000\n",
      "25%          2.000000\n",
      "50%          3.000000\n",
      "75%          4.000000\n",
      "max         10.000000\n",
      "Name: amb_final, dtype: float64 AxesSubplot(0.125,0.125;0.775x0.755)\n"
     ]
    },
    {
     "data": {
      "image/png": "[encoded data removed]",
      "text/plain": [
       "<Figure size 432x288 with 1 Axes>"
      ]
     },
     "metadata": {
      "needs_background": "light"
     },
     "output_type": "display_data"
    }
   ],
   "source": [
    "#Hago reemplazo\n",
    "data['amb_final'] = data['rooms']\n",
    "mask_null_amb_final = data['rooms'].isnull()\n",
    "data.loc[mask_null_amb_final, 'amb_final'] = data.loc[mask_null_amb_final,'amb']\n",
    "#A los que tienen mas dde 10 ambientes los consideramos error y los cambiamos por NaN\n",
    "mask_piso_max = data['amb_final'] > 10\n",
    "data.loc[mask_piso_max,'amb_final'] = np.NaN\n",
    "print(data['amb_final'].isnull().value_counts())\n",
    "#data[['rooms','amb_final','amb']].sample(20)\n",
    "print(data['amb_final'].describe(),sns.boxplot(data['amb_final']))\n",
    "\n"
   ]
  },
  {
   "cell_type": "code",
   "execution_count": 39,
   "metadata": {},
   "outputs": [
    {
     "name": "stdout",
     "output_type": "stream",
     "text": [
      "88270\n"
     ]
    }
   ],
   "source": [
    "#Recalculo de precio por metro cuadrado\n",
    "mask_m2_final_not_null = data['m2_final'].notnull()\n",
    "print(mask_m2_final_not_null.sum())\n"
   ]
  },
  {
   "cell_type": "code",
   "execution_count": 40,
   "metadata": {},
   "outputs": [
    {
     "name": "stdout",
     "output_type": "stream",
     "text": [
      "count    90242.000000\n",
      "mean      1926.315959\n",
      "std       1031.789871\n",
      "min        200.000000\n",
      "25%       1245.000000\n",
      "50%       1797.752809\n",
      "75%       2433.333333\n",
      "max       7000.000000\n",
      "Name: precio_por_m2_final, dtype: float64 AxesSubplot(0.125,0.125;0.775x0.755)\n"
     ]
    },
    {
     "data": {
      "image/png": "[encoded data removed]",
      "text/plain": [
       "<Figure size 432x288 with 1 Axes>"
      ]
     },
     "metadata": {
      "needs_background": "light"
     },
     "output_type": "display_data"
    }
   ],
   "source": [
    "data['precio_por_m2_final'] = data['price_per_m2']\n",
    "data.loc[mask_m2_final_not_null,'precio_por_m2_final'] = data.loc[mask_m2_final_not_null,'precio_final']/data.loc[mask_m2_final_not_null,'m2_final']\n",
    "mask_condicion_precio_m2 = np.logical_or(data['precio_por_m2_final'] < 200 , data['precio_por_m2_final']>7000)\n",
    "#reemplazo los que no cumplen la condicion por np.NaN\n",
    "data.loc[mask_condicion_precio_m2,'precio_por_m2_final'] = np.NaN\n",
    "print(data['precio_por_m2_final'].describe(),sns.boxplot(data['precio_por_m2_final']))\n"
   ]
  },
  {
   "cell_type": "markdown",
   "metadata": {},
   "source": [
    "Sección para corregir los valores de la ubicación"
   ]
  },
  {
   "cell_type": "code",
   "execution_count": 41,
   "metadata": {},
   "outputs": [
    {
     "name": "stdout",
     "output_type": "stream",
     "text": [
      "0                   [Argentina, Capital Federal, Mataderos]\n",
      "1             [Argentina, Bs.As. G.B.A. Zona Sur, La Plata]\n",
      "2                   [Argentina, Capital Federal, Mataderos]\n",
      "3                     [Argentina, Capital Federal, Liniers]\n",
      "4         [Argentina, Buenos Aires Costa Atlántica, Mar ...\n",
      "                                ...                        \n",
      "121215               [Argentina, Capital Federal, Belgrano]\n",
      "121216    [Argentina, Bs.As. G.B.A. Zona Norte, San Isid...\n",
      "121217          [Argentina, Capital Federal, Villa Urquiza]\n",
      "121218    [Argentina, Buenos Aires Costa Atlántica, Mar ...\n",
      "121219                         [Argentina, Capital Federal]\n",
      "Name: place_with_parent_names, Length: 121220, dtype: object\n"
     ]
    },
    {
     "data": {
      "text/plain": [
       "list"
      ]
     },
     "execution_count": 41,
     "metadata": {},
     "output_type": "execute_result"
    }
   ],
   "source": [
    "#Primero elimino las barras al inicio y al final de los registros\n",
    "import re\n",
    "\n",
    "patron_1 = '^\\|+'\n",
    "patron_2 = '\\|+$'\n",
    "regex_1 = re.compile(patron_1)\n",
    "regex_2= re.compile(patron_2)\n",
    "\n",
    "place_with_parent_names_sin_barras_al_inicio = data['place_with_parent_names'].apply(lambda x: regex_1.sub('',x) )\n",
    "place_with_parent_names_sin_barras_al_inicio_ni_al_final = place_with_parent_names_sin_barras_al_inicio.apply(lambda x :regex_2.sub('',x) )\n",
    "place_with_parent_names_sin_barras_al_inicio_ni_al_final\n",
    "\n",
    "place_with_parent_names_SERIE = place_with_parent_names_sin_barras_al_inicio_ni_al_final.apply(lambda x: x.split('|'))\n",
    "print(place_with_parent_names_SERIE)\n",
    "\n",
    "place_with_parent_names_SERIE.index\n",
    "\n",
    "#Pais = place_with_parent_names_SERIE.apply(lambda x : x[i][0] for i in place_with_parent_names_SERIE.index)\n",
    "type(place_with_parent_names_SERIE[0])\n"
   ]
  },
  {
   "cell_type": "code",
   "execution_count": 42,
   "metadata": {},
   "outputs": [
    {
     "name": "stdout",
     "output_type": "stream",
     "text": [
      "             Pais                     Provincia         Ciudad         Zona  \\\n",
      "0       Argentina               Capital Federal      Mataderos         None   \n",
      "1       Argentina        Bs.As. G.B.A. Zona Sur       La Plata         None   \n",
      "2       Argentina               Capital Federal      Mataderos         None   \n",
      "3       Argentina               Capital Federal        Liniers         None   \n",
      "4       Argentina  Buenos Aires Costa Atlántica  Mar del Plata       Centro   \n",
      "...           ...                           ...            ...          ...   \n",
      "121215  Argentina               Capital Federal       Belgrano         None   \n",
      "121216  Argentina      Bs.As. G.B.A. Zona Norte     San Isidro       Beccar   \n",
      "121217  Argentina               Capital Federal  Villa Urquiza         None   \n",
      "121218  Argentina  Buenos Aires Costa Atlántica  Mar del Plata  Plaza Colón   \n",
      "121219  Argentina               Capital Federal           None         None   \n",
      "\n",
      "       Barrio  \n",
      "0        None  \n",
      "1        None  \n",
      "2        None  \n",
      "3        None  \n",
      "4        None  \n",
      "...       ...  \n",
      "121215   None  \n",
      "121216   None  \n",
      "121217   None  \n",
      "121218   None  \n",
      "121219   None  \n",
      "\n",
      "[121220 rows x 5 columns]\n",
      "False    116440\n",
      "True       4780\n",
      "Name: Ciudad, dtype: int64\n"
     ]
    }
   ],
   "source": [
    "#Creo una lista para despues pasarlo a un DataFrame\n",
    "lista=list(place_with_parent_names_SERIE)\n",
    "data_lugares = pd.DataFrame(lista,columns=['Pais','Provincia','Ciudad','Zona','Barrio'])\n",
    "print(data_lugares)\n",
    "print(data_lugares['Ciudad'].isnull().value_counts())\n",
    "\n"
   ]
  },
  {
   "cell_type": "code",
   "execution_count": 43,
   "metadata": {},
   "outputs": [
    {
     "name": "stdout",
     "output_type": "stream",
     "text": [
      "Los registros nulls en la columna Ciudad son: 4780\n"
     ]
    },
    {
     "data": {
      "text/plain": [
       "Departamento - Nueva Cordoba                                                                       1001\n",
       "Departamento en P.Chacabuco                                                                         237\n",
       "Departamento en Nueva Cordoba                                                                        87\n",
       "Departamento - Capital                                                                               70\n",
       "CASA EN VENTA                                                                                        60\n",
       "                                                                                                   ... \n",
       "Luminoso departamento en Parque Chacabuco  (Craig al 800)                                             1\n",
       "Departamento 2 dormitorios en Venta a refaccionar en barrio Dálmine Nuevo, Campana. Oportunidad       1\n",
       "Monoambiente divisible- B.Santa Rita                                                                  1\n",
       "Casa 330m² con 2 Plantas en Moctezuma 2800, Argentina, Capital Federal, por U$S 300.000               1\n",
       "Casa en Venta dos dormitorios en barrio La Esperanza                                                  1\n",
       "Name: title, Length: 2533, dtype: int64"
      ]
     },
     "execution_count": 43,
     "metadata": {},
     "output_type": "execute_result"
    }
   ],
   "source": [
    "#De los null que hay en la columna ciudad, busco sus respectivos datos en la columna 'title'\n",
    "print('Los registros nulls en la columna Ciudad son:',data_lugares['Ciudad'].isnull().sum())\n",
    "#De esos nulls busco en la columna title si tengo alguna informacion\n",
    "mask_null_ciudad = data_lugares['Ciudad'].isnull()\n",
    "data.loc[mask_null_ciudad,'title'].value_counts()"
   ]
  },
  {
   "cell_type": "code",
   "execution_count": 44,
   "metadata": {},
   "outputs": [],
   "source": [
    "#localizo los indices de los titles que dicen Departamento - Nueva Cordoba o Departamento en Nueva Cordoba\n",
    "mask_nueva_cordoba = np.logical_or(data['title'] == 'Departamento - Nueva Cordoba',data['title']=='Departamento en Nueva Cordoba')\n",
    "#reemplazo en los null en 'Zona' por esos valores\n",
    "data_lugares.loc[mask_nueva_cordoba,'Zona'] = 'Nueva Cordoba'"
   ]
  },
  {
   "cell_type": "code",
   "execution_count": 45,
   "metadata": {},
   "outputs": [
    {
     "data": {
      "text/html": [
       "<div>\n",
       "<style scoped>\n",
       "    .dataframe tbody tr th:only-of-type {\n",
       "        vertical-align: middle;\n",
       "    }\n",
       "\n",
       "    .dataframe tbody tr th {\n",
       "        vertical-align: top;\n",
       "    }\n",
       "\n",
       "    .dataframe thead th {\n",
       "        text-align: right;\n",
       "    }\n",
       "</style>\n",
       "<table border=\"1\" class=\"dataframe\">\n",
       "  <thead>\n",
       "    <tr style=\"text-align: right;\">\n",
       "      <th></th>\n",
       "      <th>Pais</th>\n",
       "      <th>Provincia</th>\n",
       "      <th>Ciudad</th>\n",
       "      <th>Zona</th>\n",
       "      <th>Barrio</th>\n",
       "    </tr>\n",
       "  </thead>\n",
       "  <tbody>\n",
       "    <tr>\n",
       "      <th>68792</th>\n",
       "      <td>Argentina</td>\n",
       "      <td>Capital Federal</td>\n",
       "      <td>P.Chacabuco</td>\n",
       "      <td>None</td>\n",
       "      <td>None</td>\n",
       "    </tr>\n",
       "    <tr>\n",
       "      <th>68802</th>\n",
       "      <td>Argentina</td>\n",
       "      <td>Capital Federal</td>\n",
       "      <td>P.Chacabuco</td>\n",
       "      <td>None</td>\n",
       "      <td>None</td>\n",
       "    </tr>\n",
       "    <tr>\n",
       "      <th>68813</th>\n",
       "      <td>Argentina</td>\n",
       "      <td>Capital Federal</td>\n",
       "      <td>P.Chacabuco</td>\n",
       "      <td>None</td>\n",
       "      <td>None</td>\n",
       "    </tr>\n",
       "    <tr>\n",
       "      <th>68821</th>\n",
       "      <td>Argentina</td>\n",
       "      <td>Capital Federal</td>\n",
       "      <td>P.Chacabuco</td>\n",
       "      <td>None</td>\n",
       "      <td>None</td>\n",
       "    </tr>\n",
       "    <tr>\n",
       "      <th>68835</th>\n",
       "      <td>Argentina</td>\n",
       "      <td>Capital Federal</td>\n",
       "      <td>P.Chacabuco</td>\n",
       "      <td>None</td>\n",
       "      <td>None</td>\n",
       "    </tr>\n",
       "  </tbody>\n",
       "</table>\n",
       "</div>"
      ],
      "text/plain": [
       "            Pais        Provincia       Ciudad  Zona Barrio\n",
       "68792  Argentina  Capital Federal  P.Chacabuco  None   None\n",
       "68802  Argentina  Capital Federal  P.Chacabuco  None   None\n",
       "68813  Argentina  Capital Federal  P.Chacabuco  None   None\n",
       "68821  Argentina  Capital Federal  P.Chacabuco  None   None\n",
       "68835  Argentina  Capital Federal  P.Chacabuco  None   None"
      ]
     },
     "execution_count": 45,
     "metadata": {},
     "output_type": "execute_result"
    }
   ],
   "source": [
    "#localizo los indices de los titles que dicen Departamento en P.Chacabuco\n",
    "mask_chacabuco = data['title'] == 'Departamento en P.Chacabuco'\n",
    "data_lugares.loc[mask_chacabuco,'Ciudad'] = 'P.Chacabuco'\n",
    "data_lugares[mask_chacabuco].head()"
   ]
  },
  {
   "cell_type": "code",
   "execution_count": 46,
   "metadata": {},
   "outputs": [
    {
     "name": "stdout",
     "output_type": "stream",
     "text": [
      "4543\n",
      "La cantidad inicial de nulos en la columna ciudad es: 4543\n"
     ]
    }
   ],
   "source": [
    "#Reemplazo todos los nulls que quedan en 'Ciudad' por su respectivo valor de la columna 'Provincia'\n",
    "mask_null_ciudad= data_lugares['Ciudad'].isnull()\n",
    "print(mask_null_ciudad.sum())\n",
    "data['Ciudad_final'] = data_lugares['Ciudad']\n",
    "print('La cantidad inicial de nulos en la columna ciudad es:',data['Ciudad_final'].isnull().sum())\n",
    "\n",
    "data_lugares['Ciudad_final'] = data_lugares['Ciudad']\n",
    "mask_ciudad_null = data_lugares['Ciudad'].isnull()\n",
    "data_lugares.loc[mask_ciudad_null,'Ciudad_final'] = data_lugares.loc[mask_ciudad_null,'Provincia']\n",
    "\n",
    "data[['Pais','Provincia','Ciudad','Zona','Barrio']] = data_lugares[['Pais','Provincia','Ciudad_final','Zona','Barrio']]\n",
    "\n",
    "\n",
    "data[['Pais','Provincia','Ciudad','Zona','Barrio']]\n",
    "\n",
    "data['Ubicacion'] = data['Provincia'] + ' - ' + data['Ciudad']\n",
    "\n",
    "\n",
    "\n"
   ]
  },
  {
   "cell_type": "code",
   "execution_count": 47,
   "metadata": {},
   "outputs": [
    {
     "data": {
      "text/plain": [
       "Index(['operation', 'property_type', 'place_name', 'place_with_parent_names',\n",
       "       'country_name', 'state_name', 'geonames_id', 'lat-lon', 'lat', 'lon',\n",
       "       'price', 'currency', 'price_aprox_local_currency', 'price_aprox_usd',\n",
       "       'surface_total_in_m2', 'surface_covered_in_m2', 'price_usd_per_m2',\n",
       "       'price_per_m2', 'floor', 'rooms', 'expenses', 'properati_url',\n",
       "       'description', 'title', 'image_thumbnail', 'm2_new', 'm2_new_title',\n",
       "       'amenities', 'portero', 'seguridad', 'aptoprof', 'terraza', 'balcon',\n",
       "       'patio', 'amb', 'dorm', 'disp', 'vista', 'piso', 'piso2', 'piso3',\n",
       "       'pozo', 'baulera', 'lavadero', 'garage', 'PH', 'precio',\n",
       "       'precio_titulo', 'precio2', 'precio3', 'm2_final', 'precio_final',\n",
       "       'piso_final', 'amb_final', 'precio_por_m2_final', 'Ciudad_final',\n",
       "       'Pais', 'Provincia', 'Ciudad', 'Zona', 'Barrio', 'Ubicacion'],\n",
       "      dtype='object')"
      ]
     },
     "execution_count": 47,
     "metadata": {},
     "output_type": "execute_result"
    }
   ],
   "source": [
    "data.columns"
   ]
  },
  {
   "cell_type": "code",
   "execution_count": 48,
   "metadata": {},
   "outputs": [
    {
     "name": "stdout",
     "output_type": "stream",
     "text": [
      "<class 'pandas.core.frame.DataFrame'>\n",
      "Int64Index: 121220 entries, 0 to 121219\n",
      "Data columns (total 25 columns):\n",
      " #   Column          Non-Null Count   Dtype  \n",
      "---  ------          --------------   -----  \n",
      " 0   Tipo_Propiedad  121220 non-null  object \n",
      " 1   lat-lon         69670 non-null   object \n",
      " 2   Expensas        14262 non-null   float64\n",
      " 3   description     121220 non-null  object \n",
      " 4   Titulo          121220 non-null  object \n",
      " 5   amenities       121220 non-null  int64  \n",
      " 6   portero         121220 non-null  int64  \n",
      " 7   seguridad       121220 non-null  int64  \n",
      " 8   aptoprof        121220 non-null  int64  \n",
      " 9   terraza         121220 non-null  int64  \n",
      " 10  balcon          121220 non-null  int64  \n",
      " 11  patio           121220 non-null  int64  \n",
      " 12  dorm            43552 non-null   float64\n",
      " 13  disp            46725 non-null   float64\n",
      " 14  vista           121220 non-null  int64  \n",
      " 15  pozo            121220 non-null  int64  \n",
      " 16  baulera         121220 non-null  int64  \n",
      " 17  lavadero        121220 non-null  int64  \n",
      " 18  garage          121220 non-null  int64  \n",
      " 19  Total_M2        88270 non-null   float64\n",
      " 20  Precio_USD      102772 non-null  float64\n",
      " 21  Nro_Piso        41955 non-null   float64\n",
      " 22  Nro_Ambientes   66117 non-null   float64\n",
      " 23  Precio_M2       90242 non-null   float64\n",
      " 24  Ubicacion       121220 non-null  object \n",
      "dtypes: float64(8), int64(12), object(5)\n",
      "memory usage: 24.0+ MB\n"
     ]
    }
   ],
   "source": [
    "data.drop(['operation','place_name','country_name','geonames_id','lat','price','currency','price_aprox_local_currency','price_aprox_usd',\n",
    "          'surface_total_in_m2','surface_covered_in_m2','price_usd_per_m2','price_per_m2','floor','rooms','properati_url','image_thumbnail',\n",
    "         'm2_new','piso','piso2','m2_new_title','piso3','precio','precio_titulo','precio2','precio3','state_name','PH','amb','lon','Ciudad_final','Pais','Provincia','Ciudad','Zona','Barrio','place_with_parent_names'],axis=1,inplace=True)\n",
    "\n",
    "data.rename(columns={ 'property_type': 'Tipo_Propiedad',\n",
    "                    'expenses': 'Expensas',\n",
    "                    'm2_final': 'Total_M2',\n",
    "                    'precio_final': 'Precio_USD',\n",
    "                    'piso_final': 'Nro_Piso',\n",
    "                    'amb_final': 'Nro_Ambientes',\n",
    "                    'precio_por_m2_final': 'Precio_M2',\n",
    "                    'title':'Titulo',                     \n",
    "                    }, inplace=True)\n",
    "\n",
    "data.info()"
   ]
  },
  {
   "cell_type": "raw",
   "metadata": {},
   "source": [
    "                                                                        \n",
    "    \n",
    "                                                                            LIMPIEZA DEL DATASET\n",
    "    \n",
    "    "
   ]
  },
  {
   "cell_type": "code",
   "execution_count": 49,
   "metadata": {},
   "outputs": [
    {
     "name": "stdout",
     "output_type": "stream",
     "text": [
      "la cantidad de filas despues de borrar datos con NaN debido a Total_M2 es: 88270\n",
      "la cantidad de filas despues de borrar datos con NaN debido a Precio_M2 es: 73521\n"
     ]
    }
   ],
   "source": [
    "#Tiro indices que tienen NaN\n",
    "mask = data['Total_M2'].isnull()\n",
    "indices_borrar = mask[mask].index\n",
    "data.drop(labels = indices_borrar , inplace = True)\n",
    "print('la cantidad de filas despues de borrar datos con NaN debido a Total_M2 es:', data.shape[0])\n",
    "mask = data['Precio_M2'].isnull()\n",
    "indices_borrar = mask[mask].index\n",
    "data.drop(labels = indices_borrar , inplace = True)\n",
    "print('la cantidad de filas despues de borrar datos con NaN debido a Precio_M2 es:', data.shape[0])\n",
    "\n",
    "\n",
    "\n",
    "\n",
    "data.reset_index(drop=True,inplace=True)"
   ]
  },
  {
   "cell_type": "code",
   "execution_count": 50,
   "metadata": {},
   "outputs": [
    {
     "name": "stdout",
     "output_type": "stream",
     "text": [
      "filas a borrar: 394\n"
     ]
    }
   ],
   "source": [
    "#borro todos dato que no tenga como minimo 3 registros agrupados por tipo de propiedad y ubicacion\n",
    "data['tipoYubicacion'] = data['Tipo_Propiedad'] + data['Ubicacion']\n",
    "mask_unicos = data['tipoYubicacion'].value_counts()< 3\n",
    "registros_unicos = list(data['tipoYubicacion'].value_counts()[mask_unicos].index)\n",
    "data['a_borrar'] = data['tipoYubicacion'].apply(lambda x : x if x not in registros_unicos else 'borrar')\n",
    "print('filas a borrar:',(data['a_borrar']=='borrar').value_counts()[1])"
   ]
  },
  {
   "cell_type": "code",
   "execution_count": 51,
   "metadata": {},
   "outputs": [
    {
     "name": "stdout",
     "output_type": "stream",
     "text": [
      "numero de filas despues de borrar datos unicos: 73127\n"
     ]
    }
   ],
   "source": [
    "borrar_indices = data['a_borrar'][data['a_borrar']=='borrar'].index\n",
    "data.drop(labels = borrar_indices , inplace = True)\n",
    "data.reset_index(drop=True,inplace=True)\n",
    "print('numero de filas despues de borrar datos unicos:',data.shape[0])\n",
    "data.drop(['a_borrar'],axis = 1 , inplace = True)\n"
   ]
  },
  {
   "cell_type": "code",
   "execution_count": 52,
   "metadata": {},
   "outputs": [],
   "source": [
    "#Agrupo datos por Tipo de propiedad y ubicacion para luego limpiar outliers \n",
    "grouped_stats = data.groupby(['Tipo_Propiedad','Ubicacion']).describe()"
   ]
  },
  {
   "cell_type": "code",
   "execution_count": 53,
   "metadata": {},
   "outputs": [
    {
     "data": {
      "text/plain": [
       "MultiIndex([(   'PH', 'Bs.As. G.B.A. Zona Norte - Bs.As. G.B.A. Zona Norte'),\n",
       "            (   'PH',                  'Bs.As. G.B.A. Zona Norte - Escobar'),\n",
       "            (   'PH',       'Bs.As. G.B.A. Zona Norte - General San Martín'),\n",
       "            (   'PH',      'Bs.As. G.B.A. Zona Norte - Malvinas Argentinas'),\n",
       "            (   'PH',             'Bs.As. G.B.A. Zona Norte - San Fernando'),\n",
       "            (   'PH',               'Bs.As. G.B.A. Zona Norte - San Isidro'),\n",
       "            (   'PH',               'Bs.As. G.B.A. Zona Norte - San Miguel'),\n",
       "            (   'PH',                    'Bs.As. G.B.A. Zona Norte - Tigre'),\n",
       "            (   'PH',            'Bs.As. G.B.A. Zona Norte - Vicente López'),\n",
       "            (   'PH',               'Bs.As. G.B.A. Zona Oeste - Hurlingham'),\n",
       "            ...\n",
       "            ('store',                                   'Córdoba - Punilla'),\n",
       "            ('store',                          'Córdoba - Villa Carlos Paz'),\n",
       "            ('store',                    'Córdoba - Villa General Belgrano'),\n",
       "            ('store',                                   'Mendoza - Mendoza'),\n",
       "            ('store',                 'Río Negro - San Carlos de Bariloche'),\n",
       "            ('store',                                    'San Luis - Merlo'),\n",
       "            ('store',                                  'Santa Fe - Rosario'),\n",
       "            ('store',                                 'Santa Fe - Santa Fe'),\n",
       "            ('store',                     'Tucumán - San Miguel de Tucumán'),\n",
       "            ('store',                                   'Tucumán - Tucumán')],\n",
       "           names=['Tipo_Propiedad', 'Ubicacion'], length=558)"
      ]
     },
     "execution_count": 53,
     "metadata": {},
     "output_type": "execute_result"
    }
   ],
   "source": [
    "grouped_stats.index"
   ]
  },
  {
   "cell_type": "code",
   "execution_count": 54,
   "metadata": {},
   "outputs": [],
   "source": [
    "def no_outliers(data,to_clean):\n",
    "    global data_clean\n",
    "    for col in to_clean:\n",
    "        multi_ind = grouped_stats[col].index\n",
    "        for i in multi_ind:\n",
    "            q1 = grouped_stats[col].loc[i]['25%']\n",
    "            q3 = grouped_stats[col].loc[i]['75%']\n",
    "            iqr = q3-q1\n",
    "            sup = q3 + 1.5 * iqr #a partir de sup el dato es outlier \n",
    "            inf = q1 - 1.5 * iqr #por debajo de inf el dato es outlier \n",
    "            \n",
    "            mask = data['tipoYubicacion'] == i[0] + i[1]\n",
    "            indices_mask = data['tipoYubicacion'][mask].index\n",
    "            temp = data.loc[indices_mask, col] #creo un dataframe temporal con la info solo de los indices\n",
    "            temp = temp.apply(lambda x : x  if x > inf and  x < sup else np.nan) #le aplico el filtro de outliers\n",
    "            #reemplazo nuevamente por nuevos valores sin outliers\n",
    "            data.loc[indices_mask,col] = temp.loc[indices_mask]\n",
    "          \n",
    "\n",
    "    data_clean = data\n",
    "    return round(data_clean.describe(),2)"
   ]
  },
  {
   "cell_type": "code",
   "execution_count": 55,
   "metadata": {},
   "outputs": [
    {
     "data": {
      "text/html": [
       "<div>\n",
       "<style scoped>\n",
       "    .dataframe tbody tr th:only-of-type {\n",
       "        vertical-align: middle;\n",
       "    }\n",
       "\n",
       "    .dataframe tbody tr th {\n",
       "        vertical-align: top;\n",
       "    }\n",
       "\n",
       "    .dataframe thead th {\n",
       "        text-align: right;\n",
       "    }\n",
       "</style>\n",
       "<table border=\"1\" class=\"dataframe\">\n",
       "  <thead>\n",
       "    <tr style=\"text-align: right;\">\n",
       "      <th></th>\n",
       "      <th>Expensas</th>\n",
       "      <th>amenities</th>\n",
       "      <th>portero</th>\n",
       "      <th>seguridad</th>\n",
       "      <th>aptoprof</th>\n",
       "      <th>terraza</th>\n",
       "      <th>balcon</th>\n",
       "      <th>patio</th>\n",
       "      <th>dorm</th>\n",
       "      <th>disp</th>\n",
       "      <th>vista</th>\n",
       "      <th>pozo</th>\n",
       "      <th>baulera</th>\n",
       "      <th>lavadero</th>\n",
       "      <th>garage</th>\n",
       "      <th>Total_M2</th>\n",
       "      <th>Precio_USD</th>\n",
       "      <th>Nro_Piso</th>\n",
       "      <th>Nro_Ambientes</th>\n",
       "      <th>Precio_M2</th>\n",
       "    </tr>\n",
       "  </thead>\n",
       "  <tbody>\n",
       "    <tr>\n",
       "      <th>count</th>\n",
       "      <td>10212.00</td>\n",
       "      <td>73127.00</td>\n",
       "      <td>73127.00</td>\n",
       "      <td>73127.00</td>\n",
       "      <td>73127.00</td>\n",
       "      <td>73127.00</td>\n",
       "      <td>73127.00</td>\n",
       "      <td>73127.00</td>\n",
       "      <td>24698.0</td>\n",
       "      <td>29861.00</td>\n",
       "      <td>73127.00</td>\n",
       "      <td>73127.00</td>\n",
       "      <td>73127.00</td>\n",
       "      <td>73127.00</td>\n",
       "      <td>73127.00</td>\n",
       "      <td>68841.00</td>\n",
       "      <td>68449.00</td>\n",
       "      <td>26675.00</td>\n",
       "      <td>42853.00</td>\n",
       "      <td>70156.00</td>\n",
       "    </tr>\n",
       "    <tr>\n",
       "      <th>mean</th>\n",
       "      <td>2906.95</td>\n",
       "      <td>0.25</td>\n",
       "      <td>0.04</td>\n",
       "      <td>0.03</td>\n",
       "      <td>0.05</td>\n",
       "      <td>0.25</td>\n",
       "      <td>0.39</td>\n",
       "      <td>0.29</td>\n",
       "      <td>2.4</td>\n",
       "      <td>0.30</td>\n",
       "      <td>0.22</td>\n",
       "      <td>0.11</td>\n",
       "      <td>0.11</td>\n",
       "      <td>0.34</td>\n",
       "      <td>0.46</td>\n",
       "      <td>142.56</td>\n",
       "      <td>193565.20</td>\n",
       "      <td>2.77</td>\n",
       "      <td>2.89</td>\n",
       "      <td>1855.75</td>\n",
       "    </tr>\n",
       "    <tr>\n",
       "      <th>std</th>\n",
       "      <td>15784.34</td>\n",
       "      <td>0.43</td>\n",
       "      <td>0.19</td>\n",
       "      <td>0.17</td>\n",
       "      <td>0.22</td>\n",
       "      <td>0.43</td>\n",
       "      <td>0.49</td>\n",
       "      <td>0.46</td>\n",
       "      <td>1.0</td>\n",
       "      <td>0.46</td>\n",
       "      <td>0.41</td>\n",
       "      <td>0.32</td>\n",
       "      <td>0.31</td>\n",
       "      <td>0.47</td>\n",
       "      <td>0.50</td>\n",
       "      <td>158.05</td>\n",
       "      <td>160749.76</td>\n",
       "      <td>3.84</td>\n",
       "      <td>1.35</td>\n",
       "      <td>934.14</td>\n",
       "    </tr>\n",
       "    <tr>\n",
       "      <th>min</th>\n",
       "      <td>1.00</td>\n",
       "      <td>0.00</td>\n",
       "      <td>0.00</td>\n",
       "      <td>0.00</td>\n",
       "      <td>0.00</td>\n",
       "      <td>0.00</td>\n",
       "      <td>0.00</td>\n",
       "      <td>0.00</td>\n",
       "      <td>0.0</td>\n",
       "      <td>0.00</td>\n",
       "      <td>0.00</td>\n",
       "      <td>0.00</td>\n",
       "      <td>0.00</td>\n",
       "      <td>0.00</td>\n",
       "      <td>0.00</td>\n",
       "      <td>22.00</td>\n",
       "      <td>30000.00</td>\n",
       "      <td>0.00</td>\n",
       "      <td>0.00</td>\n",
       "      <td>200.00</td>\n",
       "    </tr>\n",
       "    <tr>\n",
       "      <th>25%</th>\n",
       "      <td>1000.00</td>\n",
       "      <td>0.00</td>\n",
       "      <td>0.00</td>\n",
       "      <td>0.00</td>\n",
       "      <td>0.00</td>\n",
       "      <td>0.00</td>\n",
       "      <td>0.00</td>\n",
       "      <td>0.00</td>\n",
       "      <td>2.0</td>\n",
       "      <td>0.00</td>\n",
       "      <td>0.00</td>\n",
       "      <td>0.00</td>\n",
       "      <td>0.00</td>\n",
       "      <td>0.00</td>\n",
       "      <td>0.00</td>\n",
       "      <td>50.00</td>\n",
       "      <td>90000.00</td>\n",
       "      <td>0.00</td>\n",
       "      <td>2.00</td>\n",
       "      <td>1226.38</td>\n",
       "    </tr>\n",
       "    <tr>\n",
       "      <th>50%</th>\n",
       "      <td>1900.00</td>\n",
       "      <td>0.00</td>\n",
       "      <td>0.00</td>\n",
       "      <td>0.00</td>\n",
       "      <td>0.00</td>\n",
       "      <td>0.00</td>\n",
       "      <td>0.00</td>\n",
       "      <td>0.00</td>\n",
       "      <td>2.0</td>\n",
       "      <td>0.00</td>\n",
       "      <td>0.00</td>\n",
       "      <td>0.00</td>\n",
       "      <td>0.00</td>\n",
       "      <td>0.00</td>\n",
       "      <td>0.00</td>\n",
       "      <td>78.00</td>\n",
       "      <td>140000.00</td>\n",
       "      <td>1.00</td>\n",
       "      <td>3.00</td>\n",
       "      <td>1775.00</td>\n",
       "    </tr>\n",
       "    <tr>\n",
       "      <th>75%</th>\n",
       "      <td>3600.00</td>\n",
       "      <td>0.00</td>\n",
       "      <td>0.00</td>\n",
       "      <td>0.00</td>\n",
       "      <td>0.00</td>\n",
       "      <td>1.00</td>\n",
       "      <td>1.00</td>\n",
       "      <td>1.00</td>\n",
       "      <td>3.0</td>\n",
       "      <td>1.00</td>\n",
       "      <td>0.00</td>\n",
       "      <td>0.00</td>\n",
       "      <td>0.00</td>\n",
       "      <td>1.00</td>\n",
       "      <td>1.00</td>\n",
       "      <td>175.00</td>\n",
       "      <td>241800.00</td>\n",
       "      <td>4.00</td>\n",
       "      <td>4.00</td>\n",
       "      <td>2388.75</td>\n",
       "    </tr>\n",
       "    <tr>\n",
       "      <th>max</th>\n",
       "      <td>1200000.00</td>\n",
       "      <td>1.00</td>\n",
       "      <td>1.00</td>\n",
       "      <td>1.00</td>\n",
       "      <td>1.00</td>\n",
       "      <td>1.00</td>\n",
       "      <td>1.00</td>\n",
       "      <td>1.00</td>\n",
       "      <td>12.0</td>\n",
       "      <td>1.00</td>\n",
       "      <td>1.00</td>\n",
       "      <td>1.00</td>\n",
       "      <td>1.00</td>\n",
       "      <td>1.00</td>\n",
       "      <td>1.00</td>\n",
       "      <td>1000.00</td>\n",
       "      <td>3600000.00</td>\n",
       "      <td>20.00</td>\n",
       "      <td>10.00</td>\n",
       "      <td>6976.74</td>\n",
       "    </tr>\n",
       "  </tbody>\n",
       "</table>\n",
       "</div>"
      ],
      "text/plain": [
       "         Expensas  amenities   portero  seguridad  aptoprof   terraza  \\\n",
       "count    10212.00   73127.00  73127.00   73127.00  73127.00  73127.00   \n",
       "mean      2906.95       0.25      0.04       0.03      0.05      0.25   \n",
       "std      15784.34       0.43      0.19       0.17      0.22      0.43   \n",
       "min          1.00       0.00      0.00       0.00      0.00      0.00   \n",
       "25%       1000.00       0.00      0.00       0.00      0.00      0.00   \n",
       "50%       1900.00       0.00      0.00       0.00      0.00      0.00   \n",
       "75%       3600.00       0.00      0.00       0.00      0.00      1.00   \n",
       "max    1200000.00       1.00      1.00       1.00      1.00      1.00   \n",
       "\n",
       "         balcon     patio     dorm      disp     vista      pozo   baulera  \\\n",
       "count  73127.00  73127.00  24698.0  29861.00  73127.00  73127.00  73127.00   \n",
       "mean       0.39      0.29      2.4      0.30      0.22      0.11      0.11   \n",
       "std        0.49      0.46      1.0      0.46      0.41      0.32      0.31   \n",
       "min        0.00      0.00      0.0      0.00      0.00      0.00      0.00   \n",
       "25%        0.00      0.00      2.0      0.00      0.00      0.00      0.00   \n",
       "50%        0.00      0.00      2.0      0.00      0.00      0.00      0.00   \n",
       "75%        1.00      1.00      3.0      1.00      0.00      0.00      0.00   \n",
       "max        1.00      1.00     12.0      1.00      1.00      1.00      1.00   \n",
       "\n",
       "       lavadero    garage  Total_M2  Precio_USD  Nro_Piso  Nro_Ambientes  \\\n",
       "count  73127.00  73127.00  68841.00    68449.00  26675.00       42853.00   \n",
       "mean       0.34      0.46    142.56   193565.20      2.77           2.89   \n",
       "std        0.47      0.50    158.05   160749.76      3.84           1.35   \n",
       "min        0.00      0.00     22.00    30000.00      0.00           0.00   \n",
       "25%        0.00      0.00     50.00    90000.00      0.00           2.00   \n",
       "50%        0.00      0.00     78.00   140000.00      1.00           3.00   \n",
       "75%        1.00      1.00    175.00   241800.00      4.00           4.00   \n",
       "max        1.00      1.00   1000.00  3600000.00     20.00          10.00   \n",
       "\n",
       "       Precio_M2  \n",
       "count   70156.00  \n",
       "mean     1855.75  \n",
       "std       934.14  \n",
       "min       200.00  \n",
       "25%      1226.38  \n",
       "50%      1775.00  \n",
       "75%      2388.75  \n",
       "max      6976.74  "
      ]
     },
     "execution_count": 55,
     "metadata": {},
     "output_type": "execute_result"
    }
   ],
   "source": [
    "no_outliers(data,['Expensas','Total_M2', 'Precio_USD', 'Precio_M2'])"
   ]
  },
  {
   "cell_type": "code",
   "execution_count": 56,
   "metadata": {},
   "outputs": [
    {
     "name": "stdout",
     "output_type": "stream",
     "text": [
      "la cantidad de filas despues de borrar datos con NaN debido a los outliers en Total_M2 es: 68841\n",
      "la cantidad de filas despues de borrar datos con NaN debido a los outliers en Precio_M2 es: 66463\n"
     ]
    }
   ],
   "source": [
    "#Tiro datos  que tienen NaN en 'Total_M2' ,  'Precio_M2' y 'Precio_USD'\n",
    "mask = data_clean['Total_M2'].isnull()\n",
    "indices_borrar = mask[mask].index\n",
    "data_clean.drop(labels = indices_borrar , inplace = True)\n",
    "print('la cantidad de filas despues de borrar datos con NaN debido a los outliers en Total_M2 es:', data_clean.shape[0])\n",
    "mask = data_clean['Precio_M2'].isnull()\n",
    "indices_borrar = mask[mask].index\n",
    "data_clean.drop(labels = indices_borrar , inplace = True)\n",
    "print('la cantidad de filas despues de borrar datos con NaN debido a los outliers en Precio_M2 es:', data_clean.shape[0])\n",
    "#mask = data_clean['Precio_USD'].isnull()\n",
    "#indices_borrar = mask[mask].index\n",
    "#data_clean.drop(labels = indices_borrar , inplace = True)\n",
    "#print('la cantidad de filas despues de borrar datos con NaN debido a los outliers en Precio_USD es:', data_clean.shape[0])\n",
    "\n",
    "\n",
    "\n",
    "data.reset_index(drop=True,inplace=True)"
   ]
  },
  {
   "cell_type": "code",
   "execution_count": 57,
   "metadata": {},
   "outputs": [],
   "source": [
    "#suponemos que los numeros de piso que no tienen datos es 0\n",
    "mask = data_clean['Nro_Piso'].isnull()\n",
    "data_clean.loc[mask,'Nro_Piso'] = 0\n"
   ]
  },
  {
   "cell_type": "raw",
   "metadata": {},
   "source": [
    "                                                                    VISUALIZACIÓN DE DATOS (Falta hacer upgrade)\n",
    "                                                                    \n",
    "                                                                    "
   ]
  },
  {
   "cell_type": "code",
   "execution_count": 58,
   "metadata": {},
   "outputs": [],
   "source": [
    "#print(data[['Ciudad','Precio_M2','Total_M2','Precio_USD']][data['Precio_M2']>6000])"
   ]
  },
  {
   "cell_type": "code",
   "execution_count": 59,
   "metadata": {},
   "outputs": [],
   "source": [
    "#data.to_csv(r'Archivo_OK.csv')"
   ]
  },
  {
   "cell_type": "raw",
   "metadata": {},
   "source": [
    "#Correlación entre todas las variables para las propiedades que pertenecen a capital federal\n",
    "plotdata = data_clean[data_clean[\"Provincia\"] == \"Capital Federal\"]\n",
    "corr = plotdata.corr()\n",
    "\n",
    "# Generate a mask for the upper triangle\n",
    "mask = np.triu(np.ones_like(corr, dtype=bool))\n",
    "\n",
    "# Set up the matplotlib figure\n",
    "f, ax = plt.subplots(figsize=(11, 9))\n",
    "\n",
    "# Generate a custom diverging colormap\n",
    "cmap = sns.diverging_palette(230, 20, as_cmap=True)\n",
    "\n",
    "# Draw the heatmap with the mask and correct aspect ratio\n",
    "sns.heatmap(corr, mask=mask, cmap=cmap, vmax=0.3, center=0,\n",
    "            square=True, linewidths=.5, cbar_kws={\"shrink\": .5})"
   ]
  },
  {
   "cell_type": "raw",
   "metadata": {},
   "source": [
    "#Jointplot para Precio vs Superficie en CABA\n",
    "plotdata = data_clean[data_clean[\"Provincia\"] == \"Capital Federal\"]\n",
    "g = sns.jointplot(x=\"Total_M2\", y=\"Precio_USD\", data=plotdata,\n",
    "                  kind=\"reg\",\n",
    "                  xlim=(20, 450), ylim=(0, 550000), height=7, scatter_kws={\"s\": 1})\n",
    "g.fig.suptitle(\"Precio vs Superficie en CABA\")\n",
    "#kind : { \"scatter\" | \"reg\" | \"resid\" | \"kde\" | \"hex\" }, optional"
   ]
  },
  {
   "cell_type": "raw",
   "metadata": {},
   "source": [
    "#data[\"Nro_Ambientes\"][data[\"Nro_Ambientes\"] < 1] = np.NaN\n",
    "plotdata = data_clean[data_clean[\"Provincia\"] == \"Capital Federal\"]\n",
    "ax = sns.boxplot(x=\"Nro_Ambientes\", y=\"Total_M2\", data=plotdata).set_title('M2 vs Nro de Ambientes en CABA')"
   ]
  },
  {
   "cell_type": "raw",
   "metadata": {},
   "source": [
    "plotdata = data_clean[data_clean[\"Provincia\"] == \"Capital Federal\"]\n",
    "ax = sns.boxplot(x=\"Nro_Ambientes\", y=\"Precio_M2\", hue=\"amenities\", data=plotdata).set_title('Precio por amenities en CABA')"
   ]
  },
  {
   "cell_type": "raw",
   "metadata": {},
   "source": [
    "plotdata = data_clean[data_clean[\"Provincia\"] == \"Capital Federal\"]\n",
    "ax = sns.boxplot(x=\"Nro_Ambientes\", y=\"Precio_M2\", hue=\"PH\", data=data_clean).set_title('Precio por PH en CABA')"
   ]
  },
  {
   "cell_type": "raw",
   "metadata": {},
   "source": [
    "plotdata = data_clean[data_clean[\"Provincia\"] == \"Capital Federal\"]\n",
    "ax = sns.boxplot(x=\"Nro_Piso\", y=\"Precio_M2\", data=data_clean).set_title('Precio por piso en CABA')"
   ]
  },
  {
   "cell_type": "raw",
   "metadata": {},
   "source": [
    "plotdata = data_clean[data_clean[\"Ciudad\"] == \"Palermo\"]\n",
    "ax = sns.boxplot(x=\"Nro_Ambientes\", y=\"Precio_M2\", hue=\"seguridad\",data=data_clean).set_title('Precio/M2 en Palermo')"
   ]
  },
  {
   "cell_type": "raw",
   "metadata": {},
   "source": [
    "#PLOTEO DE DATOS NULOS ORIGINALES VS FINALES\n",
    "\n",
    "#Defino mis conjuntos de datos\n",
    "datos = ['Precio_USD','Total_M2','Precio_M2','Nro_Piso','Nro_Ambientes']\n",
    "porcentaje_nulos_originales = [16.84,32.44,43.39,93.48,60.91]\n",
    "porcentaje_nulos_finales = [16.49,28.08,30.15,65.39,45.46]\n",
    "\n",
    "#Creo barras para mi primer conjunto de datos (originales)\n",
    "plt.bar(datos,porcentaje_nulos_originales,align = 'center')\n",
    "\n",
    "#Creo barras para mi segundo conjunto de datos (finales)\n",
    "plt.bar(datos,porcentaje_nulos_finales,color='g',align = 'center')\n",
    "\n",
    "#Doy titulo a la grafica\n",
    "plt.title('Comparacion entre Nulos Iniciales y Finales',size=13)\n",
    "\n",
    "#Incluyo la leyenda\n",
    "plt.legend(['Nulos data original','Nulos data final'])\n",
    "\n",
    "#Defino el titulo de mi eje y\n",
    "plt.ylabel('% de valores nulos',size=12)\n",
    "\n",
    "#Defino valor minimo y maximo del eje y\n",
    "plt.ylim((0,100))\n",
    "\n",
    "#Pongo los datos junto a las barras\n",
    "for datos , porcentaje_nulos_originales in enumerate(porcentaje_nulos_originales):\n",
    "    plt.text(datos , porcentaje_nulos_originales,str(porcentaje_nulos_originales))\n",
    "    \n",
    "    \n",
    "for datos , porcentaje_nulos_finales in enumerate(porcentaje_nulos_finales):\n",
    "    plt.text(datos , porcentaje_nulos_finales-5,str(porcentaje_nulos_finales))"
   ]
  },
  {
   "cell_type": "raw",
   "metadata": {},
   "source": [
    "#TABLA PARA IDENTIFICAR COLUMNAS RENOMBRADAS, DROPEADAS O QUE QUEDARON IGUALES\n",
    "data_original = pd.read_csv(data_location)\n",
    "columnas_data_original=data_original.columns\n",
    "nuevas_columnas= ['Drop','Drop','Drop','Ciudad','Drop','Pais','Provincia','Drop','Igual',\n",
    "                 'Drop','Drop','Drop','Drop','Drop','Precio_USD','Total_M2','Drop','Precio_M2','Drop','Nro_Piso','Nro_Ambientes',\n",
    "                 'Expensas','Drop','Igual','Titulo','Drop']\n",
    "\n",
    "dataFrame_columnas= pd.DataFrame(nuevas_columnas, index=[columnas_data_original], columns = ['Nuevo Nombre / Igual / Dropeada'])\n",
    "\n",
    "dataFrame_columnas"
   ]
  },
  {
   "cell_type": "raw",
   "metadata": {},
   "source": [
    "#FILTRO 1 o 0 PARA IDENTIFICAR PROVINCIAS CON DATOS MAYORES A 50 (1 cumple condicion, 0 no cumple condicion)\n",
    "\n",
    "#me armo una mascara que filtre solo las provincias que tienen mas de 50 registros\n",
    "mask = data_clean['Provincia'].value_counts()>50\n",
    "#De esa mascara me quedo solo con los TRUE y con el indice, que son las provincias que cumplen la condicion\n",
    "provincia_con_datos_mayores_a_50 = mask[mask].index\n",
    "#Convierto la Serie data['Provincia'] en una lista\n",
    "data_provincia = list(data_clean['Provincia'])\n",
    "\n",
    "#Me armo una lista vacia para apendear con 0 y 1 (1 si la provincia cumple la condicion de tener mas de 50 registros y 0 si no la cumple)\n",
    "\n",
    "valor_1_0 = []\n",
    "for provincia in data_provincia:\n",
    "    if provincia in provincia_con_datos_mayores_a_50:\n",
    "        valor_1_0.append(1)\n",
    "    else:\n",
    "        valor_1_0.append(0)\n",
    "\n",
    "#agrego al data set la lista        \n",
    "data_clean['valor_1_0']=valor_1_0\n",
    "data_clean['valor_1_0'].value_counts()\n",
    "\n",
    "#Verifico que los que los valores 0 correspondan a las provincias que no cumplian la condicion (Tenian False en la mask)\n",
    "data_clean.loc[data_clean['valor_1_0']==0,'Provincia'].value_counts()"
   ]
  },
  {
   "cell_type": "raw",
   "metadata": {},
   "source": [
    "#Top 5 de zonas Caras por mt2 en Capital Federal \n",
    "\n",
    "\n",
    "plotdata = data_clean[data_clean[\"Provincia\"] == \"Capital Federal\"]\n",
    "dfzone = plotdata.groupby('Ciudad').mean()['Precio_M2'].sort_values(ascending=False)[0:5]\n",
    "g = dfzone.sort_values().plot.barh(figsize=(14,5),color='g',fontsize=15, alpha=0.6);\n",
    "g.set_title(\"Precio(usd/m2) promedio por Ciudad\", fontsize=20)\n",
    "g.set_ylabel(\"Provincia\", fontsize=18)\n",
    "g.set_xlabel(\"USD/m2\", fontsize=18)\n",
    "plt.show()"
   ]
  },
  {
   "cell_type": "raw",
   "metadata": {},
   "source": [
    "#Top 5 de zonas Baratas por mt2 en Capital Federal\n",
    "\n",
    "\n",
    "dfzone = plotdata.groupby('Ciudad').mean()['Precio_M2'].sort_values(ascending=True)[0:5]\n",
    "g = dfzone.sort_values().plot.barh(figsize=(14,5),color='g',fontsize=15, alpha=0.6);\n",
    "g.set_title(\"Precio(usd/m2) promedio por Ciudad\", fontsize=20)\n",
    "g.set_ylabel(\"Provincia\", fontsize=18)\n",
    "g.set_xlabel(\"USD/m2\", fontsize=18)\n",
    "plt.show()"
   ]
  },
  {
   "cell_type": "raw",
   "metadata": {},
   "source": [
    "#PLOTEO DE DATOS TOP 5 PRECIO PROMEDIO USD/M2 SEGUN PROVINCIA\n",
    "#Selecciono la data cuyos registros sean mayor a x numero. Dicha condicion se ve reflejada en la columna 'valor_1_0' (1 si cumple condicion, 0 si no lo cumple)\n",
    "data_provincia_mayor_a_50_registros = data_clean.loc[data_clean['valor_1_0']==1]\n",
    "data_provincia_mayor_a_50_registros\n",
    "dfzone = data_provincia_mayor_a_50_registros.groupby('Provincia').mean()['Precio_M2'].sort_values(ascending = False)[0:5]\n",
    "g = dfzone.sort_values().plot.barh(figsize=(14,5),color='g',fontsize = 15, alpha = 0.6)\n",
    "g.set_title('TOP 5  Precio Promedio (USD/M2) Según Provincia',fontsize=20)\n",
    "g.set_ylabel('Provincia', fontsize=18)\n",
    "g.set_xlabel('USD/M2', fontsize=18)\n",
    "plt.show()"
   ]
  },
  {
   "cell_type": "code",
   "execution_count": null,
   "metadata": {},
   "outputs": [],
   "source": []
  },
  {
   "cell_type": "raw",
   "metadata": {},
   "source": [
    "#Contedo de columnas nuevas y modificadas\n",
    "\n",
    "columnas_originales = data_original.shape[1]\n",
    "print('El numero de columnas originales es:',columnas_originales)\n",
    "columnas_finales = data_clean.shape[1]\n",
    "print('El numero de columnas finales es:',columnas_finales)\n",
    "columnas_dropeadas = dataFrame_columnas['Nuevo Nombre / Igual / Dropeada']=='Drop'\n",
    "print('El numero de columnas dropeadas es:',columnas_dropeadas.sum())\n",
    "columnas_conservan_nombre = dataFrame_columnas['Nuevo Nombre / Igual / Dropeada']=='Igual'\n",
    "print('El numero de columnas que conservan el mismo nombre es:',columnas_conservan_nombre.sum())\n",
    "columnas_renombradas = columnas_originales - columnas_dropeadas.sum()-columnas_conservan_nombre.sum()\n",
    "print('El numero de columnas renombradas es:',columnas_renombradas)\n",
    "columnas_nuevas = columnas_finales - columnas_conservan_nombre.sum() - columnas_renombradas\n",
    "print('El numero de columnas nuevas es:',columnas_nuevas)"
   ]
  },
  {
   "cell_type": "raw",
   "metadata": {},
   "source": [
    "#PLOTEO MODIFICACION EN COLUMNAS\n",
    "\n",
    "#Defino mis conjuntos de datos\n",
    "columnas = ['Originales','Drop','Iguales','Rename','Nuevas','Finales']\n",
    "cantidad = [columnas_originales,columnas_dropeadas.sum(),columnas_conservan_nombre.sum(),columnas_renombradas,columnas_nuevas,columnas_finales]\n",
    "\n",
    "\n",
    "#Creo barras para mi primer conjunto de datos (originales)\n",
    "plt.bar(columnas,cantidad,align = 'center')\n",
    "\n",
    "\n",
    "#Doy titulo a la grafica\n",
    "plt.title('Cambios Hechos en Columnas',size=13)\n",
    "\n",
    "#Incluyo la leyenda\n",
    "plt.legend(['Columnas'],loc=2)\n",
    "\n",
    "#Defino el titulo de mi eje y\n",
    "plt.ylabel('Cantidad',size=12)\n",
    "\n",
    "#Defino valor minimo y maximo del eje y\n",
    "plt.ylim((0,35))\n",
    "\n",
    "#Pongo los datos junto a las barras\n",
    "for columnas , cantidad in enumerate(cantidad):\n",
    "    plt.text(columnas , cantidad+1,str(cantidad))"
   ]
  },
  {
   "cell_type": "code",
   "execution_count": 61,
   "metadata": {},
   "outputs": [],
   "source": [
    "data_clean.to_csv('TP2_dataset.csv',index = False)"
   ]
  },
  {
   "cell_type": "code",
   "execution_count": null,
   "metadata": {},
   "outputs": [],
   "source": []
  }
 ],
 "metadata": {
  "kernelspec": {
   "display_name": "Python 3",
   "language": "python",
   "name": "python3"
  },
  "language_info": {
   "codemirror_mode": {
    "name": "ipython",
    "version": 3
   },
   "file_extension": ".py",
   "mimetype": "text/x-python",
   "name": "python",
   "nbconvert_exporter": "python",
   "pygments_lexer": "ipython3",
   "version": "3.7.9"
  }
 },
 "nbformat": 4,
 "nbformat_minor": 4
}
